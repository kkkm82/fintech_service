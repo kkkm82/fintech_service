{
 "cells": [
  {
   "cell_type": "markdown",
   "id": "2d0f3078",
   "metadata": {},
   "source": [
    "# 3. 연산자의 종류와 활용"
   ]
  },
  {
   "cell_type": "markdown",
   "id": "a1c9d977",
   "metadata": {},
   "source": [
    "## 1) 연산자의 종류\n",
    "<!-- 곱셈 기호 사라지면 앞에 \\ 붙이면 됨 -->\n",
    "* 산술연산자 : +,-,\\*,/,%//,\\**\n",
    "* 할당연산자 : =,+=,-=,*=,/=,%=\n",
    "* 비교연산자 : ==,!=, >,<,>=,<=\n",
    "* 논리연산자 : and,or,not\n",
    "* 식별연산자 : is, is not\n",
    "* 멤버연산자 : in, not in"
   ]
  },
  {
   "cell_type": "markdown",
   "id": "aed597f4",
   "metadata": {},
   "source": [
    "* 산술연산자 : +,-,\\*,/,%//,\\**"
   ]
  },
  {
   "cell_type": "code",
   "execution_count": 1,
   "id": "d7982f5c",
   "metadata": {},
   "outputs": [
    {
     "data": {
      "text/plain": [
       "2"
      ]
     },
     "execution_count": 1,
     "metadata": {},
     "output_type": "execute_result"
    }
   ],
   "source": [
    "1 + 1"
   ]
  },
  {
   "cell_type": "code",
   "execution_count": 2,
   "id": "2b178a01",
   "metadata": {},
   "outputs": [
    {
     "data": {
      "text/plain": [
       "1"
      ]
     },
     "execution_count": 2,
     "metadata": {},
     "output_type": "execute_result"
    }
   ],
   "source": [
    "2 - 1"
   ]
  },
  {
   "cell_type": "code",
   "execution_count": 3,
   "id": "9f161a53",
   "metadata": {},
   "outputs": [
    {
     "data": {
      "text/plain": [
       "9"
      ]
     },
     "execution_count": 3,
     "metadata": {},
     "output_type": "execute_result"
    }
   ],
   "source": [
    "3 * 3"
   ]
  },
  {
   "cell_type": "code",
   "execution_count": 6,
   "id": "659564a9",
   "metadata": {},
   "outputs": [
    {
     "data": {
      "text/plain": [
       "2.0"
      ]
     },
     "execution_count": 6,
     "metadata": {},
     "output_type": "execute_result"
    }
   ],
   "source": [
    "# 정수 / 정수 = 실수로 나옴 파이썬에서는\n",
    "4/2"
   ]
  },
  {
   "cell_type": "code",
   "execution_count": 7,
   "id": "26ec9f19",
   "metadata": {},
   "outputs": [
    {
     "name": "stdout",
     "output_type": "stream",
     "text": [
      "<class 'int'> 4\n",
      "<class 'int'> 2\n",
      "<class 'float'> 2.0\n"
     ]
    }
   ],
   "source": [
    "a=4\n",
    "b=2\n",
    "c=a/b\n",
    "print(type(a), a)\n",
    "print(type(b), b)\n",
    "print(type(c), c)"
   ]
  },
  {
   "cell_type": "code",
   "execution_count": 11,
   "id": "4a4ff7b2",
   "metadata": {},
   "outputs": [
    {
     "name": "stdout",
     "output_type": "stream",
     "text": [
      "0\n",
      "1\n"
     ]
    }
   ],
   "source": [
    "# 나머지 출력\n",
    "print(4%2)\n",
    "print(5%2)"
   ]
  },
  {
   "cell_type": "code",
   "execution_count": 13,
   "id": "f1487a71",
   "metadata": {},
   "outputs": [
    {
     "data": {
      "text/plain": [
       "3"
      ]
     },
     "execution_count": 13,
     "metadata": {},
     "output_type": "execute_result"
    }
   ],
   "source": [
    "# 몫 출력\n",
    "6//2"
   ]
  },
  {
   "cell_type": "code",
   "execution_count": 14,
   "id": "44fd2491",
   "metadata": {},
   "outputs": [
    {
     "data": {
      "text/plain": [
       "9"
      ]
     },
     "execution_count": 14,
     "metadata": {},
     "output_type": "execute_result"
    }
   ],
   "source": [
    "3**2"
   ]
  },
  {
   "cell_type": "markdown",
   "id": "edc5eaf0",
   "metadata": {},
   "source": [
    "* 괄호를 사용해서 연산 우선순위 지정하기"
   ]
  },
  {
   "cell_type": "code",
   "execution_count": 19,
   "id": "7a8c2b18",
   "metadata": {},
   "outputs": [
    {
     "name": "stdout",
     "output_type": "stream",
     "text": [
      "23\n",
      "35\n"
     ]
    }
   ],
   "source": [
    "# 연산 우선순위는 곱셈보다 괄호가 먼저 계산됨\n",
    "print(3+4*5)\n",
    "print((3+4)*5)"
   ]
  },
  {
   "cell_type": "code",
   "execution_count": 20,
   "id": "c5ccb5b9",
   "metadata": {},
   "outputs": [
    {
     "data": {
      "text/plain": [
       "-1371"
      ]
     },
     "execution_count": 20,
     "metadata": {},
     "output_type": "execute_result"
    }
   ],
   "source": [
    "# 문제 : 3의 4제곱에서 100을 뺀 값의 3제곱을 5로 나눈 몫에 1을 더한 값을 구하시오\n",
    "((((3**4)-100)**3)//5)+1"
   ]
  },
  {
   "cell_type": "code",
   "execution_count": 30,
   "id": "caeedf1f",
   "metadata": {},
   "outputs": [
    {
     "name": "stdout",
     "output_type": "stream",
     "text": [
      "초를 입력하세요:1234\n",
      "초를 입력하세요 : 1234 초(sec)는 20 분(min) 34 초(sec) 입니다.\n"
     ]
    }
   ],
   "source": [
    "# 문제 : 초를 입력하면 '몇 분 몇 초'로 환산해주는 코드를 다음과 같이 출력하도록 작성하시오.\n",
    "# input은 무조건 문자형으로 받기 때문에 형변환이 필요하다.\n",
    "a = int(input(\"초를 입력하세요:\"))\n",
    "b = a//60\n",
    "c = a%60\n",
    "print(\"초를 입력하세요 :\", a,\"초(sec)는\", b,\"분(min)\", c,\"초(sec) 입니다.\")"
   ]
  },
  {
   "cell_type": "markdown",
   "id": "24a2d5e8",
   "metadata": {},
   "source": [
    "* 할당연산자 : =,+=,-=,*=,/=,%=\n",
    "* = : 오른쪽의 자료를 왼쪽 변수에 할당\n",
    "* += : 왼쪽 변수 값에 오른쪽 값을 더해서 왼쪽 변수에 할당(-,*,/도 동일)"
   ]
  },
  {
   "cell_type": "code",
   "execution_count": 34,
   "id": "65bf0f9f",
   "metadata": {},
   "outputs": [
    {
     "data": {
      "text/plain": [
       "4"
      ]
     },
     "execution_count": 34,
     "metadata": {},
     "output_type": "execute_result"
    }
   ],
   "source": [
    "# a = a + 2\n",
    "a=2\n",
    "a+=2\n",
    "a"
   ]
  },
  {
   "cell_type": "markdown",
   "id": "e54756e6",
   "metadata": {},
   "source": [
    "* 비교연산자 : ==,!=, >,<,>=,<="
   ]
  },
  {
   "cell_type": "code",
   "execution_count": 36,
   "id": "09407850",
   "metadata": {},
   "outputs": [],
   "source": [
    "# == : 같으면 True. 다르면 False\n",
    "# != : 다르면 True, 같으면 False\n",
    "a=3\n",
    "b=3.0\n",
    "c=5\n",
    "d=\"Python\"\n",
    "e=\"python\"\n",
    "f=True\n",
    "g=False"
   ]
  },
  {
   "cell_type": "code",
   "execution_count": 44,
   "id": "4981f15b",
   "metadata": {},
   "outputs": [
    {
     "name": "stdout",
     "output_type": "stream",
     "text": [
      "True\n",
      "False\n",
      "False\n",
      "False\n",
      "False\n",
      "True\n",
      "=====\n",
      "False\n",
      "True\n",
      "True\n",
      "True\n",
      "True\n",
      "False\n"
     ]
    }
   ],
   "source": [
    "print(a==b)\n",
    "print(a==c)\n",
    "print(d==e)\n",
    "print(f==g)\n",
    "print(d==f)\n",
    "print(f==f)\n",
    "print(\"=====\")\n",
    "print(a!=b)\n",
    "print(a!=c)\n",
    "print(d!=e)\n",
    "print(f!=g)\n",
    "print(d!=f)\n",
    "print(f!=f)"
   ]
  },
  {
   "cell_type": "code",
   "execution_count": 46,
   "id": "2fdd8e20",
   "metadata": {},
   "outputs": [
    {
     "name": "stdout",
     "output_type": "stream",
     "text": [
      "False\n",
      "False\n",
      "True\n",
      "True\n"
     ]
    }
   ],
   "source": [
    "print(a>b)\n",
    "print(a<b)\n",
    "print(a>=b)\n",
    "print(a<=b)"
   ]
  },
  {
   "cell_type": "markdown",
   "id": "2108fab0",
   "metadata": {},
   "source": [
    "* 논리연산자 : and,or,not\n",
    "* and : 두 값이 모두가 참이어야 함\n",
    "* or : 두 값 중 하나라도 참이면 참, 두 값 모두가 거짓이어야 거짓\n",
    "* not : 값을 반대로 뒤집음, True = False, False = True\n",
    "* 우선순위 : not > and > or"
   ]
  },
  {
   "cell_type": "code",
   "execution_count": 53,
   "id": "ed92af5a",
   "metadata": {},
   "outputs": [
    {
     "name": "stdout",
     "output_type": "stream",
     "text": [
      "True\n",
      "False\n",
      "False\n",
      "False\n",
      "=======\n",
      "True\n",
      "True\n",
      "True\n",
      "False\n",
      "=======\n",
      "False\n",
      "True\n"
     ]
    }
   ],
   "source": [
    "print(True and True)\n",
    "print(True and False)\n",
    "print(False and True)\n",
    "print(False and False)\n",
    "print(\"=======\")\n",
    "print(True or True)\n",
    "print(True or False)\n",
    "print(False or True)\n",
    "print(False or False)\n",
    "print(\"=======\")\n",
    "print(not True)\n",
    "print(not False)"
   ]
  },
  {
   "cell_type": "code",
   "execution_count": 54,
   "id": "9061e198",
   "metadata": {},
   "outputs": [
    {
     "data": {
      "text/plain": [
       "True"
      ]
     },
     "execution_count": 54,
     "metadata": {},
     "output_type": "execute_result"
    }
   ],
   "source": [
    "not True and False or not False"
   ]
  },
  {
   "cell_type": "code",
   "execution_count": 55,
   "id": "a47ba4f9",
   "metadata": {},
   "outputs": [
    {
     "data": {
      "text/plain": [
       "False"
      ]
     },
     "execution_count": 55,
     "metadata": {},
     "output_type": "execute_result"
    }
   ],
   "source": [
    "# True 나오는 이유 \n",
    "not True and False"
   ]
  },
  {
   "cell_type": "code",
   "execution_count": 56,
   "id": "ff93da76",
   "metadata": {},
   "outputs": [
    {
     "data": {
      "text/plain": [
       "True"
      ]
     },
     "execution_count": 56,
     "metadata": {},
     "output_type": "execute_result"
    }
   ],
   "source": [
    "False or not False"
   ]
  },
  {
   "cell_type": "markdown",
   "id": "11f5ff68",
   "metadata": {},
   "source": [
    "* 식별연산자 : is, is not 객체(object)가 같은지 비교\n",
    "* a is b : a 객체와 b 객체가 같은지 비교 / 같으면 True 다르면 False\n",
    "* js의 === 연산자와 동일"
   ]
  },
  {
   "cell_type": "code",
   "execution_count": 67,
   "id": "33947d78",
   "metadata": {},
   "outputs": [
    {
     "name": "stdout",
     "output_type": "stream",
     "text": [
      "3\n",
      "3.0\n",
      "5\n",
      "=======\n",
      "True\n",
      "False\n",
      "True\n",
      "True\n",
      "=======\n",
      "False\n",
      "True\n",
      "False\n",
      "False\n"
     ]
    }
   ],
   "source": [
    "print(a)\n",
    "print(b)\n",
    "print(c)\n",
    "print(\"=======\")\n",
    "print(a == b) # a는 정수 3, b는 실수 3.0이라 값이 같음\n",
    "print(a is b) # 값은 같지만 데이터 타입이 달라서 False\n",
    "d = 3\n",
    "print(a == d)\n",
    "print(a is d)\n",
    "print(\"=======\")\n",
    "print(a != b)\n",
    "print(a is not b) # 값은 같지만 데이터 타입이 같아서 True\n",
    "print(a != d)\n",
    "print(a is not d)"
   ]
  },
  {
   "cell_type": "markdown",
   "id": "ba9230db",
   "metadata": {},
   "source": [
    "* 멤버연산자 : in, not in\n",
    "* 리스트, 튜플 같은 객체 내에 해당 값이 있으면 True, 없으면 False"
   ]
  },
  {
   "cell_type": "code",
   "execution_count": 71,
   "id": "1c4181a2",
   "metadata": {},
   "outputs": [
    {
     "name": "stdout",
     "output_type": "stream",
     "text": [
      "True\n",
      "False\n"
     ]
    }
   ],
   "source": [
    "member = [1,2,3,4,5]\n",
    "print(3 in member)\n",
    "print(3 not in member)"
   ]
  }
 ],
 "metadata": {
  "kernelspec": {
   "display_name": "Python 3 (ipykernel)",
   "language": "python",
   "name": "python3"
  },
  "language_info": {
   "codemirror_mode": {
    "name": "ipython",
    "version": 3
   },
   "file_extension": ".py",
   "mimetype": "text/x-python",
   "name": "python",
   "nbconvert_exporter": "python",
   "pygments_lexer": "ipython3",
   "version": "3.11.9"
  }
 },
 "nbformat": 4,
 "nbformat_minor": 5
}
