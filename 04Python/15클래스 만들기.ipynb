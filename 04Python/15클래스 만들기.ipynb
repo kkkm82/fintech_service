{
 "cells": [
  {
   "cell_type": "markdown",
   "id": "c042529f",
   "metadata": {},
   "source": [
    "# 클래스 만들기\n",
    "* 클래스는 객체지향 프로그래밍의 핵심\n",
    "* 클래스 하나에 여러 개의 함수(method)를 포함\n",
    "* 클래스 = 커피머신 공장\n",
    "* 메서드 = 커피머신의 기능(에스프레소, 아메리카노, 카페라떼, 카푸치노)"
   ]
  },
  {
   "cell_type": "code",
   "execution_count": 3,
   "id": "34039e61",
   "metadata": {},
   "outputs": [],
   "source": [
    "# 더하기 함수 만들기\n",
    "def add(x, y):\n",
    "    return x+y"
   ]
  },
  {
   "cell_type": "code",
   "execution_count": 4,
   "id": "b0ac73ec",
   "metadata": {},
   "outputs": [
    {
     "data": {
      "text/plain": [
       "8"
      ]
     },
     "execution_count": 4,
     "metadata": {},
     "output_type": "execute_result"
    }
   ],
   "source": [
    "add(3, 5)"
   ]
  },
  {
   "cell_type": "code",
   "execution_count": 22,
   "id": "734dd5a4",
   "metadata": {},
   "outputs": [],
   "source": [
    "# 전역변수는 누적 O\n",
    "result_cal = 0\n",
    "def add2(num, result=0): # 위의 result랑 다른 애임\n",
    "    global result_cal\n",
    "    result_cal += num\n",
    "    return result_cal"
   ]
  },
  {
   "cell_type": "code",
   "execution_count": 28,
   "id": "b44ddc11",
   "metadata": {},
   "outputs": [],
   "source": [
    "result = 0\n",
    "def add2(num, result=0): # 위의 result랑 다른 애임\n",
    "    result += num\n",
    "    return result"
   ]
  },
  {
   "cell_type": "code",
   "execution_count": 31,
   "id": "76ec8c91",
   "metadata": {},
   "outputs": [
    {
     "data": {
      "text/plain": [
       "6"
      ]
     },
     "execution_count": 31,
     "metadata": {},
     "output_type": "execute_result"
    }
   ],
   "source": [
    "add2(6)"
   ]
  },
  {
   "cell_type": "markdown",
   "id": "5922dcab",
   "metadata": {},
   "source": [
    "위의 방식으로 함수를 만들면 이전 데이터를 기억하게 할 수 있지만 초기화를 하거나 여러 사람이 사용하면서 각기 다른 계산을 할 수 없다.<br>\n",
    "사용자가 늘어나면서 변수와 함수를 따로 만들어야 한다. <br>\n",
    "여러 사람이 각자 다른 계산을 할 수 있고 이전 값을 기억할 수 있도록 하려면 클래스를 이용해서 만들어야 한다."
   ]
  },
  {
   "cell_type": "markdown",
   "id": "f278b20a",
   "metadata": {},
   "source": [
    "클래스로 계산기 만들기 <br>\n",
    "class 클래스명 ClassName:<br># 클래스명을 만들 때는 대문자로 시작하고 카멜 표기법을 사용 <br>\n",
    "____def 메서드명():<br>\n",
    "_______실행할 코드<br>\n",
    "________return<br>"
   ]
  },
  {
   "cell_type": "markdown",
   "id": "d4776946",
   "metadata": {},
   "source": [
    "* Calculator 클래스로 만들 별개의 계산기 cal1, cal2를 파이썬에서는 인스턴스 혹은 객체라고 부른다.\n",
    "* 각각의 인스턴스는 독립적으로 역할 수행\n",
    "* 계산기 cal1과 cal2의 결과값은 서로 독립적으로 유지\n",
    "* 클래스 = 커피머신 공장에서 만든 커피머신\n",
    "* 인스턴스 = 커피머신을 산 고객\n",
    "* 같은 기계를 가지고 있기 때문에 동일한 기능을 가짐\n",
    "* 사용자에 따라서 각기 다르게 사용된다."
   ]
  },
  {
   "cell_type": "code",
   "execution_count": 48,
   "id": "f6ec1c20",
   "metadata": {},
   "outputs": [],
   "source": [
    "class Calculator:\n",
    "    def __init__(self): # self는 Calculator()\n",
    "        self.result = 0\n",
    "    def add(self, num):\n",
    "        self.result += num # self는 Calculator.add(num)\n",
    "        return self.result\n",
    "    def sub(self, num):\n",
    "        self.result -=num\n",
    "        return self.result"
   ]
  },
  {
   "cell_type": "markdown",
   "id": "d0f0b35e",
   "metadata": {},
   "source": [
    "클래스 사용 방법\n",
    "* 변수에 클래스를 담아서 인스턴스 생성\n",
    "* 인스턴스 변수명 = 클래스명()으로 생성 가능\n",
    "* 인스턴스를 생성하고 나면 인스턴스.메서드 형식으로 클래스에 정의한 메서드를 사용할 수 있다."
   ]
  },
  {
   "cell_type": "code",
   "execution_count": 36,
   "id": "886c3841",
   "metadata": {},
   "outputs": [],
   "source": [
    "calc = (lambda x : x + 5)"
   ]
  },
  {
   "cell_type": "code",
   "execution_count": 37,
   "id": "8a9a1030",
   "metadata": {},
   "outputs": [
    {
     "data": {
      "text/plain": [
       "10"
      ]
     },
     "execution_count": 37,
     "metadata": {},
     "output_type": "execute_result"
    }
   ],
   "source": [
    "calc(5)"
   ]
  },
  {
   "cell_type": "code",
   "execution_count": 41,
   "id": "768d89a4",
   "metadata": {},
   "outputs": [],
   "source": [
    "# cal1 변수에 Calculator() 클래스를 담아 인스턴스 생성\n",
    "cal1 = Calculator()\n",
    "cal2 = Calculator()"
   ]
  },
  {
   "cell_type": "code",
   "execution_count": 35,
   "id": "1856cbbc",
   "metadata": {},
   "outputs": [
    {
     "name": "stdout",
     "output_type": "stream",
     "text": [
      "<__main__.Calculator object at 0x0000029071946EC0>\n",
      "<class '__main__.Calculator'>\n"
     ]
    }
   ],
   "source": [
    "print(cal1)\n",
    "print(type(cal1))"
   ]
  },
  {
   "cell_type": "code",
   "execution_count": 46,
   "id": "ad3d44cd",
   "metadata": {},
   "outputs": [
    {
     "data": {
      "text/plain": [
       "3"
      ]
     },
     "execution_count": 46,
     "metadata": {},
     "output_type": "execute_result"
    }
   ],
   "source": [
    "cal1.add(3)"
   ]
  },
  {
   "cell_type": "code",
   "execution_count": 47,
   "id": "9f6f8714",
   "metadata": {},
   "outputs": [
    {
     "data": {
      "text/plain": [
       "15"
      ]
     },
     "execution_count": 47,
     "metadata": {},
     "output_type": "execute_result"
    }
   ],
   "source": [
    "cal2.add(3)"
   ]
  },
  {
   "cell_type": "code",
   "execution_count": 50,
   "id": "61ec9ac5",
   "metadata": {},
   "outputs": [],
   "source": [
    "james = Calculator()"
   ]
  },
  {
   "cell_type": "code",
   "execution_count": 52,
   "id": "13120091",
   "metadata": {},
   "outputs": [
    {
     "data": {
      "text/plain": [
       "10"
      ]
     },
     "execution_count": 52,
     "metadata": {},
     "output_type": "execute_result"
    }
   ],
   "source": [
    "james.add(5)"
   ]
  },
  {
   "cell_type": "code",
   "execution_count": 56,
   "id": "e142f45d",
   "metadata": {},
   "outputs": [
    {
     "data": {
      "text/plain": [
       "7"
      ]
     },
     "execution_count": 56,
     "metadata": {},
     "output_type": "execute_result"
    }
   ],
   "source": [
    "james.sub(1)"
   ]
  },
  {
   "cell_type": "markdown",
   "id": "4161ffc2",
   "metadata": {},
   "source": [
    "# 메서드(method)\n",
    "* class 안에 정의하는 함수\n",
    "* 클래스에 기능을 만들어 준다.<br>\n",
    "def 메서드명(self, 매개변수): <br>\n",
    "____self.매개변수 = 매개변수 <br>\n",
    "____self.num2 = num2"
   ]
  },
  {
   "cell_type": "markdown",
   "id": "9f7e1f95",
   "metadata": {},
   "source": [
    "사칙연산이 가능한 FourCal 계산기 만들기"
   ]
  },
  {
   "cell_type": "code",
   "execution_count": 78,
   "id": "4e03fdb3",
   "metadata": {},
   "outputs": [],
   "source": [
    "# FourCal이라는 클래스를 만들고 숫자를 입력받는 setdata 메서드 만들기\n",
    "# add 기능 추가하기\n",
    "class FourCal():\n",
    "    def setdata(self, num1, num2):\n",
    "        self.num1 = num1\n",
    "        self.num2 = num2\n",
    "        print(\"self.num1: \", self.num1)\n",
    "        print(\"self.num2: \", self.num2)\n",
    "        \n",
    "    def add(self):\n",
    "        result = self.num1 + self.num2\n",
    "        return result\n",
    "    \n",
    "    def sub(self):\n",
    "        result = self.num1 - self.num2\n",
    "        return result\n",
    "    \n",
    "    def mul(self):\n",
    "        result = self.num1 * self.num2\n",
    "        return result\n",
    "    \n",
    "    def div(self):\n",
    "        result = self.num1 / self.num2\n",
    "        return result"
   ]
  },
  {
   "cell_type": "code",
   "execution_count": 79,
   "id": "8d70f99c",
   "metadata": {},
   "outputs": [],
   "source": [
    "sam = FourCal()"
   ]
  },
  {
   "cell_type": "code",
   "execution_count": 80,
   "id": "40e67918",
   "metadata": {},
   "outputs": [
    {
     "name": "stdout",
     "output_type": "stream",
     "text": [
      "self.num1:  4\n",
      "self.num2:  3\n"
     ]
    }
   ],
   "source": [
    "sam.setdata(4, 3)"
   ]
  },
  {
   "cell_type": "code",
   "execution_count": 81,
   "id": "a88fe700",
   "metadata": {},
   "outputs": [
    {
     "data": {
      "text/plain": [
       "7"
      ]
     },
     "execution_count": 81,
     "metadata": {},
     "output_type": "execute_result"
    }
   ],
   "source": [
    "sam.add()"
   ]
  },
  {
   "cell_type": "code",
   "execution_count": 82,
   "id": "47df2588",
   "metadata": {},
   "outputs": [
    {
     "data": {
      "text/plain": [
       "1"
      ]
     },
     "execution_count": 82,
     "metadata": {},
     "output_type": "execute_result"
    }
   ],
   "source": [
    "sam.sub()"
   ]
  },
  {
   "cell_type": "code",
   "execution_count": 83,
   "id": "07011d8e",
   "metadata": {},
   "outputs": [
    {
     "data": {
      "text/plain": [
       "12"
      ]
     },
     "execution_count": 83,
     "metadata": {},
     "output_type": "execute_result"
    }
   ],
   "source": [
    "sam.mul()"
   ]
  },
  {
   "cell_type": "code",
   "execution_count": 84,
   "id": "054d7add",
   "metadata": {},
   "outputs": [
    {
     "data": {
      "text/plain": [
       "1.3333333333333333"
      ]
     },
     "execution_count": 84,
     "metadata": {},
     "output_type": "execute_result"
    }
   ],
   "source": [
    "sam.div()"
   ]
  },
  {
   "cell_type": "markdown",
   "id": "76c767b3",
   "metadata": {},
   "source": [
    "## 생성자\n",
    "* 객체에 num1, num2와 같은 초기값을 설정해야 할 필요가 있을 때, setmethod와 같은 것을 호출해서 초기값을 설정하는 것보다 생성자를 만들어서 인스턴스를 생성할 때 바로 받는 것이 더 좋다.\n",
    "* 생성자(constructor) : 객체(인스턴스)가 생성될 때 자동으로 호출되는 메서드\n",
    "* class 내에서 메서드 명으로 __init__를 사용하면 그것이 생성자가 된다."
   ]
  },
  {
   "cell_type": "code",
   "execution_count": 96,
   "id": "bab1eacb",
   "metadata": {},
   "outputs": [],
   "source": [
    "class FourCal2():\n",
    "    def __init__(self, num1, num2): #생성자\n",
    "        self.num1 = num1 # self.num1 인스턴스 변수\n",
    "        self.num2 = num2 # self.num2 인스턴스 변수\n",
    "        \n",
    "    def add(self):\n",
    "        result = self.num1 + self.num2\n",
    "        return result\n",
    "    \n",
    "    def sub(self):\n",
    "        result = self.num1 - self.num2\n",
    "        return result\n",
    "    \n",
    "    def mul(self):\n",
    "        result = self.num1 * self.num2\n",
    "        return result\n",
    "    \n",
    "    def div(self):\n",
    "        result = self.num1 / self.num2\n",
    "        return result"
   ]
  },
  {
   "cell_type": "code",
   "execution_count": 97,
   "id": "1d965ad3",
   "metadata": {},
   "outputs": [],
   "source": [
    "james = FourCal2(100, 27)"
   ]
  },
  {
   "cell_type": "code",
   "execution_count": 98,
   "id": "7f44cbe3",
   "metadata": {},
   "outputs": [
    {
     "data": {
      "text/plain": [
       "127"
      ]
     },
     "execution_count": 98,
     "metadata": {},
     "output_type": "execute_result"
    }
   ],
   "source": [
    "james.add()"
   ]
  },
  {
   "cell_type": "code",
   "execution_count": 99,
   "id": "5724074e",
   "metadata": {},
   "outputs": [
    {
     "data": {
      "text/plain": [
       "73"
      ]
     },
     "execution_count": 99,
     "metadata": {},
     "output_type": "execute_result"
    }
   ],
   "source": [
    "james.sub()"
   ]
  },
  {
   "cell_type": "code",
   "execution_count": 100,
   "id": "9c590a4d",
   "metadata": {},
   "outputs": [
    {
     "data": {
      "text/plain": [
       "2700"
      ]
     },
     "execution_count": 100,
     "metadata": {},
     "output_type": "execute_result"
    }
   ],
   "source": [
    "james.mul()"
   ]
  },
  {
   "cell_type": "code",
   "execution_count": 101,
   "id": "05676322",
   "metadata": {},
   "outputs": [
    {
     "data": {
      "text/plain": [
       "3.7037037037037037"
      ]
     },
     "execution_count": 101,
     "metadata": {},
     "output_type": "execute_result"
    }
   ],
   "source": [
    "james.div()"
   ]
  },
  {
   "cell_type": "markdown",
   "id": "488a3037",
   "metadata": {},
   "source": [
    "## 클래스와 상속\n",
    "* 어떤 클래스를 만들 때, 다른 클래스의 기능을 물려받는 것 \n",
    "* 기존 클래스 + 기능을 추가할 때\n",
    "* A 클래스를 상속받아 B 클래스를 생성한다고 할 때, B 클래스는 A 클래스의 모든 기능을 사용할 수 있다."
   ]
  },
  {
   "cell_type": "markdown",
   "id": "41002420",
   "metadata": {},
   "source": [
    "FourCal을 상속받아 제곱 기능을 추가한 MoreFourCal을 만드시오."
   ]
  },
  {
   "cell_type": "code",
   "execution_count": 111,
   "id": "1ec11544",
   "metadata": {},
   "outputs": [],
   "source": [
    "class MoreFourCal(FourCal2):\n",
    "    def pow(self):\n",
    "        result = self.num1 ** self.num2\n",
    "        return result"
   ]
  },
  {
   "cell_type": "code",
   "execution_count": 112,
   "id": "d4dad98b",
   "metadata": {},
   "outputs": [],
   "source": [
    "sally = MoreFourCal(104, 4)"
   ]
  },
  {
   "cell_type": "code",
   "execution_count": 113,
   "id": "1da86659",
   "metadata": {},
   "outputs": [
    {
     "data": {
      "text/plain": [
       "116985856"
      ]
     },
     "execution_count": 113,
     "metadata": {},
     "output_type": "execute_result"
    }
   ],
   "source": [
    "sally.pow()"
   ]
  },
  {
   "cell_type": "code",
   "execution_count": 114,
   "id": "e0f15bb8",
   "metadata": {},
   "outputs": [
    {
     "data": {
      "text/plain": [
       "108"
      ]
     },
     "execution_count": 114,
     "metadata": {},
     "output_type": "execute_result"
    }
   ],
   "source": [
    "sally.add()"
   ]
  },
  {
   "cell_type": "code",
   "execution_count": 115,
   "id": "26330d4d",
   "metadata": {},
   "outputs": [
    {
     "data": {
      "text/plain": [
       "100"
      ]
     },
     "execution_count": 115,
     "metadata": {},
     "output_type": "execute_result"
    }
   ],
   "source": [
    "sally.sub()"
   ]
  },
  {
   "cell_type": "code",
   "execution_count": 116,
   "id": "542d4296",
   "metadata": {},
   "outputs": [
    {
     "data": {
      "text/plain": [
       "416"
      ]
     },
     "execution_count": 116,
     "metadata": {},
     "output_type": "execute_result"
    }
   ],
   "source": [
    "sally.mul()"
   ]
  },
  {
   "cell_type": "code",
   "execution_count": 117,
   "id": "7daabf53",
   "metadata": {},
   "outputs": [
    {
     "data": {
      "text/plain": [
       "26.0"
      ]
     },
     "execution_count": 117,
     "metadata": {},
     "output_type": "execute_result"
    }
   ],
   "source": [
    "sally.div()"
   ]
  },
  {
   "cell_type": "code",
   "execution_count": 118,
   "id": "e7922f5a",
   "metadata": {},
   "outputs": [],
   "source": [
    "sally = FourCal2(100, 4)"
   ]
  },
  {
   "cell_type": "code",
   "execution_count": 119,
   "id": "b7b52bc7",
   "metadata": {},
   "outputs": [
    {
     "ename": "AttributeError",
     "evalue": "'FourCal2' object has no attribute 'pow'",
     "output_type": "error",
     "traceback": [
      "\u001b[1;31m---------------------------------------------------------------------------\u001b[0m",
      "\u001b[1;31mAttributeError\u001b[0m                            Traceback (most recent call last)",
      "Cell \u001b[1;32mIn[119], line 1\u001b[0m\n\u001b[1;32m----> 1\u001b[0m \u001b[43msally\u001b[49m\u001b[38;5;241;43m.\u001b[39;49m\u001b[43mpow\u001b[49m()\n",
      "\u001b[1;31mAttributeError\u001b[0m: 'FourCal2' object has no attribute 'pow'"
     ]
    }
   ],
   "source": [
    "sally.pow()"
   ]
  },
  {
   "cell_type": "markdown",
   "id": "e923ceb2",
   "metadata": {},
   "source": [
    "## 메서드 오버라이딩\n",
    "* 부모클래스에서 상속한 메서드를 자식 클래스에서 동일한 이름으로 다시 재정의\n",
    "* method overriding"
   ]
  },
  {
   "cell_type": "code",
   "execution_count": 121,
   "id": "b9a4c193",
   "metadata": {},
   "outputs": [],
   "source": [
    "john = FourCal2(4, 0)"
   ]
  },
  {
   "cell_type": "code",
   "execution_count": 122,
   "id": "ccf564c1",
   "metadata": {},
   "outputs": [
    {
     "data": {
      "text/plain": [
       "4"
      ]
     },
     "execution_count": 122,
     "metadata": {},
     "output_type": "execute_result"
    }
   ],
   "source": [
    "john.add()"
   ]
  },
  {
   "cell_type": "code",
   "execution_count": 124,
   "id": "e8d61690",
   "metadata": {},
   "outputs": [
    {
     "ename": "ZeroDivisionError",
     "evalue": "division by zero",
     "output_type": "error",
     "traceback": [
      "\u001b[1;31m---------------------------------------------------------------------------\u001b[0m",
      "\u001b[1;31mZeroDivisionError\u001b[0m                         Traceback (most recent call last)",
      "Cell \u001b[1;32mIn[124], line 2\u001b[0m\n\u001b[0;32m      1\u001b[0m \u001b[38;5;66;03m# 0으로 나누려고 해서 오류가 남\u001b[39;00m\n\u001b[1;32m----> 2\u001b[0m \u001b[43mjohn\u001b[49m\u001b[38;5;241;43m.\u001b[39;49m\u001b[43mdiv\u001b[49m\u001b[43m(\u001b[49m\u001b[43m)\u001b[49m\n",
      "Cell \u001b[1;32mIn[96], line 19\u001b[0m, in \u001b[0;36mFourCal2.div\u001b[1;34m(self)\u001b[0m\n\u001b[0;32m     18\u001b[0m \u001b[38;5;28;01mdef\u001b[39;00m \u001b[38;5;21mdiv\u001b[39m(\u001b[38;5;28mself\u001b[39m):\n\u001b[1;32m---> 19\u001b[0m     result \u001b[38;5;241m=\u001b[39m \u001b[38;5;28;43mself\u001b[39;49m\u001b[38;5;241;43m.\u001b[39;49m\u001b[43mnum1\u001b[49m\u001b[43m \u001b[49m\u001b[38;5;241;43m/\u001b[39;49m\u001b[43m \u001b[49m\u001b[38;5;28;43mself\u001b[39;49m\u001b[38;5;241;43m.\u001b[39;49m\u001b[43mnum2\u001b[49m\n\u001b[0;32m     20\u001b[0m     \u001b[38;5;28;01mreturn\u001b[39;00m result\n",
      "\u001b[1;31mZeroDivisionError\u001b[0m: division by zero"
     ]
    }
   ],
   "source": [
    "# 0으로 나누려고 해서 오류가 남\n",
    "john.div()"
   ]
  },
  {
   "cell_type": "markdown",
   "id": "8f10099a",
   "metadata": {},
   "source": [
    "FourCal2는 num2에 0이 입력될 경우 나눗셈 시에 0을 나누게 되기 때문에 에러 발생<br>\n",
    "SafeFourCal을 만들고 FourCal2를 상속받은 후, div 함수를 재정의하여 에러를 없앰"
   ]
  },
  {
   "cell_type": "code",
   "execution_count": 125,
   "id": "752d11b0",
   "metadata": {},
   "outputs": [],
   "source": [
    "class SafeFourCal(FourCal2):\n",
    "    def div(self):\n",
    "        if self.num2 == 0:\n",
    "            return 0\n",
    "        else:\n",
    "            return self.num1 / self.num2"
   ]
  },
  {
   "cell_type": "code",
   "execution_count": 126,
   "id": "9a2e11c5",
   "metadata": {},
   "outputs": [],
   "source": [
    "john = SafeFourCal(4,0)"
   ]
  },
  {
   "cell_type": "code",
   "execution_count": 127,
   "id": "6ad9d9aa",
   "metadata": {},
   "outputs": [
    {
     "data": {
      "text/plain": [
       "0"
      ]
     },
     "execution_count": 127,
     "metadata": {},
     "output_type": "execute_result"
    }
   ],
   "source": [
    "john.div()"
   ]
  },
  {
   "cell_type": "code",
   "execution_count": 128,
   "id": "e19b5b28",
   "metadata": {},
   "outputs": [
    {
     "data": {
      "text/plain": [
       "4"
      ]
     },
     "execution_count": 128,
     "metadata": {},
     "output_type": "execute_result"
    }
   ],
   "source": [
    "john.sub()"
   ]
  },
  {
   "cell_type": "code",
   "execution_count": 129,
   "id": "b6a2605d",
   "metadata": {},
   "outputs": [
    {
     "data": {
      "text/plain": [
       "0"
      ]
     },
     "execution_count": 129,
     "metadata": {},
     "output_type": "execute_result"
    }
   ],
   "source": [
    "john.mul()"
   ]
  },
  {
   "cell_type": "code",
   "execution_count": null,
   "id": "1fc59cd0",
   "metadata": {},
   "outputs": [],
   "source": []
  },
  {
   "cell_type": "code",
   "execution_count": null,
   "id": "f91e7a1b",
   "metadata": {},
   "outputs": [],
   "source": []
  }
 ],
 "metadata": {
  "kernelspec": {
   "display_name": "Python 3 (ipykernel)",
   "language": "python",
   "name": "python3"
  },
  "language_info": {
   "codemirror_mode": {
    "name": "ipython",
    "version": 3
   },
   "file_extension": ".py",
   "mimetype": "text/x-python",
   "name": "python",
   "nbconvert_exporter": "python",
   "pygments_lexer": "ipython3",
   "version": "3.10.14"
  }
 },
 "nbformat": 4,
 "nbformat_minor": 5
}
