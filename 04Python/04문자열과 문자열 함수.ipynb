{
 "cells": [
  {
   "cell_type": "markdown",
   "id": "d5da71f0",
   "metadata": {},
   "source": [
    "# 문자열 사용, 문자열 함수"
   ]
  },
  {
   "cell_type": "markdown",
   "id": "378cb91e",
   "metadata": {},
   "source": [
    "## 1. 문자열 사용하기의 기본\n",
    "* \" 따옴표 안에 문자를 넣어서 문자열을 만든다, ' 도 가능"
   ]
  },
  {
   "cell_type": "code",
   "execution_count": 1,
   "id": "866f688d",
   "metadata": {},
   "outputs": [
    {
     "data": {
      "text/plain": [
       "'hello, world'"
      ]
     },
     "execution_count": 1,
     "metadata": {},
     "output_type": "execute_result"
    }
   ],
   "source": [
    "hello = 'hello, world'\n",
    "hello"
   ]
  },
  {
   "cell_type": "code",
   "execution_count": 2,
   "id": "67583bd3",
   "metadata": {},
   "outputs": [
    {
     "data": {
      "text/plain": [
       "'hello, world'"
      ]
     },
     "execution_count": 2,
     "metadata": {},
     "output_type": "execute_result"
    }
   ],
   "source": [
    "hello2 = \"hello, world\"\n",
    "hello"
   ]
  },
  {
   "cell_type": "code",
   "execution_count": 4,
   "id": "a2408820",
   "metadata": {},
   "outputs": [
    {
     "data": {
      "text/plain": [
       "\"hello 'world'\""
      ]
     },
     "execution_count": 4,
     "metadata": {},
     "output_type": "execute_result"
    }
   ],
   "source": [
    "hello3 = \"hello 'world'\"\n",
    "hello3"
   ]
  },
  {
   "cell_type": "code",
   "execution_count": 5,
   "id": "c4852af7",
   "metadata": {},
   "outputs": [
    {
     "data": {
      "text/plain": [
       "'\"hello\" world'"
      ]
     },
     "execution_count": 5,
     "metadata": {},
     "output_type": "execute_result"
    }
   ],
   "source": [
    "hello4 = '\"hello\" world'\n",
    "hello4"
   ]
  },
  {
   "cell_type": "markdown",
   "id": "06311f30",
   "metadata": {},
   "source": [
    "* 여러 줄로 된 문자열 사용하기 : ''' 내용 ''', \"\"\" 내용 \"\"\""
   ]
  },
  {
   "cell_type": "code",
   "execution_count": 9,
   "id": "d49574c5",
   "metadata": {},
   "outputs": [
    {
     "name": "stdout",
     "output_type": "stream",
     "text": [
      "\n",
      "안녕하세요, \n",
      "파이썬 수업입니다.\n",
      "\n"
     ]
    },
    {
     "data": {
      "text/plain": [
       "'\\n안녕하세요, \\n파이썬 수업입니다.\\n'"
      ]
     },
     "execution_count": 9,
     "metadata": {},
     "output_type": "execute_result"
    }
   ],
   "source": [
    "hello5 = '''\n",
    "안녕하세요, \n",
    "파이썬 수업입니다.\n",
    "'''\n",
    "print(hello5)\n",
    "hello5"
   ]
  },
  {
   "cell_type": "code",
   "execution_count": 11,
   "id": "1d5d7bdc",
   "metadata": {},
   "outputs": [
    {
     "name": "stdout",
     "output_type": "stream",
     "text": [
      "\n",
      "안녕하세요, \n",
      "파이썬 수업입니다.\n",
      "\n"
     ]
    },
    {
     "data": {
      "text/plain": [
       "'\\n안녕하세요, \\n파이썬 수업입니다.\\n'"
      ]
     },
     "execution_count": 11,
     "metadata": {},
     "output_type": "execute_result"
    }
   ],
   "source": [
    "hello6 = \"\"\"\n",
    "안녕하세요, \n",
    "파이썬 수업입니다.\n",
    "\"\"\"\n",
    "print(hello6)\n",
    "hello6"
   ]
  },
  {
   "cell_type": "markdown",
   "id": "b8d06f9f",
   "metadata": {},
   "source": [
    "* 문자열 중 이스케이프문자 : \\n, \\t, \\r \n",
    "* \\n : 줄바꿈\n",
    "* \\t : 탭, 4~8칸 공백\n",
    "* \\r : 현재 줄의 제일 왼쪽 끝으로 커서 이동"
   ]
  },
  {
   "cell_type": "code",
   "execution_count": 17,
   "id": "c3f72ed5",
   "metadata": {},
   "outputs": [
    {
     "name": "stdout",
     "output_type": "stream",
     "text": [
      "파이썬에서 줄바꿈은 \\n으로 합니다.\n",
      "\n",
      "\n",
      "3줄 줄바꿈 끝\n"
     ]
    }
   ],
   "source": [
    "h1 = \"파이썬에서 줄바꿈은 \\\\n으로 합니다.\\n\\n\\n3줄 줄바꿈 끝\"\n",
    "print(h1)"
   ]
  },
  {
   "cell_type": "code",
   "execution_count": 18,
   "id": "e1e2e79f",
   "metadata": {},
   "outputs": [
    {
     "name": "stdout",
     "output_type": "stream",
     "text": [
      "탭으로 공간을 띄우는 것은 \\t \t로 합니다.\n"
     ]
    }
   ],
   "source": [
    "h2 = \"탭으로 공간을 띄우는 것은 \\\\t \\t로 합니다.\"\n",
    "print(h2)"
   ]
  },
  {
   "cell_type": "code",
   "execution_count": 30,
   "id": "b39e4d09",
   "metadata": {
    "scrolled": true
   },
   "outputs": [
    {
     "name": "stdout",
     "output_type": "stream",
     "text": [
      "캐리지 리턴은 \\r입니다. \n",
      " 커서가 같은 줄 가장 앞으로 \r",
      " 이동하기 때문에 글자가 겹쳐져서 지워졌습니다. \n"
     ]
    }
   ],
   "source": [
    "h3 = \"캐리지 리턴은 \\\\r입니다. \\n 커서가 같은 줄 가장 앞으로 \\r 이동하기 때문에 글자가 겹쳐져서 지워졌습니다. \"\n",
    "print(h3)"
   ]
  },
  {
   "cell_type": "markdown",
   "id": "5d34eee9",
   "metadata": {},
   "source": [
    "# 인덱스와 문자열\n",
    "* 문자 : 글자 1개\n",
    "* 문자열 : 글자가 여러 개, 순서가 있는 자료, 번호, 인덱스"
   ]
  },
  {
   "cell_type": "code",
   "execution_count": 33,
   "id": "eb3bf66c",
   "metadata": {},
   "outputs": [
    {
     "name": "stdout",
     "output_type": "stream",
     "text": [
      "문자열은 왼쪽부터 번호를 매길 수 있으며 시작은 0번부터 입니다.\n",
      "문자열은\n",
      ".\n",
      " 입니다.\n"
     ]
    }
   ],
   "source": [
    "h4 = \"문자열은 왼쪽부터 번호를 매길 수 있으며 시작은 0번부터 입니다.\"\n",
    "print(h4)\n",
    "print(h4[0:4])\n",
    "print(h4[-1])\n",
    "print(h4[-5:])"
   ]
  },
  {
   "cell_type": "code",
   "execution_count": 34,
   "id": "229181f3",
   "metadata": {},
   "outputs": [
    {
     "data": {
      "text/plain": [
       "'문자열은 '"
      ]
     },
     "execution_count": 34,
     "metadata": {},
     "output_type": "execute_result"
    }
   ],
   "source": [
    "# 0번 ~ 4번\n",
    "h4[:5]"
   ]
  },
  {
   "cell_type": "code",
   "execution_count": 35,
   "id": "5b077f43",
   "metadata": {},
   "outputs": [
    {
     "data": {
      "text/plain": [
       "'부터 번호를 매길 수 있으며 시작은 0번부터 입니다.'"
      ]
     },
     "execution_count": 35,
     "metadata": {},
     "output_type": "execute_result"
    }
   ],
   "source": [
    "# 7번 ~ 끝\n",
    "h4[7:]"
   ]
  },
  {
   "cell_type": "code",
   "execution_count": 36,
   "id": "d4e27363",
   "metadata": {},
   "outputs": [
    {
     "data": {
      "text/plain": [
       "'문자열은 왼쪽부터 번호를 매길 수 있으며 시작은 0번부터 입니다.'"
      ]
     },
     "execution_count": 36,
     "metadata": {},
     "output_type": "execute_result"
    }
   ],
   "source": [
    "# 전체\n",
    "h4[:]"
   ]
  },
  {
   "cell_type": "code",
   "execution_count": 43,
   "id": "cb42ab47",
   "metadata": {},
   "outputs": [
    {
     "data": {
      "text/plain": [
       "'자은왼부 '"
      ]
     },
     "execution_count": 43,
     "metadata": {},
     "output_type": "execute_result"
    }
   ],
   "source": [
    "# 1번째부터 2칸씩 띄워서 출력, 0번 ~ 10번까지\n",
    "h4[1:11:2]"
   ]
  },
  {
   "cell_type": "code",
   "execution_count": 42,
   "id": "b461cd3b",
   "metadata": {},
   "outputs": [
    {
     "data": {
      "text/plain": [
       "'.다니입 터부번0 은작시 며으있 수 길매 를호번 터부쪽왼 은열자문'"
      ]
     },
     "execution_count": 42,
     "metadata": {},
     "output_type": "execute_result"
    }
   ],
   "source": [
    "# 전체 역순으로 출력\n",
    "h4[::-1]"
   ]
  },
  {
   "cell_type": "markdown",
   "id": "0631ee2f",
   "metadata": {},
   "source": [
    "# 문자열 함수"
   ]
  },
  {
   "cell_type": "markdown",
   "id": "b1df0949",
   "metadata": {},
   "source": [
    "1. 문자열 바꾸기 : replace(찾을 값, 바꿀 값)\n",
    "* replace 함수는 사용 후, 결과를 재할당해야 함"
   ]
  },
  {
   "cell_type": "code",
   "execution_count": 56,
   "id": "a868f32a",
   "metadata": {},
   "outputs": [
    {
     "data": {
      "text/plain": [
       "'Jupyter, Notebook'"
      ]
     },
     "execution_count": 56,
     "metadata": {},
     "output_type": "execute_result"
    }
   ],
   "source": [
    "a5 = \"Jupyter, Notebook\"\n",
    "a5"
   ]
  },
  {
   "cell_type": "code",
   "execution_count": 57,
   "id": "48fc079d",
   "metadata": {},
   "outputs": [
    {
     "data": {
      "text/plain": [
       "'Jupyter, Not Notebook'"
      ]
     },
     "execution_count": 57,
     "metadata": {},
     "output_type": "execute_result"
    }
   ],
   "source": [
    "a5.replace('Notebook', 'Not Notebook')"
   ]
  },
  {
   "cell_type": "markdown",
   "id": "812d98fd",
   "metadata": {},
   "source": [
    "* str maketrans('찾을 문자', '바꿀 문자', '추가로 없앨 문자')로 변환테이블 생성\n",
    "* translate로 문자를 찾아서 바꿈\n",
    "* 사용 후, 결과 재할당해야 함"
   ]
  },
  {
   "cell_type": "code",
   "execution_count": 60,
   "id": "670e89d8",
   "metadata": {},
   "outputs": [],
   "source": [
    "table = str.maketrans('abcdefg', '1234567')"
   ]
  },
  {
   "cell_type": "code",
   "execution_count": 61,
   "id": "26386df5",
   "metadata": {},
   "outputs": [
    {
     "data": {
      "text/plain": [
       "'Jupyt5r, Not52ook'"
      ]
     },
     "execution_count": 61,
     "metadata": {},
     "output_type": "execute_result"
    }
   ],
   "source": [
    "a5.translate(table)"
   ]
  },
  {
   "cell_type": "code",
   "execution_count": 62,
   "id": "d5afc964",
   "metadata": {},
   "outputs": [],
   "source": [
    "table = str.maketrans('abcdefg', '1234567', 'ko')"
   ]
  },
  {
   "cell_type": "code",
   "execution_count": 63,
   "id": "f65dee51",
   "metadata": {},
   "outputs": [
    {
     "data": {
      "text/plain": [
       "'Jupyt5r, Nt52'"
      ]
     },
     "execution_count": 63,
     "metadata": {},
     "output_type": "execute_result"
    }
   ],
   "source": [
    "a5.translate(table)"
   ]
  },
  {
   "cell_type": "code",
   "execution_count": 65,
   "id": "ed9cf2c0",
   "metadata": {},
   "outputs": [
    {
     "data": {
      "text/plain": [
       "'Jupyt5r, Nt52'"
      ]
     },
     "execution_count": 65,
     "metadata": {},
     "output_type": "execute_result"
    }
   ],
   "source": [
    "a5.translate(str.maketrans('abcdefg', '1234567', 'ko'))"
   ]
  },
  {
   "cell_type": "code",
   "execution_count": 67,
   "id": "f577796a",
   "metadata": {},
   "outputs": [
    {
     "data": {
      "text/plain": [
       "'Jupyte, Nteb'"
      ]
     },
     "execution_count": 67,
     "metadata": {},
     "output_type": "execute_result"
    }
   ],
   "source": [
    "# 지울 것만 입력할 거면 앞에는 공백으로 두고 맨 뒤만 입력\n",
    "a5.translate(str.maketrans('', '', 'kor'))"
   ]
  },
  {
   "cell_type": "code",
   "execution_count": 68,
   "id": "d4b7aa69",
   "metadata": {},
   "outputs": [
    {
     "data": {
      "text/plain": [
       "'문자열은 왼쪽부터 번호를 매길 수 있으며 시작은 0번부터 입니다.'"
      ]
     },
     "execution_count": 68,
     "metadata": {},
     "output_type": "execute_result"
    }
   ],
   "source": [
    "h4"
   ]
  },
  {
   "cell_type": "code",
   "execution_count": 70,
   "id": "e8f35a2a",
   "metadata": {},
   "outputs": [
    {
     "data": {
      "text/plain": [
       "'문자열은왼쪽부터번호를매길수있으며시작은번부터입니다'"
      ]
     },
     "execution_count": 70,
     "metadata": {},
     "output_type": "execute_result"
    }
   ],
   "source": [
    "h4.translate(str.maketrans('', '', '0. '))"
   ]
  },
  {
   "cell_type": "markdown",
   "id": "da0dbf1a",
   "metadata": {},
   "source": [
    "2. 문자열 분리하기 : split()\n",
    "* 공백을 기준으로 문자열을 분리해 **리스트**로 만들어줌\n",
    "* 괄호 안에 분리 기준을 지정해서 그 기준에 따라 분리 가능"
   ]
  },
  {
   "cell_type": "code",
   "execution_count": 73,
   "id": "fdd2fa33",
   "metadata": {},
   "outputs": [
    {
     "data": {
      "text/plain": [
       "['문자열은', '왼쪽부터', '번호를', '매길', '수', '있으며', '시작은', '0번부터', '입니다.']"
      ]
     },
     "execution_count": 73,
     "metadata": {},
     "output_type": "execute_result"
    }
   ],
   "source": [
    "h4.split()"
   ]
  },
  {
   "cell_type": "code",
   "execution_count": 78,
   "id": "1b83f5f9",
   "metadata": {},
   "outputs": [
    {
     "name": "stdout",
     "output_type": "stream",
     "text": [
      "['문자열은', '왼쪽부터', '번호를', '매길', '수', '있으며', '시작은', '0번부터', '입니다.']\n",
      "<class 'list'>\n"
     ]
    }
   ],
   "source": [
    "h4_1 = h4.split()\n",
    "print(h4_1)\n",
    "print(type(h4_1))"
   ]
  },
  {
   "cell_type": "code",
   "execution_count": 79,
   "id": "933f3e92",
   "metadata": {},
   "outputs": [
    {
     "data": {
      "text/plain": [
       "['문자열은', '왼쪽부터', '번호를', '매길', '수', '있으며', '시작은', '0번부터', '입니다.']"
      ]
     },
     "execution_count": 79,
     "metadata": {},
     "output_type": "execute_result"
    }
   ],
   "source": [
    "# shift + tab --> 설명 나타냄 \n",
    "h4.split()"
   ]
  },
  {
   "cell_type": "code",
   "execution_count": 86,
   "id": "c110c528",
   "metadata": {},
   "outputs": [
    {
     "name": "stdout",
     "output_type": "stream",
     "text": [
      "'문자열은', '왼쪽부터', '번호를', '매길', '수', '있으며', '시작은', '0번부터', '입니다.''\n"
     ]
    },
    {
     "data": {
      "text/plain": [
       "str"
      ]
     },
     "execution_count": 86,
     "metadata": {},
     "output_type": "execute_result"
    }
   ],
   "source": [
    "h6 = \"'문자열은', '왼쪽부터', '번호를', '매길', '수', '있으며', '시작은', '0번부터', '입니다.''\"\n",
    "print(h6)\n",
    "type(h6)"
   ]
  },
  {
   "cell_type": "code",
   "execution_count": 95,
   "id": "71948edb",
   "metadata": {},
   "outputs": [
    {
     "data": {
      "text/plain": [
       "[\"'문자열은'\",\n",
       " \"'왼쪽부터'\",\n",
       " \"'번호를'\",\n",
       " \"'매길'\",\n",
       " \"'수'\",\n",
       " \"'있으며'\",\n",
       " \"'시작은'\",\n",
       " \"'0번부터'\",\n",
       " \"'입니다.''\"]"
      ]
     },
     "execution_count": 95,
     "metadata": {},
     "output_type": "execute_result"
    }
   ],
   "source": [
    "h6.split(\", \")"
   ]
  },
  {
   "cell_type": "code",
   "execution_count": 105,
   "id": "440bc45a",
   "metadata": {},
   "outputs": [
    {
     "data": {
      "text/plain": [
       "['사과', '배', '포도', '파인애플', '망고', '오렌지']"
      ]
     },
     "execution_count": 105,
     "metadata": {},
     "output_type": "execute_result"
    }
   ],
   "source": [
    "h7 = \"사과, 배, 포도, 파인애플, 망고, 오렌지\"\n",
    "type(h7)\n",
    "# 공백은 최대한 없애주는게 좋음\n",
    "h7_1 = h7.split(\", \")\n",
    "h7_1"
   ]
  },
  {
   "cell_type": "markdown",
   "id": "456b4416",
   "metadata": {},
   "source": [
    "3. 리스트를 1개의 문자열로 합치기 : 합칠 기준.join(list)"
   ]
  },
  {
   "cell_type": "code",
   "execution_count": 115,
   "id": "7493c676",
   "metadata": {},
   "outputs": [
    {
     "data": {
      "text/plain": [
       "'사과 : 배 : 포도 : 파인애플 : 망고 : 오렌지'"
      ]
     },
     "execution_count": 115,
     "metadata": {},
     "output_type": "execute_result"
    }
   ],
   "source": [
    "# 콤마를 기준으로 h7_1 리스트를 합치기\n",
    "# 재할당해야 함\n",
    "h8 = \" : \".join(h7_1)\n",
    "h8"
   ]
  },
  {
   "cell_type": "code",
   "execution_count": 117,
   "id": "e0a2e749",
   "metadata": {},
   "outputs": [],
   "source": [
    "h9 = ['iron man', 'spider-man', 'black widow', 'hulk']"
   ]
  },
  {
   "cell_type": "code",
   "execution_count": 119,
   "id": "780dcd67",
   "metadata": {},
   "outputs": [
    {
     "data": {
      "text/plain": [
       "'iron man vs spider-man vs black widow vs hulk'"
      ]
     },
     "execution_count": 119,
     "metadata": {},
     "output_type": "execute_result"
    }
   ],
   "source": [
    "# \" vs \"를 넣어서 리스트를 문자열로 만드시오.\n",
    "h9_1 = \" vs \".join(h9)\n",
    "h9_1"
   ]
  },
  {
   "cell_type": "markdown",
   "id": "2f25f2e5",
   "metadata": {},
   "source": [
    "4. 소문자 > 대문자, 대문자 > 소문자로 바꾸는 함수 : .upper(), .lower()\n",
    "* 재할당해야 함"
   ]
  },
  {
   "cell_type": "code",
   "execution_count": 123,
   "id": "62639dcf",
   "metadata": {},
   "outputs": [
    {
     "data": {
      "text/plain": [
       "'IRON MAN VS SPIDER-MAN VS BLACK WIDOW VS HULK'"
      ]
     },
     "execution_count": 123,
     "metadata": {},
     "output_type": "execute_result"
    }
   ],
   "source": [
    "h10 = h9_1.upper()\n",
    "h10"
   ]
  },
  {
   "cell_type": "code",
   "execution_count": 124,
   "id": "f6285d52",
   "metadata": {},
   "outputs": [
    {
     "data": {
      "text/plain": [
       "'iron man vs spider-man vs black widow vs hulk'"
      ]
     },
     "execution_count": 124,
     "metadata": {},
     "output_type": "execute_result"
    }
   ],
   "source": [
    "h10_1 = h10.lower()\n",
    "h10_1"
   ]
  },
  {
   "cell_type": "markdown",
   "id": "9d91a29c",
   "metadata": {},
   "source": [
    "5. 왼쪽, 오른쪽, 양쪽 공백/특정 문자 삭제하기\n",
    "* .lstrip(), .rstrip(), .strip()"
   ]
  },
  {
   "cell_type": "code",
   "execution_count": 138,
   "id": "c15d0323",
   "metadata": {},
   "outputs": [
    {
     "data": {
      "text/plain": [
       "'    공백이 있는 문자열    '"
      ]
     },
     "execution_count": 138,
     "metadata": {},
     "output_type": "execute_result"
    }
   ],
   "source": [
    "b11 = \"    공백이 있는 문자열    \"\n",
    "b11"
   ]
  },
  {
   "cell_type": "code",
   "execution_count": 139,
   "id": "e3f8cb7d",
   "metadata": {},
   "outputs": [
    {
     "data": {
      "text/plain": [
       "'공백이 있는 문자열    '"
      ]
     },
     "execution_count": 139,
     "metadata": {},
     "output_type": "execute_result"
    }
   ],
   "source": [
    "b11.lstrip()"
   ]
  },
  {
   "cell_type": "code",
   "execution_count": 140,
   "id": "04c03dcd",
   "metadata": {},
   "outputs": [
    {
     "data": {
      "text/plain": [
       "'    공백이 있는 문자열'"
      ]
     },
     "execution_count": 140,
     "metadata": {},
     "output_type": "execute_result"
    }
   ],
   "source": [
    "b11.rstrip()"
   ]
  },
  {
   "cell_type": "code",
   "execution_count": 141,
   "id": "4a7da876",
   "metadata": {},
   "outputs": [
    {
     "data": {
      "text/plain": [
       "'공백이 있는 문자열'"
      ]
     },
     "execution_count": 141,
     "metadata": {},
     "output_type": "execute_result"
    }
   ],
   "source": [
    "b11.strip()"
   ]
  },
  {
   "cell_type": "code",
   "execution_count": 144,
   "id": "6eb6d241",
   "metadata": {},
   "outputs": [
    {
     "data": {
      "text/plain": [
       "'  ... , 공백과 특수문자가 같이 있는 문자열 !! ^^ ....  '"
      ]
     },
     "execution_count": 144,
     "metadata": {},
     "output_type": "execute_result"
    }
   ],
   "source": [
    "h12 = \"  ... , 공백과 특수문자가 같이 있는 문자열 !! ^^ ....  \"\n",
    "h12"
   ]
  },
  {
   "cell_type": "code",
   "execution_count": 159,
   "id": "81c500da",
   "metadata": {},
   "outputs": [
    {
     "data": {
      "text/plain": [
       "'공백과 특수문자가 같이 있는 문자열 !! ^^ ....  '"
      ]
     },
     "execution_count": 159,
     "metadata": {},
     "output_type": "execute_result"
    }
   ],
   "source": [
    "# 공백 있어야 제거됨\n",
    "h12.lstrip(\"., \")"
   ]
  },
  {
   "cell_type": "code",
   "execution_count": 155,
   "id": "ffd28c15",
   "metadata": {},
   "outputs": [
    {
     "data": {
      "text/plain": [
       "'  ... , 공백과 특수문자가 같이 있는 문자열'"
      ]
     },
     "execution_count": 155,
     "metadata": {},
     "output_type": "execute_result"
    }
   ],
   "source": [
    "h12.rstrip(\" .^!\")"
   ]
  },
  {
   "cell_type": "code",
   "execution_count": 156,
   "id": "720cfa91",
   "metadata": {},
   "outputs": [
    {
     "data": {
      "text/plain": [
       "'공백과 특수문자가 같이 있는 문자열'"
      ]
     },
     "execution_count": 156,
     "metadata": {},
     "output_type": "execute_result"
    }
   ],
   "source": [
    "h12.strip(\" .,!^\")"
   ]
  },
  {
   "cell_type": "code",
   "execution_count": 163,
   "id": "2f6e3d89",
   "metadata": {
    "scrolled": true
   },
   "outputs": [
    {
     "name": "stdout",
     "output_type": "stream",
     "text": [
      "  ... , 공백과 특수   문자가\n",
      " ^^ 같이 있는 \t문자열 !! ^^ ....  \n"
     ]
    }
   ],
   "source": [
    "h13 = \"  ... , 공백과 특수   문자가\\n ^^ 같이 있는 \\t문자열 !! ^^ ....  \"\n",
    "print(h13)"
   ]
  },
  {
   "cell_type": "markdown",
   "id": "0c2cb0a4",
   "metadata": {},
   "source": [
    "6. 메소드 체이닝(method(함수)  chaining)으로 여러 함수 동시에 사용"
   ]
  },
  {
   "cell_type": "code",
   "execution_count": 210,
   "id": "b04a0fb0",
   "metadata": {},
   "outputs": [
    {
     "data": {
      "text/plain": [
       "'공백과 특수 문자가 같이 있는 문자열'"
      ]
     },
     "execution_count": 210,
     "metadata": {},
     "output_type": "execute_result"
    }
   ],
   "source": [
    "h13.strip(\" .,!^\").replace(\"^\", \"\").replace(\"\\n\", \"\").replace(\"\\t\", \"\").replace(\"   \", \" \").replace(\"  \", \" \")"
   ]
  },
  {
   "cell_type": "code",
   "execution_count": 211,
   "id": "c6220b6f",
   "metadata": {},
   "outputs": [
    {
     "data": {
      "text/plain": [
       "'공백과 특수 문자가 같이 있는 문자열'"
      ]
     },
     "execution_count": 211,
     "metadata": {},
     "output_type": "execute_result"
    }
   ],
   "source": [
    "h13.translate(str.maketrans('','', '.,^!\\n\\t')).replace(\"   \", \" \").replace(\"  \", \" \").strip()"
   ]
  },
  {
   "cell_type": "markdown",
   "id": "3910c176",
   "metadata": {},
   "source": [
    "* string.punctuation를 이용해 특수문자 제거하기"
   ]
  },
  {
   "cell_type": "code",
   "execution_count": 19,
   "id": "91bd075e",
   "metadata": {},
   "outputs": [],
   "source": [
    "import string"
   ]
  },
  {
   "cell_type": "code",
   "execution_count": 20,
   "id": "851ff740",
   "metadata": {},
   "outputs": [
    {
     "data": {
      "text/plain": [
       "['Formatter',\n",
       " 'Template',\n",
       " '_ChainMap',\n",
       " '__all__',\n",
       " '__builtins__',\n",
       " '__cached__',\n",
       " '__doc__',\n",
       " '__file__',\n",
       " '__loader__',\n",
       " '__name__',\n",
       " '__package__',\n",
       " '__spec__',\n",
       " '_re',\n",
       " '_sentinel_dict',\n",
       " '_string',\n",
       " 'ascii_letters',\n",
       " 'ascii_lowercase',\n",
       " 'ascii_uppercase',\n",
       " 'capwords',\n",
       " 'digits',\n",
       " 'hexdigits',\n",
       " 'octdigits',\n",
       " 'printable',\n",
       " 'punctuation',\n",
       " 'whitespace']"
      ]
     },
     "execution_count": 20,
     "metadata": {},
     "output_type": "execute_result"
    }
   ],
   "source": [
    "dir(string)"
   ]
  },
  {
   "cell_type": "code",
   "execution_count": 172,
   "id": "06e1cae5",
   "metadata": {},
   "outputs": [
    {
     "data": {
      "text/plain": [
       "'!\"#$%&\\'()*+,-./:;<=>?@[\\\\]^_`{|}~'"
      ]
     },
     "execution_count": 172,
     "metadata": {},
     "output_type": "execute_result"
    }
   ],
   "source": [
    "string.punctuation"
   ]
  },
  {
   "cell_type": "code",
   "execution_count": 186,
   "id": "117ed789",
   "metadata": {},
   "outputs": [
    {
     "data": {
      "text/plain": [
       "'공백과 특수 문자가 같이 있는 문자열'"
      ]
     },
     "execution_count": 186,
     "metadata": {},
     "output_type": "execute_result"
    }
   ],
   "source": [
    "h13.translate(str.maketrans('','',string.punctuation)).replace(\"\\n\", \"\").replace(\"\\t\", \"\").replace(\"  \", \" \").replace(\"  \", \" \").strip()"
   ]
  },
  {
   "cell_type": "markdown",
   "id": "e77baee4",
   "metadata": {},
   "source": [
    "# 문제1"
   ]
  },
  {
   "cell_type": "code",
   "execution_count": 6,
   "id": "0d310f26",
   "metadata": {},
   "outputs": [],
   "source": [
    "test1 = '''344,622642,더 호텔 수 (THE HOTEL SOO),family,1박 가족 여행,2018년 5월 21일,8.0,\"위치 : 이순신 광장과는 반대편이라 차량으로 이동해야 합니다. 루프탑에서의\n",
    "바다 경치는 좋습니다.\n",
    "시설 : 깔끔하고 좋습니다. 패밀리룸을 사용 했는데 저녁6시쯤 갔더니 마지막 방이라며 2층을 배정 받았습니다. 창문을 여니 약간 쓰레기 냄새가 났고 바다가 보이지 않습니다.        \n",
    "루프탑 : 바베큐 세트가 저렴 했던거 같고 경치가 좋습니다. 수영장도 있었는데 계절이 아닌지.... \n",
    "    하지만 여름이면 좋을것 같습니다. 주차장은 장소가 넓지 않았던거 같고, 저녁에 나갔다 왔더니 야외 공터에 차를 대라고 하였습니다.    \n",
    "주말 저녁이라 그런지 가격을 제법 비싸게 준거 같은데... 2층이라 마음에 들지 않았습니다. 옆에 조선소 같은게 있어 쫌 보기에 좋지 않았습니다......................................'''\n"
   ]
  },
  {
   "cell_type": "code",
   "execution_count": 7,
   "id": "b3cb4a49",
   "metadata": {},
   "outputs": [
    {
     "data": {
      "text/plain": [
       "['344',\n",
       " '622642',\n",
       " '더 호텔 수 (THE HOTEL SOO)',\n",
       " 'family',\n",
       " '1박 가족 여행',\n",
       " '2018년 5월 21일',\n",
       " '8.0',\n",
       " '\"위치 : 이순신 광장과는 반대편이라 차량으로 이동해야 합니다. 루프탑에서의\\n바다 경치는 좋습니다.\\n시설 : 깔끔하고 좋습니다. 패밀리룸을 사용 했는데 저녁6시쯤 갔더니 마지막 방이라며 2층을 배정 받았습니다. 창문을 여니 약간 쓰레기 냄새가 났고 바다가 보이지 않습니다.        \\n루프탑 : 바베큐 세트가 저렴 했던거 같고 경치가 좋습니다. 수영장도 있었는데 계절이 아닌지.... \\n    하지만 여름이면 좋을것 같습니다. 주차장은 장소가 넓지 않았던거 같고',\n",
       " ' 저녁에 나갔다 왔더니 야외 공터에 차를 대라고 하였습니다.    \\n주말 저녁이라 그런지 가격을 제법 비싸게 준거 같은데... 2층이라 마음에 들지 않았습니다. 옆에 조선소 같은게 있어 쫌 보기에 좋지 않았습니다......................................']"
      ]
     },
     "execution_count": 7,
     "metadata": {},
     "output_type": "execute_result"
    }
   ],
   "source": [
    "test1_1 = test1.split(\",\")\n",
    "test1_1"
   ]
  },
  {
   "cell_type": "code",
   "execution_count": 8,
   "id": "4829bccf",
   "metadata": {},
   "outputs": [],
   "source": [
    "hid = 344"
   ]
  },
  {
   "cell_type": "code",
   "execution_count": 9,
   "id": "1a9f7ca8",
   "metadata": {},
   "outputs": [],
   "source": [
    "hid1 = 622642"
   ]
  },
  {
   "cell_type": "code",
   "execution_count": 10,
   "id": "3bba7c96",
   "metadata": {},
   "outputs": [],
   "source": [
    "hotel_name_kor = \"더 호텔 수\""
   ]
  },
  {
   "cell_type": "code",
   "execution_count": 11,
   "id": "7764555a",
   "metadata": {},
   "outputs": [],
   "source": [
    "hotel_name_eng = \"THE HOTEL SOO\""
   ]
  },
  {
   "cell_type": "code",
   "execution_count": 12,
   "id": "70116f12",
   "metadata": {},
   "outputs": [],
   "source": [
    "trip_type = \"family\""
   ]
  },
  {
   "cell_type": "code",
   "execution_count": 13,
   "id": "02fd4f2a",
   "metadata": {},
   "outputs": [],
   "source": [
    "trip_type2 = \"1박 가족 여행\""
   ]
  },
  {
   "cell_type": "code",
   "execution_count": 14,
   "id": "a8267dc7",
   "metadata": {},
   "outputs": [],
   "source": [
    "trip_date = \"2018년 5월 21일\""
   ]
  },
  {
   "cell_type": "code",
   "execution_count": 15,
   "id": "202e85ea",
   "metadata": {},
   "outputs": [],
   "source": [
    "rating = 8.0"
   ]
  },
  {
   "cell_type": "code",
   "execution_count": 16,
   "id": "b96d8380",
   "metadata": {},
   "outputs": [],
   "source": [
    "review = '''위치 : 이순신 광장과는 반대편이라 차량으로 이동해야 합니다. 루프탑에서의\n",
    "바다 경치는 좋습니다.\n",
    "시설 : 깔끔하고 좋습니다. 패밀리룸을 사용 했는데 저녁6시쯤 갔더니 마지막 방이라며 2층을 배정 받았습니다. 창문을 여니 약간 쓰레기 냄새가 났고 바다가 보이지 않습니다.        \n",
    "루프탑 : 바베큐 세트가 저렴 했던거 같고 경치가 좋습니다. 수영장도 있었는데 계절이 아닌지.... \n",
    "    하지만 여름이면 좋을것 같습니다. 주차장은 장소가 넓지 않았던거 같고, 저녁에 나갔다 왔더니 야외 공터에 차를 대라고 하였습니다.    \n",
    "주말 저녁이라 그런지 가격을 제법 비싸게 준거 같은데... 2층이라 마음에 들지 않았습니다. 옆에 조선소 같은게 있어 쫌 보기에 좋지 않았습니다...............'''"
   ]
  },
  {
   "cell_type": "code",
   "execution_count": 17,
   "id": "708df69d",
   "metadata": {},
   "outputs": [
    {
     "data": {
      "text/plain": [
       "['위치',\n",
       " ':',\n",
       " '이순신',\n",
       " '광장과는',\n",
       " '반대편이라',\n",
       " '차량으로',\n",
       " '이동해야',\n",
       " '합니다.',\n",
       " '루프탑에서의',\n",
       " '바다',\n",
       " '경치는',\n",
       " '좋습니다.',\n",
       " '시설',\n",
       " ':',\n",
       " '깔끔하고',\n",
       " '좋습니다.',\n",
       " '패밀리룸을',\n",
       " '사용',\n",
       " '했는데',\n",
       " '저녁6시쯤',\n",
       " '갔더니',\n",
       " '마지막',\n",
       " '방이라며',\n",
       " '2층을',\n",
       " '배정',\n",
       " '받았습니다.',\n",
       " '창문을',\n",
       " '여니',\n",
       " '약간',\n",
       " '쓰레기',\n",
       " '냄새가',\n",
       " '났고',\n",
       " '바다가',\n",
       " '보이지',\n",
       " '않습니다.',\n",
       " '루프탑',\n",
       " ':',\n",
       " '바베큐',\n",
       " '세트가',\n",
       " '저렴',\n",
       " '했던거',\n",
       " '같고',\n",
       " '경치가',\n",
       " '좋습니다.',\n",
       " '수영장도',\n",
       " '있었는데',\n",
       " '계절이',\n",
       " '아닌지....',\n",
       " '하지만',\n",
       " '여름이면',\n",
       " '좋을것',\n",
       " '같습니다.',\n",
       " '주차장은',\n",
       " '장소가',\n",
       " '넓지',\n",
       " '않았던거',\n",
       " '같고,',\n",
       " '저녁에',\n",
       " '나갔다',\n",
       " '왔더니',\n",
       " '야외',\n",
       " '공터에',\n",
       " '차를',\n",
       " '대라고',\n",
       " '하였습니다.',\n",
       " '주말',\n",
       " '저녁이라',\n",
       " '그런지',\n",
       " '가격을',\n",
       " '제법',\n",
       " '비싸게',\n",
       " '준거',\n",
       " '같은데...',\n",
       " '2층이라',\n",
       " '마음에',\n",
       " '들지',\n",
       " '않았습니다.',\n",
       " '옆에',\n",
       " '조선소',\n",
       " '같은게',\n",
       " '있어',\n",
       " '쫌',\n",
       " '보기에',\n",
       " '좋지',\n",
       " '않았습니다...............']"
      ]
     },
     "execution_count": 17,
     "metadata": {},
     "output_type": "execute_result"
    }
   ],
   "source": [
    "review.split()"
   ]
  },
  {
   "cell_type": "code",
   "execution_count": 21,
   "id": "f7d3e03d",
   "metadata": {
    "scrolled": true
   },
   "outputs": [],
   "source": [
    "review1 = review.translate(str.maketrans('','',string.punctuation)).replace(\".\", \"\").replace(\"  \", \"\").replace(\"\\n\", \"\").strip()"
   ]
  },
  {
   "cell_type": "code",
   "execution_count": 22,
   "id": "e5f3852e",
   "metadata": {
    "scrolled": true
   },
   "outputs": [
    {
     "data": {
      "text/plain": [
       "'위치이순신 광장과는 반대편이라 차량으로 이동해야 합니다 루프탑에서의바다 경치는 좋습니다시설깔끔하고 좋습니다 패밀리룸을 사용 했는데 저녁6시쯤 갔더니 마지막 방이라며 2층을 배정 받았습니다 창문을 여니 약간 쓰레기 냄새가 났고 바다가 보이지 않습니다루프탑바베큐 세트가 저렴 했던거 같고 경치가 좋습니다 수영장도 있었는데 계절이 아닌지 하지만 여름이면 좋을것 같습니다 주차장은 장소가 넓지 않았던거 같고 저녁에 나갔다 왔더니 야외 공터에 차를 대라고 하였습니다주말 저녁이라 그런지 가격을 제법 비싸게 준거 같은데 2층이라 마음에 들지 않았습니다 옆에 조선소 같은게 있어 쫌 보기에 좋지 않았습니다'"
      ]
     },
     "execution_count": 22,
     "metadata": {},
     "output_type": "execute_result"
    }
   ],
   "source": [
    "review1"
   ]
  },
  {
   "cell_type": "code",
   "execution_count": 23,
   "id": "0b475964",
   "metadata": {
    "scrolled": true
   },
   "outputs": [],
   "source": [
    "test1_1 = [hid, hid1, hotel_name_kor, hotel_name_eng, trip_type, trip_type2, trip_date, rating, review1]"
   ]
  },
  {
   "cell_type": "code",
   "execution_count": 24,
   "id": "ab949dfd",
   "metadata": {
    "scrolled": true
   },
   "outputs": [
    {
     "data": {
      "text/plain": [
       "[344,\n",
       " 622642,\n",
       " '더 호텔 수',\n",
       " 'THE HOTEL SOO',\n",
       " 'family',\n",
       " '1박 가족 여행',\n",
       " '2018년 5월 21일',\n",
       " 8.0,\n",
       " '위치이순신 광장과는 반대편이라 차량으로 이동해야 합니다 루프탑에서의바다 경치는 좋습니다시설깔끔하고 좋습니다 패밀리룸을 사용 했는데 저녁6시쯤 갔더니 마지막 방이라며 2층을 배정 받았습니다 창문을 여니 약간 쓰레기 냄새가 났고 바다가 보이지 않습니다루프탑바베큐 세트가 저렴 했던거 같고 경치가 좋습니다 수영장도 있었는데 계절이 아닌지 하지만 여름이면 좋을것 같습니다 주차장은 장소가 넓지 않았던거 같고 저녁에 나갔다 왔더니 야외 공터에 차를 대라고 하였습니다주말 저녁이라 그런지 가격을 제법 비싸게 준거 같은데 2층이라 마음에 들지 않았습니다 옆에 조선소 같은게 있어 쫌 보기에 좋지 않았습니다']"
      ]
     },
     "execution_count": 24,
     "metadata": {},
     "output_type": "execute_result"
    }
   ],
   "source": [
    "test1_1"
   ]
  },
  {
   "cell_type": "code",
   "execution_count": 25,
   "id": "9266bd00",
   "metadata": {},
   "outputs": [],
   "source": [
    "test1_1 = [str(item) for item in test1_1]"
   ]
  },
  {
   "cell_type": "code",
   "execution_count": 26,
   "id": "6f371d8e",
   "metadata": {},
   "outputs": [],
   "source": [
    "test1_2 = \",\".join(test1_1)"
   ]
  },
  {
   "cell_type": "code",
   "execution_count": 28,
   "id": "08cd1448",
   "metadata": {},
   "outputs": [
    {
     "data": {
      "text/plain": [
       "str"
      ]
     },
     "execution_count": 28,
     "metadata": {},
     "output_type": "execute_result"
    }
   ],
   "source": [
    "type(test1_2)"
   ]
  },
  {
   "cell_type": "code",
   "execution_count": 30,
   "id": "6e993020",
   "metadata": {
    "scrolled": true
   },
   "outputs": [],
   "source": [
    "test1_3 = test1_2.translate(str.maketrans('','',string.punctuation))"
   ]
  },
  {
   "cell_type": "code",
   "execution_count": 31,
   "id": "41b4d9ba",
   "metadata": {},
   "outputs": [
    {
     "data": {
      "text/plain": [
       "'344622642더 호텔 수THE HOTEL SOOfamily1박 가족 여행2018년 5월 21일80위치이순신 광장과는 반대편이라 차량으로 이동해야 합니다 루프탑에서의바다 경치는 좋습니다시설깔끔하고 좋습니다 패밀리룸을 사용 했는데 저녁6시쯤 갔더니 마지막 방이라며 2층을 배정 받았습니다 창문을 여니 약간 쓰레기 냄새가 났고 바다가 보이지 않습니다루프탑바베큐 세트가 저렴 했던거 같고 경치가 좋습니다 수영장도 있었는데 계절이 아닌지 하지만 여름이면 좋을것 같습니다 주차장은 장소가 넓지 않았던거 같고 저녁에 나갔다 왔더니 야외 공터에 차를 대라고 하였습니다주말 저녁이라 그런지 가격을 제법 비싸게 준거 같은데 2층이라 마음에 들지 않았습니다 옆에 조선소 같은게 있어 쫌 보기에 좋지 않았습니다'"
      ]
     },
     "execution_count": 31,
     "metadata": {},
     "output_type": "execute_result"
    }
   ],
   "source": [
    "test1_3"
   ]
  },
  {
   "cell_type": "markdown",
   "id": "869dd27c",
   "metadata": {},
   "source": [
    "## =============================================="
   ]
  },
  {
   "cell_type": "markdown",
   "id": "67443096",
   "metadata": {},
   "source": [
    "# 문제2"
   ]
  },
  {
   "cell_type": "code",
   "execution_count": 40,
   "id": "9975938c",
   "metadata": {},
   "outputs": [],
   "source": [
    "test2= \"18062,427535,파크 하얏트 부산 (Park Hyatt Busan),family,2박 가족 여행,2019년 12월 29일,10.0,결혼 1주년 기념으로 아이랑 신랑이랑 다녀왔어요~ 룸컨디션 너무 좋았고 뷰가 최고였습니다! 2박 머물렀는데 청소도 깔끔하게 해주시고 애기가 이불에 살짝 토했는데도 바로 갈아주시고 좋았습니다~ 대신 창가쪽 커튼 한쪽이 떨어져있어서 조금 거슬렸구요... 창가에 침실이 있다보니 암막커튼을 치지 않으면 조금 쌀쌀한 느낌은 있었어요! 아 그리고 아기때문에 침대에 가드를 부탁드렸는데 가드가 너무 별로였습니다... 가드 구실을 못하고 넘 허술하게 매트리스 아래 그냥 끼워진거라 아기가 밤새 두번이나 가드사이에 빠졌습니다... 이점 좀 아쉬워요 ! 그 외에는 다이닝룸 리빙룸, 바까지 모두 이용했는데 서비스 좋았습니다~~!\""
   ]
  },
  {
   "cell_type": "code",
   "execution_count": 41,
   "id": "d7d10133",
   "metadata": {},
   "outputs": [],
   "source": [
    "test2 = test2.split(\",\")"
   ]
  },
  {
   "cell_type": "code",
   "execution_count": 42,
   "id": "44d79db7",
   "metadata": {},
   "outputs": [
    {
     "data": {
      "text/plain": [
       "['18062',\n",
       " '427535',\n",
       " '파크 하얏트 부산 (Park Hyatt Busan)',\n",
       " 'family',\n",
       " '2박 가족 여행',\n",
       " '2019년 12월 29일',\n",
       " '10.0',\n",
       " '결혼 1주년 기념으로 아이랑 신랑이랑 다녀왔어요~ 룸컨디션 너무 좋았고 뷰가 최고였습니다! 2박 머물렀는데 청소도 깔끔하게 해주시고 애기가 이불에 살짝 토했는데도 바로 갈아주시고 좋았습니다~ 대신 창가쪽 커튼 한쪽이 떨어져있어서 조금 거슬렸구요... 창가에 침실이 있다보니 암막커튼을 치지 않으면 조금 쌀쌀한 느낌은 있었어요! 아 그리고 아기때문에 침대에 가드를 부탁드렸는데 가드가 너무 별로였습니다... 가드 구실을 못하고 넘 허술하게 매트리스 아래 그냥 끼워진거라 아기가 밤새 두번이나 가드사이에 빠졌습니다... 이점 좀 아쉬워요 ! 그 외에는 다이닝룸 리빙룸',\n",
       " ' 바까지 모두 이용했는데 서비스 좋았습니다~~!']"
      ]
     },
     "execution_count": 42,
     "metadata": {},
     "output_type": "execute_result"
    }
   ],
   "source": [
    "test2"
   ]
  },
  {
   "cell_type": "code",
   "execution_count": 43,
   "id": "8ee1c29a",
   "metadata": {},
   "outputs": [
    {
     "data": {
      "text/plain": [
       "['18062', '427535']"
      ]
     },
     "execution_count": 43,
     "metadata": {},
     "output_type": "execute_result"
    }
   ],
   "source": [
    "test2[:2]"
   ]
  },
  {
   "cell_type": "code",
   "execution_count": null,
   "id": "298d71cd",
   "metadata": {},
   "outputs": [],
   "source": []
  },
  {
   "cell_type": "code",
   "execution_count": null,
   "id": "33c921bd",
   "metadata": {},
   "outputs": [],
   "source": []
  },
  {
   "cell_type": "code",
   "execution_count": null,
   "id": "ac9e23a0",
   "metadata": {},
   "outputs": [],
   "source": []
  },
  {
   "cell_type": "code",
   "execution_count": null,
   "id": "242a3df6",
   "metadata": {},
   "outputs": [],
   "source": []
  },
  {
   "cell_type": "code",
   "execution_count": null,
   "id": "9e8a7fb6",
   "metadata": {},
   "outputs": [],
   "source": []
  },
  {
   "cell_type": "code",
   "execution_count": null,
   "id": "71f11954",
   "metadata": {},
   "outputs": [],
   "source": []
  },
  {
   "cell_type": "code",
   "execution_count": null,
   "id": "18bbd0f8",
   "metadata": {},
   "outputs": [],
   "source": []
  },
  {
   "cell_type": "code",
   "execution_count": null,
   "id": "8214e926",
   "metadata": {},
   "outputs": [],
   "source": []
  },
  {
   "cell_type": "code",
   "execution_count": 283,
   "id": "0a10b8c9",
   "metadata": {},
   "outputs": [
    {
     "data": {
      "text/plain": [
       "'결혼 1주년 기념으로 아이랑 신랑이랑 다녀왔어요 룸컨디션 너무 좋았고 뷰가 최고였습니다 2박 머물렀는데 청소도 깔끔하게 해주시고 애기가 이불에 살짝 토했는데도 바로 갈아주시고 좋았습니다 대신 창가쪽 커튼 한쪽이 떨어져있어서 조금 거슬렸구요 창가에 침실이 있다보니 암막커튼을 치지 않으면 조금 쌀쌀한 느낌은 있었어요 아 그리고 아기때문에 침대에 가드를 부탁드렸는데 가드가 너무 별로였습니다 가드 구실을 못하고 넘 허술하게 매트리스 아래 그냥 끼워진거라 아기가 밤새 두번이나 가드사이에 빠졌습니다 이점 좀 아쉬워요그 외에는 다이닝룸 리빙룸\\n바까지 모두 이용했는데 서비스 좋았습니다'"
      ]
     },
     "execution_count": 283,
     "metadata": {},
     "output_type": "execute_result"
    }
   ],
   "source": [
    "review2.translate(str.maketrans('','',string.punctuation)).replace(\".\", \"\").replace(\"  \", \"\").strip()"
   ]
  },
  {
   "cell_type": "markdown",
   "id": "c8fe85d8",
   "metadata": {},
   "source": [
    "## =============================================="
   ]
  },
  {
   "cell_type": "markdown",
   "id": "56776062",
   "metadata": {},
   "source": [
    "# 문제3"
   ]
  },
  {
   "cell_type": "code",
   "execution_count": 32,
   "id": "cde48d39",
   "metadata": {},
   "outputs": [],
   "source": [
    "test3 = \"\"\"112731,239840,서귀포 칼 호텔 (Seogwipo KAL Hotel),family,3박 가족 여행,2020년 11월 19일,8.0,넓디넓은 정원과 산책로 덕분에 코로나 시대 언택트 여행에 좋았구요. 조용하고 한적하게 잘 쉬었어요.\n",
    "아무래도 서귀포가 제주시쪽보단 사람도 적어서 오히려 편하면서, 주변에 식당이나 까페, 편의점 갈때도 걸어서도 다녀올 입지라 좋습니다.\n",
    "실내 수영장은 생각만큼? 작은 규모라 오히려 사람 없이 잘 놀았어요ㅎㅎ \n",
    "라운지바가 넓고 층고도 높아서 커피나 맥주 먹으며 쉬기에 좋고요.\n",
    "매일 주시는 1.5리터 생수ㅎㅎ별거 아닐수 있지만 매우 감사했구요.\n",
    "다만 층수가 낮은 방이어서 그런가 모기가 있었어요^^;; 그외에는 다 깨끗했구요. \n",
    "매트리스가 오래됐는지 묘하게 불편해서 허리가 아프긴 하더라고요;; 다행히? 세미온돌이라 바닥에서 자는게 오히려 나았고요\n",
    "조식은...최근 후기가 다 별로라길래 하루만 가봤는데 역시;;ㅎ 뭐 저렴하기도 하지만.. 저는 나가서 먹었습니다.\"\"\""
   ]
  },
  {
   "cell_type": "code",
   "execution_count": null,
   "id": "a748f3ed",
   "metadata": {},
   "outputs": [],
   "source": []
  },
  {
   "cell_type": "code",
   "execution_count": null,
   "id": "3efd5dfe",
   "metadata": {},
   "outputs": [],
   "source": []
  },
  {
   "cell_type": "code",
   "execution_count": null,
   "id": "d1f9ab37",
   "metadata": {},
   "outputs": [],
   "source": []
  },
  {
   "cell_type": "code",
   "execution_count": null,
   "id": "20a76eb6",
   "metadata": {},
   "outputs": [],
   "source": []
  },
  {
   "cell_type": "code",
   "execution_count": null,
   "id": "4b9b99c8",
   "metadata": {},
   "outputs": [],
   "source": []
  },
  {
   "cell_type": "code",
   "execution_count": null,
   "id": "b36ea6f1",
   "metadata": {},
   "outputs": [],
   "source": []
  },
  {
   "cell_type": "code",
   "execution_count": null,
   "id": "018a4174",
   "metadata": {},
   "outputs": [],
   "source": []
  },
  {
   "cell_type": "code",
   "execution_count": null,
   "id": "ecd3f418",
   "metadata": {},
   "outputs": [],
   "source": []
  }
 ],
 "metadata": {
  "kernelspec": {
   "display_name": "Python 3 (ipykernel)",
   "language": "python",
   "name": "python3"
  },
  "language_info": {
   "codemirror_mode": {
    "name": "ipython",
    "version": 3
   },
   "file_extension": ".py",
   "mimetype": "text/x-python",
   "name": "python",
   "nbconvert_exporter": "python",
   "pygments_lexer": "ipython3",
   "version": "3.11.9"
  }
 },
 "nbformat": 4,
 "nbformat_minor": 5
}
