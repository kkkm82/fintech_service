{
 "cells": [
  {
   "cell_type": "markdown",
   "id": "75aaaca9",
   "metadata": {},
   "source": [
    "# 딕셔너리 dict 사용하기\n",
    "* 딕셔너리형(dictionary) 변수 = JSON형\n",
    "* 웹상에서 가장 많이 사용되는 자료형\n",
    "* 딕셔너리를 잘 이해하면 pandas도 쉽게 이해 가능\n",
    "* key : value로 이루어져 있음\n",
    "* key를 호출하면 value가 나온다."
   ]
  },
  {
   "cell_type": "markdown",
   "id": "709c6452",
   "metadata": {},
   "source": [
    "## 딕셔너리 만들기 : {key : value, key : value . . .}"
   ]
  },
  {
   "cell_type": "code",
   "execution_count": 1,
   "id": "c104e6dc",
   "metadata": {},
   "outputs": [
    {
     "data": {
      "text/plain": [
       "{'년월': '20240710', '국가': '미국', '방문자수': 1000}"
      ]
     },
     "execution_count": 1,
     "metadata": {},
     "output_type": "execute_result"
    }
   ],
   "source": [
    "d = {'년월' : '20240710', '국가' : '미국', '방문자수' : 1000}\n",
    "d"
   ]
  },
  {
   "cell_type": "code",
   "execution_count": 4,
   "id": "4d7cec34",
   "metadata": {},
   "outputs": [
    {
     "data": {
      "text/plain": [
       "'20240710'"
      ]
     },
     "execution_count": 4,
     "metadata": {},
     "output_type": "execute_result"
    }
   ],
   "source": [
    "d['년월']"
   ]
  },
  {
   "cell_type": "markdown",
   "id": "49776344",
   "metadata": {},
   "source": [
    "## 딕셔너리 key의 자료형\n",
    "* 문자열, 정수, 실수, 불린(True, False), tuple\n",
    "* list, dict는 키가 될 수 X"
   ]
  },
  {
   "cell_type": "code",
   "execution_count": 8,
   "id": "d825a7b1",
   "metadata": {},
   "outputs": [
    {
     "data": {
      "text/plain": [
       "{'백': 100, 100: '백', 3.5: [3.6, 3.7], False: 0, (0, '서울'): '종로구'}"
      ]
     },
     "execution_count": 8,
     "metadata": {},
     "output_type": "execute_result"
    }
   ],
   "source": [
    "e = {'백':100, 100:'백', 3.5:[3.6, 3.7], False:0, (0,'서울'):\"종로구\"}\n",
    "e"
   ]
  },
  {
   "cell_type": "code",
   "execution_count": 9,
   "id": "c2d5a0fd",
   "metadata": {},
   "outputs": [
    {
     "data": {
      "text/plain": [
       "100"
      ]
     },
     "execution_count": 9,
     "metadata": {},
     "output_type": "execute_result"
    }
   ],
   "source": [
    "e['백']"
   ]
  },
  {
   "cell_type": "code",
   "execution_count": 10,
   "id": "5c927159",
   "metadata": {},
   "outputs": [
    {
     "data": {
      "text/plain": [
       "'백'"
      ]
     },
     "execution_count": 10,
     "metadata": {},
     "output_type": "execute_result"
    }
   ],
   "source": [
    "e[100]"
   ]
  },
  {
   "cell_type": "code",
   "execution_count": 11,
   "id": "336c35e4",
   "metadata": {},
   "outputs": [
    {
     "data": {
      "text/plain": [
       "[3.6, 3.7]"
      ]
     },
     "execution_count": 11,
     "metadata": {},
     "output_type": "execute_result"
    }
   ],
   "source": [
    "e[3.5]"
   ]
  },
  {
   "cell_type": "code",
   "execution_count": 12,
   "id": "55b45dfd",
   "metadata": {},
   "outputs": [
    {
     "data": {
      "text/plain": [
       "0"
      ]
     },
     "execution_count": 12,
     "metadata": {},
     "output_type": "execute_result"
    }
   ],
   "source": [
    "e[False]"
   ]
  },
  {
   "cell_type": "code",
   "execution_count": 16,
   "id": "0d2f7346",
   "metadata": {},
   "outputs": [
    {
     "data": {
      "text/plain": [
       "'종로구'"
      ]
     },
     "execution_count": 16,
     "metadata": {},
     "output_type": "execute_result"
    }
   ],
   "source": [
    "e[(0,\"서울\")]"
   ]
  },
  {
   "cell_type": "markdown",
   "id": "9e28ed13",
   "metadata": {},
   "source": [
    "## 딕셔너리 value의 자료형\n",
    "* value : 모든 자료형 O"
   ]
  },
  {
   "cell_type": "code",
   "execution_count": 18,
   "id": "d395b3b4",
   "metadata": {},
   "outputs": [
    {
     "data": {
      "text/plain": [
       "{'정수': 100,\n",
       " '실수': 13.5,\n",
       " '문자열': '딕셔너리의 값',\n",
       " '리스트': [1, 2, 3, 4],\n",
       " '튜플': (1, 2, 3, 4),\n",
       " '딕셔너리': {'key': 'value'},\n",
       " '불린': True}"
      ]
     },
     "execution_count": 18,
     "metadata": {},
     "output_type": "execute_result"
    }
   ],
   "source": [
    "f = {'정수':100, '실수':13.5, '문자열':'딕셔너리의 값', '리스트':[1,2,3,4], '튜플':(1,2,3,4), '딕셔너리':{'key':'value'}, '불린':True}\n",
    "f"
   ]
  },
  {
   "cell_type": "code",
   "execution_count": 21,
   "id": "656c5291",
   "metadata": {},
   "outputs": [
    {
     "data": {
      "text/plain": [
       "3"
      ]
     },
     "execution_count": 21,
     "metadata": {},
     "output_type": "execute_result"
    }
   ],
   "source": [
    "f['리스트'][2]"
   ]
  },
  {
   "cell_type": "code",
   "execution_count": 23,
   "id": "117c157e",
   "metadata": {},
   "outputs": [
    {
     "data": {
      "text/plain": [
       "'value'"
      ]
     },
     "execution_count": 23,
     "metadata": {},
     "output_type": "execute_result"
    }
   ],
   "source": [
    "f['딕셔너리']['key']"
   ]
  },
  {
   "cell_type": "markdown",
   "id": "4ea9bc02",
   "metadata": {},
   "source": [
    "## 빈 딕셔너리 만들기\n",
    "* {}\n",
    "* dict()"
   ]
  },
  {
   "cell_type": "code",
   "execution_count": 25,
   "id": "d9b96600",
   "metadata": {},
   "outputs": [
    {
     "data": {
      "text/plain": [
       "{}"
      ]
     },
     "execution_count": 25,
     "metadata": {},
     "output_type": "execute_result"
    }
   ],
   "source": [
    "g = {}\n",
    "g"
   ]
  },
  {
   "cell_type": "code",
   "execution_count": 27,
   "id": "66d9bf3a",
   "metadata": {},
   "outputs": [
    {
     "data": {
      "text/plain": [
       "{}"
      ]
     },
     "execution_count": 27,
     "metadata": {},
     "output_type": "execute_result"
    }
   ],
   "source": [
    "h = dict()\n",
    "h"
   ]
  },
  {
   "cell_type": "markdown",
   "id": "a303746a",
   "metadata": {},
   "source": [
    "## 딕셔너리에 자료 추가하기\n",
    "* 변수['key'] = value"
   ]
  },
  {
   "cell_type": "code",
   "execution_count": 39,
   "id": "bccd9c69",
   "metadata": {},
   "outputs": [
    {
     "data": {
      "text/plain": [
       "{'번호': 0, '이름': '홍길동'}"
      ]
     },
     "execution_count": 39,
     "metadata": {},
     "output_type": "execute_result"
    }
   ],
   "source": [
    "g['번호'] = 0\n",
    "g"
   ]
  },
  {
   "cell_type": "code",
   "execution_count": 40,
   "id": "93e29faa",
   "metadata": {},
   "outputs": [
    {
     "data": {
      "text/plain": [
       "{'번호': 0, '이름': '홍길동'}"
      ]
     },
     "execution_count": 40,
     "metadata": {},
     "output_type": "execute_result"
    }
   ],
   "source": [
    "g['이름'] = '홍길동'\n",
    "g"
   ]
  },
  {
   "cell_type": "markdown",
   "id": "c67cf8a9",
   "metadata": {},
   "source": [
    "## 딕셔너리의 value 수정하기\n",
    "* g['key'] = 새 value"
   ]
  },
  {
   "cell_type": "code",
   "execution_count": 41,
   "id": "57172ad6",
   "metadata": {},
   "outputs": [
    {
     "data": {
      "text/plain": [
       "{'번호': 2, '이름': '홍길동'}"
      ]
     },
     "execution_count": 41,
     "metadata": {},
     "output_type": "execute_result"
    }
   ],
   "source": [
    "g['번호'] = 2\n",
    "g"
   ]
  },
  {
   "cell_type": "code",
   "execution_count": 43,
   "id": "d0be7480",
   "metadata": {},
   "outputs": [
    {
     "data": {
      "text/plain": [
       "{'번호': 2, '이름': '김삼순'}"
      ]
     },
     "execution_count": 43,
     "metadata": {},
     "output_type": "execute_result"
    }
   ],
   "source": [
    "g['이름'] = '김삼순'\n",
    "g"
   ]
  },
  {
   "cell_type": "markdown",
   "id": "23aa212e",
   "metadata": {},
   "source": [
    "## dict()로 딕셔너리 만들기(1, 3번 주로 사용)"
   ]
  },
  {
   "cell_type": "markdown",
   "id": "bee326fe",
   "metadata": {},
   "source": [
    "### 1) dict(key1 = value1, key2 = 'value2' . . . .)\n",
    "* **key에 '', \"\"를 사용하지 X**\n",
    "* key는 모두 문자로 변환\n",
    "* value가 문자형 자료라면 반드시 \"\", ''가 필요"
   ]
  },
  {
   "cell_type": "code",
   "execution_count": 46,
   "id": "b13a8c10",
   "metadata": {},
   "outputs": [
    {
     "data": {
      "text/plain": [
       "{'정수': 100,\n",
       " '실수': 13.5,\n",
       " '문자': '문자열',\n",
       " '리스트': [1, 2, 3],\n",
       " '튜플': (4, 5, 6),\n",
       " '딕셔너리': {'key': 'value'}}"
      ]
     },
     "execution_count": 46,
     "metadata": {},
     "output_type": "execute_result"
    }
   ],
   "source": [
    "d = dict(정수=100, 실수=13.5, 문자='문자열', 리스트=[1,2,3], 튜플=(4,5,6), 딕셔너리={'key':'value'})\n",
    "d"
   ]
  },
  {
   "cell_type": "markdown",
   "id": "3af7ca2a",
   "metadata": {},
   "source": [
    "### 2) dict([(key1, value1), (key2, value2) . . .]) 형식으로  만들기\n",
    "* 리스트 안에 튜플 나열하여 "
   ]
  },
  {
   "cell_type": "code",
   "execution_count": 49,
   "id": "4bca96da",
   "metadata": {},
   "outputs": [
    {
     "data": {
      "text/plain": [
       "{'key1': 100, '실수': 3.14, '리스트': [1, 2, 3]}"
      ]
     },
     "execution_count": 49,
     "metadata": {},
     "output_type": "execute_result"
    }
   ],
   "source": [
    "d2 = dict(['key1', 100), ('실수',3.14), ('리스트',[1,2,3])])\n",
    "d2"
   ]
  },
  {
   "cell_type": "markdown",
   "id": "3691a95b",
   "metadata": {},
   "source": [
    "### 3) dict(zip([key1, key2], [value1, value2] . . .)) 형식으로 만들기\n",
    "* key 묶음 리스트와 value 묶음 리스트를 zip함수로 합친 후, dict로 만듦\n",
    "* key 묶음과 value 묶음은 요소의 개수가 같아야 함"
   ]
  },
  {
   "cell_type": "code",
   "execution_count": 52,
   "id": "787fc7e0",
   "metadata": {},
   "outputs": [
    {
     "data": {
      "text/plain": [
       "{'문자열': '딕셔너리의 값',\n",
       " '리스트': [1, 2, 3, 4],\n",
       " '튜플': (5, 6, 7, 8),\n",
       " '딕셔너리': {'key': 'value'},\n",
       " '불린': True}"
      ]
     },
     "execution_count": 52,
     "metadata": {},
     "output_type": "execute_result"
    }
   ],
   "source": [
    "d3 = dict(zip(['문자열', '리스트', '튜플', '딕셔너리', '불린'], ['딕셔너리의 값', [1,2,3,4], (5,6,7,8), {'key':'value'}, True]))\n",
    "d3"
   ]
  },
  {
   "cell_type": "markdown",
   "id": "98db81ee",
   "metadata": {},
   "source": [
    "### 딕셔너리에서 값 삭제하기 \n",
    "* del 변수명['key'] : key와 value 동시 삭제"
   ]
  },
  {
   "cell_type": "code",
   "execution_count": 53,
   "id": "bf805ae6",
   "metadata": {},
   "outputs": [
    {
     "data": {
      "text/plain": [
       "{'문자열': '딕셔너리의 값',\n",
       " '리스트': [1, 2, 3, 4],\n",
       " '튜플': (5, 6, 7, 8),\n",
       " '딕셔너리': {'key': 'value'},\n",
       " '불린': True,\n",
       " '믄자열': '오타가 난 키 값'}"
      ]
     },
     "execution_count": 53,
     "metadata": {},
     "output_type": "execute_result"
    }
   ],
   "source": [
    "d3['믄자열'] = '오타가 난 키 값'\n",
    "d3"
   ]
  },
  {
   "cell_type": "code",
   "execution_count": 54,
   "id": "4504e879",
   "metadata": {},
   "outputs": [
    {
     "data": {
      "text/plain": [
       "{'문자열': '딕셔너리의 값',\n",
       " '리스트': [1, 2, 3, 4],\n",
       " '튜플': (5, 6, 7, 8),\n",
       " '딕셔너리': {'key': 'value'},\n",
       " '불린': True}"
      ]
     },
     "execution_count": 54,
     "metadata": {},
     "output_type": "execute_result"
    }
   ],
   "source": [
    "del d3['믄자열']\n",
    "d3"
   ]
  },
  {
   "cell_type": "code",
   "execution_count": 55,
   "id": "c6d3d7ad",
   "metadata": {},
   "outputs": [
    {
     "data": {
      "text/plain": [
       "{'문자열': '딕셔너리의 값',\n",
       " '리스트': [1, 3, 4],\n",
       " '튜플': (5, 6, 7, 8),\n",
       " '딕셔너리': {'key': 'value'},\n",
       " '불린': True}"
      ]
     },
     "execution_count": 55,
     "metadata": {},
     "output_type": "execute_result"
    }
   ],
   "source": [
    "del d3['리스트'][1]\n",
    "d3"
   ]
  },
  {
   "cell_type": "code",
   "execution_count": 56,
   "id": "30c01765",
   "metadata": {},
   "outputs": [
    {
     "data": {
      "text/plain": [
       "[1, 3, 4]"
      ]
     },
     "execution_count": 56,
     "metadata": {},
     "output_type": "execute_result"
    }
   ],
   "source": [
    "d3['리스트']"
   ]
  },
  {
   "cell_type": "code",
   "execution_count": 59,
   "id": "a66f66f1",
   "metadata": {},
   "outputs": [
    {
     "data": {
      "text/plain": [
       "3"
      ]
     },
     "execution_count": 59,
     "metadata": {},
     "output_type": "execute_result"
    }
   ],
   "source": [
    "# 맨 뒤 값 출력하고 삭제\n",
    "d3['리스트'].pop()"
   ]
  },
  {
   "cell_type": "code",
   "execution_count": 58,
   "id": "7bfb0feb",
   "metadata": {},
   "outputs": [
    {
     "data": {
      "text/plain": [
       "[1, 3]"
      ]
     },
     "execution_count": 58,
     "metadata": {},
     "output_type": "execute_result"
    }
   ],
   "source": [
    "d3['리스트']"
   ]
  },
  {
   "cell_type": "code",
   "execution_count": 60,
   "id": "57f8c718",
   "metadata": {},
   "outputs": [
    {
     "data": {
      "text/plain": [
       "{'문자열': '딕셔너리의 값',\n",
       " '리스트': [1],\n",
       " '튜플': (5, 6, 7, 8),\n",
       " '딕셔너리': {'key': 'value'},\n",
       " '불린': True}"
      ]
     },
     "execution_count": 60,
     "metadata": {},
     "output_type": "execute_result"
    }
   ],
   "source": [
    "d3"
   ]
  },
  {
   "cell_type": "code",
   "execution_count": 61,
   "id": "30f2c39c",
   "metadata": {},
   "outputs": [
    {
     "data": {
      "text/plain": [
       "{'문자열': '딕셔너리의 값',\n",
       " '리스트': [1, 2],\n",
       " '튜플': (5, 6, 7, 8),\n",
       " '딕셔너리': {'key': 'value'},\n",
       " '불린': True}"
      ]
     },
     "execution_count": 61,
     "metadata": {},
     "output_type": "execute_result"
    }
   ],
   "source": [
    "d3['리스트'].insert(1, 2)\n",
    "d3"
   ]
  },
  {
   "cell_type": "code",
   "execution_count": 62,
   "id": "164dbd2e",
   "metadata": {},
   "outputs": [
    {
     "data": {
      "text/plain": [
       "{'문자열': '딕셔너리의 값',\n",
       " '리스트': [1, 2, 3],\n",
       " '튜플': (5, 6, 7, 8),\n",
       " '딕셔너리': {'key': 'value'},\n",
       " '불린': True}"
      ]
     },
     "execution_count": 62,
     "metadata": {},
     "output_type": "execute_result"
    }
   ],
   "source": [
    "d3['리스트'].insert(2, 3)\n",
    "d3"
   ]
  },
  {
   "cell_type": "markdown",
   "id": "4a628c81",
   "metadata": {},
   "source": [
    "### 딕셔너리 안에 특정 key가 있는지 확인하기\n",
    "* in, not in 연산자 사용"
   ]
  },
  {
   "cell_type": "code",
   "execution_count": 63,
   "id": "8d3255e5",
   "metadata": {},
   "outputs": [
    {
     "data": {
      "text/plain": [
       "True"
      ]
     },
     "execution_count": 63,
     "metadata": {},
     "output_type": "execute_result"
    }
   ],
   "source": [
    "'리스트' in d3"
   ]
  },
  {
   "cell_type": "code",
   "execution_count": 64,
   "id": "7a32bb15",
   "metadata": {},
   "outputs": [
    {
     "data": {
      "text/plain": [
       "True"
      ]
     },
     "execution_count": 64,
     "metadata": {},
     "output_type": "execute_result"
    }
   ],
   "source": [
    "'투플' not in d3"
   ]
  },
  {
   "cell_type": "markdown",
   "id": "7ca6115a",
   "metadata": {},
   "source": [
    "### len() : 딕셔너리 key의 개수 구하기\n",
    "* 안쪽에 있는 건 박스 열어야 가능"
   ]
  },
  {
   "cell_type": "code",
   "execution_count": 65,
   "id": "914308d8",
   "metadata": {},
   "outputs": [
    {
     "data": {
      "text/plain": [
       "5"
      ]
     },
     "execution_count": 65,
     "metadata": {},
     "output_type": "execute_result"
    }
   ],
   "source": [
    "len(d3)"
   ]
  },
  {
   "cell_type": "markdown",
   "id": "891646dd",
   "metadata": {},
   "source": [
    "## 딕셔너리 함수 사용하기"
   ]
  },
  {
   "cell_type": "markdown",
   "id": "bae9ab05",
   "metadata": {},
   "source": [
    "### 1) setdefault(key, value)\n",
    "* 딕셔너리에 key와 value를 추가\n",
    "* key만 지정하면 value는 'None'으로 입력됨"
   ]
  },
  {
   "cell_type": "code",
   "execution_count": 66,
   "id": "c5715025",
   "metadata": {},
   "outputs": [
    {
     "data": {
      "text/plain": [
       "{'문자열': '딕셔너리의 값',\n",
       " '리스트': [1, 2, 3],\n",
       " '튜플': (5, 6, 7, 8),\n",
       " '딕셔너리': {'key': 'value'},\n",
       " '불린': True}"
      ]
     },
     "execution_count": 66,
     "metadata": {},
     "output_type": "execute_result"
    }
   ],
   "source": [
    "d3"
   ]
  },
  {
   "cell_type": "code",
   "execution_count": 67,
   "id": "93c0775f",
   "metadata": {},
   "outputs": [
    {
     "data": {
      "text/plain": [
       "{'문자열': '딕셔너리의 값',\n",
       " '리스트': [1, 2, 3],\n",
       " '튜플': (5, 6, 7, 8),\n",
       " '딕셔너리': {'key': 'value'},\n",
       " '불린': True,\n",
       " 'd': None}"
      ]
     },
     "execution_count": 67,
     "metadata": {},
     "output_type": "execute_result"
    }
   ],
   "source": [
    "d3.setdefault('d')\n",
    "d3"
   ]
  },
  {
   "cell_type": "code",
   "execution_count": 68,
   "id": "6d4a568b",
   "metadata": {},
   "outputs": [
    {
     "data": {
      "text/plain": [
       "{'문자열': '딕셔너리의 값',\n",
       " '리스트': [1, 2, 3],\n",
       " '튜플': (5, 6, 7, 8),\n",
       " '딕셔너리': {'key': 'value'},\n",
       " '불린': True,\n",
       " 'd': None,\n",
       " 'e': 123}"
      ]
     },
     "execution_count": 68,
     "metadata": {},
     "output_type": "execute_result"
    }
   ],
   "source": [
    "d3.setdefault('e',123)\n",
    "d3"
   ]
  },
  {
   "cell_type": "markdown",
   "id": "246f6667",
   "metadata": {},
   "source": [
    "* 딕셔너리는 key 중복 X\n",
    "* 만약 key가 중복되면 나중에 할당한 값으로 변환"
   ]
  },
  {
   "cell_type": "code",
   "execution_count": 69,
   "id": "a222747c",
   "metadata": {},
   "outputs": [
    {
     "data": {
      "text/plain": [
       "{'문자열': '딕셔너리의 값',\n",
       " '리스트': '리스트지',\n",
       " '튜플': (5, 6, 7, 8),\n",
       " '딕셔너리': {'key': 'value'},\n",
       " '불린': True,\n",
       " 'd': None,\n",
       " 'e': 123}"
      ]
     },
     "execution_count": 69,
     "metadata": {},
     "output_type": "execute_result"
    }
   ],
   "source": [
    "d4 = {'문자열': '딕셔너리의 값', '리스트': [1, 2, 3], '튜플': (5, 6, 7, 8), '딕셔너리': {'key': 'value'}, '불린': True, 'd': None, 'e': 123, '리스트':'리스트지'}\n",
    "d4"
   ]
  },
  {
   "cell_type": "code",
   "execution_count": 72,
   "id": "e4e7483e",
   "metadata": {},
   "outputs": [],
   "source": [
    "# 이런 식으로 직접 할당하는 것은 좋은 방법은 X --> 그럴 때 setdefault 함수 사용\n",
    "d4['리스트'] = '새로운 값'"
   ]
  },
  {
   "cell_type": "code",
   "execution_count": 71,
   "id": "91aeb3dd",
   "metadata": {},
   "outputs": [
    {
     "data": {
      "text/plain": [
       "{'문자열': '딕셔너리의 값',\n",
       " '리스트': '새로운 값',\n",
       " '튜플': (5, 6, 7, 8),\n",
       " '딕셔너리': {'key': 'value'},\n",
       " '불린': True,\n",
       " 'd': None,\n",
       " 'e': 123}"
      ]
     },
     "execution_count": 71,
     "metadata": {},
     "output_type": "execute_result"
    }
   ],
   "source": [
    "d4"
   ]
  },
  {
   "cell_type": "markdown",
   "id": "26fe8bb7",
   "metadata": {},
   "source": [
    "* setdefault는 기존에 key가 있는 경우 value 업데이트 X"
   ]
  },
  {
   "cell_type": "code",
   "execution_count": 74,
   "id": "dadbb68f",
   "metadata": {},
   "outputs": [
    {
     "data": {
      "text/plain": [
       "{'문자열': '딕셔너리의 값',\n",
       " '리스트': '새로운 값',\n",
       " '튜플': (5, 6, 7, 8),\n",
       " '딕셔너리': {'key': 'value'},\n",
       " '불린': True,\n",
       " 'd': None,\n",
       " 'e': 123}"
      ]
     },
     "execution_count": 74,
     "metadata": {},
     "output_type": "execute_result"
    }
   ],
   "source": [
    "# e에 이미 값 존재하므로 업데이트 X\n",
    "d4.setdefault('e','eeee')\n",
    "d4"
   ]
  },
  {
   "cell_type": "markdown",
   "id": "016e9660",
   "metadata": {},
   "source": [
    "### 2) update(key=value)\n",
    "* **key는 문자형 key라도 '', \"\" 사용 X** --> dict 1번 함수와 비슷\n",
    "* **key를 문자형이 아니라 정수, 실수, 튜플로 넣을 경우에는 {key:value} 형식으로 넣는다.**"
   ]
  },
  {
   "cell_type": "code",
   "execution_count": 75,
   "id": "e2b5159c",
   "metadata": {},
   "outputs": [
    {
     "data": {
      "text/plain": [
       "{'문자열': '딕셔너리의 값',\n",
       " '리스트': '새로운 값',\n",
       " '튜플': (5, 6, 7, 8),\n",
       " '딕셔너리': {'key': 'value'},\n",
       " '불린': True,\n",
       " 'd': None,\n",
       " 'e': 'eee'}"
      ]
     },
     "execution_count": 75,
     "metadata": {},
     "output_type": "execute_result"
    }
   ],
   "source": [
    "d4.update(e='eee')\n",
    "d4"
   ]
  },
  {
   "cell_type": "code",
   "execution_count": 76,
   "id": "f62126bb",
   "metadata": {},
   "outputs": [
    {
     "data": {
      "text/plain": [
       "{'문자열': '딕셔너리의 값',\n",
       " '리스트': '새로운 값',\n",
       " '튜플': (5, 6, 7, 8),\n",
       " '딕셔너리': {'key': 'value'},\n",
       " '불린': True,\n",
       " 'd': None,\n",
       " 'e': 'eee',\n",
       " 13: '십 삼'}"
      ]
     },
     "execution_count": 76,
     "metadata": {},
     "output_type": "execute_result"
    }
   ],
   "source": [
    "d4.update({13:'십 삼'})\n",
    "d4"
   ]
  },
  {
   "cell_type": "code",
   "execution_count": 77,
   "id": "d41de68c",
   "metadata": {},
   "outputs": [
    {
     "data": {
      "text/plain": [
       "{'문자열': '딕셔너리의 값',\n",
       " '리스트': '새로운 값',\n",
       " '튜플': (5, 6, 7, 8),\n",
       " '딕셔너리': {'key': 'value'},\n",
       " '불린': True,\n",
       " 'd': None,\n",
       " 'e': 'eee',\n",
       " 13: '십 삼',\n",
       " (0, '도시'): '서울시'}"
      ]
     },
     "execution_count": 77,
     "metadata": {},
     "output_type": "execute_result"
    }
   ],
   "source": [
    "d4.update({(0,'도시'):'서울시'})\n",
    "d4"
   ]
  },
  {
   "cell_type": "code",
   "execution_count": 82,
   "id": "6e2194e1",
   "metadata": {},
   "outputs": [
    {
     "data": {
      "text/plain": [
       "{'문자열': '딕셔너리의 값',\n",
       " '리스트': '새로운 값',\n",
       " '튜플': (5, 6, 7, 8),\n",
       " '딕셔너리': {'key': 'value'},\n",
       " '불린': True,\n",
       " 'd': '사십',\n",
       " 'e': '오십',\n",
       " 13: '십 삼',\n",
       " (0, '도시'): '서울시',\n",
       " 'a': '십',\n",
       " 'b': '이십',\n",
       " 'c': '삼십',\n",
       " 'f': '육십'}"
      ]
     },
     "execution_count": 82,
     "metadata": {},
     "output_type": "execute_result"
    }
   ],
   "source": [
    "# 다중 리스트\n",
    "d4.update([['a','십'], ['b', '이십'], ['c', '삼십']])\n",
    "d4"
   ]
  },
  {
   "cell_type": "code",
   "execution_count": 83,
   "id": "e9362db1",
   "metadata": {},
   "outputs": [
    {
     "data": {
      "text/plain": [
       "{'문자열': '딕셔너리의 값',\n",
       " '리스트': '새로운 값',\n",
       " '튜플': (5, 6, 7, 8),\n",
       " '딕셔너리': {'key': 'value'},\n",
       " '불린': True,\n",
       " 'd': '사십',\n",
       " 'e': '오십',\n",
       " 13: '십 삼',\n",
       " (0, '도시'): '서울시',\n",
       " 'a': '십',\n",
       " 'b': '이십',\n",
       " 'c': '삼십',\n",
       " 'f': '육십'}"
      ]
     },
     "execution_count": 83,
     "metadata": {},
     "output_type": "execute_result"
    }
   ],
   "source": [
    "# 다중 튜플\n",
    "d4.update((('d','사십'), ('e', '오십'), ('f', '육십')))\n",
    "d4"
   ]
  },
  {
   "cell_type": "markdown",
   "id": "f14a262b",
   "metadata": {},
   "source": [
    "* pop('key')로 삭제하기"
   ]
  },
  {
   "cell_type": "code",
   "execution_count": 86,
   "id": "0e3794eb",
   "metadata": {},
   "outputs": [
    {
     "data": {
      "text/plain": [
       "{'문자열': '딕셔너리의 값',\n",
       " '리스트': '새로운 값',\n",
       " '튜플': (5, 6, 7, 8),\n",
       " '딕셔너리': {'key': 'value'},\n",
       " '불린': True,\n",
       " 'd': '사십',\n",
       " 'e': '오십',\n",
       " 13: '십 삼',\n",
       " (0, '도시'): '서울시',\n",
       " 'a': '십',\n",
       " 'b': '이십'}"
      ]
     },
     "execution_count": 86,
     "metadata": {},
     "output_type": "execute_result"
    }
   ],
   "source": [
    "d4.pop('c')\n",
    "d4"
   ]
  },
  {
   "cell_type": "code",
   "execution_count": 94,
   "id": "01ecf50c",
   "metadata": {},
   "outputs": [
    {
     "data": {
      "text/plain": [
       "1"
      ]
     },
     "execution_count": 94,
     "metadata": {},
     "output_type": "execute_result"
    }
   ],
   "source": [
    "# 키 c값을 삭제하되, 없으면 뒤에 있는 값을 출력하는 것 --> 에러가 안 남\n",
    "d4.pop('c', 1)"
   ]
  },
  {
   "cell_type": "markdown",
   "id": "64357aee",
   "metadata": {},
   "source": [
    "### 딕셔너리에서 value 가져오는 함수 : .get() --> 오류 방지 위해서 사용\n",
    "* .get(key, key가 없을 때 기본 값)"
   ]
  },
  {
   "cell_type": "code",
   "execution_count": 88,
   "id": "c661a270",
   "metadata": {},
   "outputs": [
    {
     "data": {
      "text/plain": [
       "{'문자열': '딕셔너리의 값',\n",
       " '리스트': '새로운 값',\n",
       " '튜플': (5, 6, 7, 8),\n",
       " '딕셔너리': {'key': 'value'},\n",
       " '불린': True,\n",
       " 'd': '사십',\n",
       " 'e': '오십',\n",
       " 13: '십 삼',\n",
       " (0, '도시'): '서울시',\n",
       " 'a': '십',\n",
       " 'b': '이십'}"
      ]
     },
     "execution_count": 88,
     "metadata": {},
     "output_type": "execute_result"
    }
   ],
   "source": [
    "d4"
   ]
  },
  {
   "cell_type": "code",
   "execution_count": 91,
   "id": "89143235",
   "metadata": {},
   "outputs": [
    {
     "ename": "KeyError",
     "evalue": "'f'",
     "output_type": "error",
     "traceback": [
      "\u001b[1;31m---------------------------------------------------------------------------\u001b[0m",
      "\u001b[1;31mKeyError\u001b[0m                                  Traceback (most recent call last)",
      "Cell \u001b[1;32mIn[91], line 2\u001b[0m\n\u001b[0;32m      1\u001b[0m \u001b[38;5;66;03m# f 키 값이 없어서 오류\u001b[39;00m\n\u001b[1;32m----> 2\u001b[0m \u001b[43md4\u001b[49m\u001b[43m[\u001b[49m\u001b[38;5;124;43m'\u001b[39;49m\u001b[38;5;124;43mf\u001b[39;49m\u001b[38;5;124;43m'\u001b[39;49m\u001b[43m]\u001b[49m\n",
      "\u001b[1;31mKeyError\u001b[0m: 'f'"
     ]
    }
   ],
   "source": [
    "# f 키 값이 없어서 오류\n",
    "d4['f']"
   ]
  },
  {
   "cell_type": "code",
   "execution_count": 95,
   "id": "78e148b9",
   "metadata": {},
   "outputs": [
    {
     "data": {
      "text/plain": [
       "'없음'"
      ]
     },
     "execution_count": 95,
     "metadata": {},
     "output_type": "execute_result"
    }
   ],
   "source": [
    "# pop 함수와 비슷\n",
    "d4.get('f', \"없음\")"
   ]
  },
  {
   "cell_type": "code",
   "execution_count": 97,
   "id": "5e8bb412",
   "metadata": {},
   "outputs": [
    {
     "name": "stdout",
     "output_type": "stream",
     "text": [
      "a: 없음\n"
     ]
    }
   ],
   "source": [
    "a = d4.get('f', '없음')\n",
    "print('a:', a)"
   ]
  },
  {
   "cell_type": "markdown",
   "id": "ff136a1f",
   "metadata": {},
   "source": [
    "### 딕셔너리에서 key와 value, key, value를 가져오는 함수\n",
    "* items() : dict_items([(key, value), (key, value), (key, value)]) --> 튜플로 모아 자료형으로 반환\n",
    "* keys() : dict_keys([key1, key2, key3. . . ]) --> 리스트로 모아 자료형으로 반환\n",
    "* values() : dict_values([value1, value2, value3. . . ]) --> 리스트로 모아 자료형으로 반환"
   ]
  },
  {
   "cell_type": "code",
   "execution_count": 105,
   "id": "ec9ebf2f",
   "metadata": {},
   "outputs": [],
   "source": [
    "d4_items = d4.items()"
   ]
  },
  {
   "cell_type": "code",
   "execution_count": 112,
   "id": "2afbabed",
   "metadata": {},
   "outputs": [
    {
     "name": "stdout",
     "output_type": "stream",
     "text": [
      "<class 'dict_items'>\n"
     ]
    }
   ],
   "source": [
    "# dict_items 자료형 -->  이게 하나의 type, dict_items로 새로운 객체 생성\n",
    "# .items() 메소드를 사용하면 dict_items 객체가 반환\n",
    "print(type(d4_items))"
   ]
  },
  {
   "cell_type": "code",
   "execution_count": 109,
   "id": "71a50e56",
   "metadata": {},
   "outputs": [
    {
     "name": "stdout",
     "output_type": "stream",
     "text": [
      "<class 'list'>\n"
     ]
    }
   ],
   "source": [
    "d4_items_list = list(d4_items)\n",
    "d4_items_list\n",
    "print(type(d4_items_list))"
   ]
  },
  {
   "cell_type": "code",
   "execution_count": 111,
   "id": "b79cb768",
   "metadata": {},
   "outputs": [
    {
     "data": {
      "text/plain": [
       "[('문자열', '딕셔너리의 값'),\n",
       " ('리스트', '새로운 값'),\n",
       " ('튜플', (5, 6, 7, 8)),\n",
       " ('딕셔너리', {'key': 'value'}),\n",
       " ('불린', True),\n",
       " ('d', '사십'),\n",
       " ('e', '오십'),\n",
       " (13, '십 삼'),\n",
       " ((0, '도시'), '서울시'),\n",
       " ('a', '십'),\n",
       " ('b', '이십')]"
      ]
     },
     "execution_count": 111,
     "metadata": {},
     "output_type": "execute_result"
    }
   ],
   "source": [
    "d4_items_list[0:]"
   ]
  },
  {
   "cell_type": "code",
   "execution_count": 114,
   "id": "e67fa3fa",
   "metadata": {},
   "outputs": [
    {
     "name": "stdout",
     "output_type": "stream",
     "text": [
      "문자열\n",
      "리스트\n",
      "튜플\n",
      "딕셔너리\n",
      "불린\n",
      "d\n",
      "e\n",
      "13\n",
      "(0, '도시')\n",
      "a\n",
      "b\n"
     ]
    }
   ],
   "source": [
    "# 딕셔너리를 반복문에서 그냥 쓰면 키 값만 나옴 --> 번거로움\n",
    "for i in d4:\n",
    "    print(i)"
   ]
  },
  {
   "cell_type": "code",
   "execution_count": 115,
   "id": "29b5a1a7",
   "metadata": {},
   "outputs": [
    {
     "name": "stdout",
     "output_type": "stream",
     "text": [
      "딕셔너리의 값\n",
      "새로운 값\n",
      "(5, 6, 7, 8)\n",
      "{'key': 'value'}\n",
      "True\n",
      "사십\n",
      "오십\n",
      "십 삼\n",
      "서울시\n",
      "십\n",
      "이십\n"
     ]
    }
   ],
   "source": [
    "# 값만 출력 가능 --> 번거로움\n",
    "for i in d4:\n",
    "    print(d4[i])"
   ]
  },
  {
   "cell_type": "code",
   "execution_count": 117,
   "id": "bb0be5ca",
   "metadata": {},
   "outputs": [
    {
     "name": "stdout",
     "output_type": "stream",
     "text": [
      "문자열 딕셔너리의 값\n",
      "리스트 새로운 값\n",
      "튜플 (5, 6, 7, 8)\n",
      "딕셔너리 {'key': 'value'}\n",
      "불린 True\n",
      "d 사십\n",
      "e 오십\n",
      "13 십 삼\n",
      "(0, '도시') 서울시\n",
      "a 십\n",
      "b 이십\n"
     ]
    }
   ],
   "source": [
    "# .items() 함수를 통해 key, value 값 출력 가능 --> \n",
    "for key, value in d4.items():\n",
    "    print(key, value)"
   ]
  },
  {
   "cell_type": "code",
   "execution_count": 107,
   "id": "70e65070",
   "metadata": {},
   "outputs": [
    {
     "name": "stdout",
     "output_type": "stream",
     "text": [
      "('문자열', '딕셔너리의 값')\n",
      "('리스트', '새로운 값')\n",
      "('튜플', (5, 6, 7, 8))\n",
      "('딕셔너리', {'key': 'value'})\n",
      "('불린', True)\n",
      "('d', '사십')\n",
      "('e', '오십')\n",
      "(13, '십 삼')\n",
      "((0, '도시'), '서울시')\n",
      "('a', '십')\n",
      "('b', '이십')\n"
     ]
    }
   ],
   "source": [
    "for i in d4_items:\n",
    "    print(i)"
   ]
  },
  {
   "cell_type": "code",
   "execution_count": 118,
   "id": "18dc8b04",
   "metadata": {},
   "outputs": [
    {
     "data": {
      "text/plain": [
       "dict_keys(['문자열', '리스트', '튜플', '딕셔너리', '불린', 'd', 'e', 13, (0, '도시'), 'a', 'b'])"
      ]
     },
     "execution_count": 118,
     "metadata": {},
     "output_type": "execute_result"
    }
   ],
   "source": [
    "d4.keys()"
   ]
  },
  {
   "cell_type": "code",
   "execution_count": 119,
   "id": "35bd72ba",
   "metadata": {},
   "outputs": [
    {
     "name": "stdout",
     "output_type": "stream",
     "text": [
      "<class 'dict_keys'>\n"
     ]
    }
   ],
   "source": [
    "print(type(d4.keys()))"
   ]
  },
  {
   "cell_type": "code",
   "execution_count": 123,
   "id": "792d4486",
   "metadata": {},
   "outputs": [
    {
     "data": {
      "text/plain": [
       "['문자열', '리스트', '튜플', '딕셔너리', '불린', 'd', 'e', 13, (0, '도시'), 'a', 'b']"
      ]
     },
     "execution_count": 123,
     "metadata": {},
     "output_type": "execute_result"
    }
   ],
   "source": [
    "d4_keys = list(d4.keys())\n",
    "d4_keys"
   ]
  },
  {
   "cell_type": "code",
   "execution_count": 124,
   "id": "b88f09c8",
   "metadata": {},
   "outputs": [
    {
     "data": {
      "text/plain": [
       "'문자열'"
      ]
     },
     "execution_count": 124,
     "metadata": {},
     "output_type": "execute_result"
    }
   ],
   "source": [
    "d4_keys[0]"
   ]
  },
  {
   "cell_type": "code",
   "execution_count": 125,
   "id": "061eca74",
   "metadata": {},
   "outputs": [
    {
     "data": {
      "text/plain": [
       "dict_values(['딕셔너리의 값', '새로운 값', (5, 6, 7, 8), {'key': 'value'}, True, '사십', '오십', '십 삼', '서울시', '십', '이십'])"
      ]
     },
     "execution_count": 125,
     "metadata": {},
     "output_type": "execute_result"
    }
   ],
   "source": [
    "d4.values()"
   ]
  },
  {
   "cell_type": "code",
   "execution_count": 126,
   "id": "04329866",
   "metadata": {},
   "outputs": [
    {
     "name": "stdout",
     "output_type": "stream",
     "text": [
      "<class 'dict_values'>\n"
     ]
    }
   ],
   "source": [
    "print(type(d4.values()))"
   ]
  },
  {
   "cell_type": "code",
   "execution_count": 127,
   "id": "3859b68f",
   "metadata": {},
   "outputs": [
    {
     "data": {
      "text/plain": [
       "('딕셔너리의 값',\n",
       " '새로운 값',\n",
       " (5, 6, 7, 8),\n",
       " {'key': 'value'},\n",
       " True,\n",
       " '사십',\n",
       " '오십',\n",
       " '십 삼',\n",
       " '서울시',\n",
       " '십',\n",
       " '이십')"
      ]
     },
     "execution_count": 127,
     "metadata": {},
     "output_type": "execute_result"
    }
   ],
   "source": [
    "d4_tuple = tuple(d4.values())\n",
    "d4_tuple"
   ]
  },
  {
   "cell_type": "code",
   "execution_count": 129,
   "id": "8fbf989f",
   "metadata": {},
   "outputs": [
    {
     "data": {
      "text/plain": [
       "('딕셔너리의 값',\n",
       " '새로운 값',\n",
       " (5, 6, 7, 8),\n",
       " {'key': 'value'},\n",
       " True,\n",
       " '사십',\n",
       " '오십',\n",
       " '십 삼',\n",
       " '서울시',\n",
       " '십',\n",
       " '이십')"
      ]
     },
     "execution_count": 129,
     "metadata": {},
     "output_type": "execute_result"
    }
   ],
   "source": [
    "d4_tuple[0:]"
   ]
  },
  {
   "cell_type": "code",
   "execution_count": 131,
   "id": "e035cbeb",
   "metadata": {},
   "outputs": [
    {
     "name": "stdout",
     "output_type": "stream",
     "text": [
      "딕셔너리의 값\n",
      "새로운 값\n",
      "(5, 6, 7, 8)\n",
      "{'key': 'value'}\n",
      "True\n",
      "사십\n",
      "오십\n",
      "십 삼\n",
      "서울시\n",
      "십\n",
      "이십\n"
     ]
    }
   ],
   "source": [
    "for j in d4_tuple:\n",
    "    print(j)"
   ]
  },
  {
   "cell_type": "code",
   "execution_count": 133,
   "id": "879efc08",
   "metadata": {},
   "outputs": [
    {
     "name": "stdout",
     "output_type": "stream",
     "text": [
      "딕셔너리의 값\n",
      "새로운 값\n",
      "(5, 6, 7, 8)\n",
      "{'key': 'value'}\n",
      "True\n",
      "사십\n",
      "오십\n",
      "십 삼\n",
      "서울시\n",
      "십\n",
      "이십\n"
     ]
    }
   ],
   "source": [
    "for value in d4.values():\n",
    "    print(value)"
   ]
  }
 ],
 "metadata": {
  "kernelspec": {
   "display_name": "Python 3 (ipykernel)",
   "language": "python",
   "name": "python3"
  },
  "language_info": {
   "codemirror_mode": {
    "name": "ipython",
    "version": 3
   },
   "file_extension": ".py",
   "mimetype": "text/x-python",
   "name": "python",
   "nbconvert_exporter": "python",
   "pygments_lexer": "ipython3",
   "version": "3.11.9"
  }
 },
 "nbformat": 4,
 "nbformat_minor": 5
}
