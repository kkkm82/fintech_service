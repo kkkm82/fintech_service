{
 "cells": [
  {
   "cell_type": "markdown",
   "id": "943f8196",
   "metadata": {},
   "source": [
    "# 주피터 노트북 사용법\n",
    "conda list - 설치된 패키지 리스트 보기\n",
    "conda active base - 원점\n",
    "conda install scikit-learn \n",
    "conda deactivate - 폴더 밖으로 나감\n",
    "conda remove -n 파일이름 --all >>>> 가상환경 삭제\n",
    "conda info --envs - 가상환경 목록 보여주기\n",
    "conda create -n fintech python=3.10 - 폴더 이름 fintech로 해서 가상환경만들기\n",
    "conda activate fintech - 가상환경 활성화\n",
    "conda install notebook=6 - 예전 버전의 노트북? (새로나온버전은 그냥 notebook)\n",
    "jupyter notebook\n",
    "\n",
    "가상 환경을 만드는 이유 : 프로젝트 별로 다른 버전의 python이나 패키지를 설치해서 의존성 충돌 문제를 방지\n",
    "\n",
    "--------------------------주피터 경로 바꾸기\n",
    "\n",
    "jupyter notebook --generate-config\n",
    "C:\\Users\\김민정\\.jupyter\\\n",
    "C:\\fintech_service\n",
    "\n",
    "#주피터노트북 - 파일 생성도 되지만 커널만 따로 생성 가능\n",
    "\n",
    "주피터 한 줄을 셀이라고 함\n",
    "초록 테두리일 때 - 코딩을 할 수 있는 상태(코딩 모드) --> In [] :  \n",
    "파란 테두리일 때 - 셀 복사, 붙여넣기, 지우기 등 할 수 있는 상태(셀 모드)\n",
    "dd - 셀 지우기 / a - 셀 위쪽에 셀 추가 / b - 셀 아래쪽에 셀 추가\n",
    "markdown - 마크다운 문법으로 글 작성 가능\n",
    "m - 마크다운 모드로 전환 / y - 코드로 전환\n",
    "shift + enter - 셀 하나 밑에 선택 \n",
    "c - 셀 복사 / v - 셀 붙여넣기 / x - 셀 잘라내기\n",
    "\n",
    "\n",
    "마크다운\n",
    "# - h1 / ## - h2 ~\n",
    "* hi = li 태그 / 한 칸 들여쓰기 하면 모양 네모로 바뀜\n",
    "**텍스트** : 굵은 글씨\n"
   ]
  },
  {
   "cell_type": "markdown",
   "id": "76fcfd91",
   "metadata": {},
   "source": [
    "# h1\n",
    "* h1\n",
    "    * h1"
   ]
  },
  {
   "cell_type": "code",
   "execution_count": null,
   "id": "928a6bff",
   "metadata": {},
   "outputs": [],
   "source": []
  },
  {
   "cell_type": "markdown",
   "id": "9909901e",
   "metadata": {},
   "source": [
    "# 파이썬 기초 문법\n",
    "* 파이썬은 세미콜론 X\n",
    "* 한 줄에 여러 명령을 쓸 때 사용하기도 함\n",
    "* 파이썬의 주석은 문장 앞에 #을 붙인다.(Ctrl + /)\n",
    "* 파이썬은 들여쓰기를 사용해서 코드를 구분하여 작성\n",
    "* 들여쓰기는 4칸이 기본(스페이스바 사용) / 구글 코랩은 2칸\n",
    "* 변수 만들 때 스네이크 표기법 사용 --> user_name\n",
    "* 클래스 만들 때 카멜 표기법 사용 --> UserName\n",
    "\n",
    "## 마크다운 모드\n",
    "* hi = li 태그 / 한 칸 들여쓰기 하면 모양 네모로 바뀜 텍스트 : 굵은 글씨\n",
    "* 줄넘김 : <br>\n",
    "* 수식 넣기 : $내용$<br>\n",
    "$ (A \\cap B) $<br>\n",
    "$ A \\over B $"
   ]
  },
  {
   "attachments": {
    "%ED%8C%8C%EC%9D%B4%EC%8D%AC%20%EB%A1%9C%EA%B3%A0.jpg": {
     "image/jpeg": "[encoded data removed]"
    }
   },
   "cell_type": "markdown",
   "id": "2b735f12",
   "metadata": {},
   "source": [
    "* 이미지 경로 : 마크다운 모드로 바꾸고 사진 드래그로 가져옴\n",
    "![%ED%8C%8C%EC%9D%B4%EC%8D%AC%20%EB%A1%9C%EA%B3%A0.jpg](attachment:%ED%8C%8C%EC%9D%B4%EC%8D%AC%20%EB%A1%9C%EA%B3%A0.jpg)\n",
    "\n",
    "* 이미지 경로2 : 코드 모드로 바꾸고 파밀명 씀 : Image(\"파일경로/파일명.확장자명\")"
   ]
  },
  {
   "cell_type": "markdown",
   "id": "ecb385f6",
   "metadata": {},
   "source": [
    "# print문"
   ]
  },
  {
   "cell_type": "code",
   "execution_count": 12,
   "id": "435d08e1",
   "metadata": {},
   "outputs": [
    {
     "name": "stdout",
     "output_type": "stream",
     "text": [
      "hello, python, hello world\n",
      "dsfsdfsd\n"
     ]
    }
   ],
   "source": [
    "print('hello, python', 'hello world', sep=\", \")\n",
    "print('dsfsdfsd')\n",
    "# 파이썬은 자동 줄넘김 되어 있음"
   ]
  },
  {
   "cell_type": "code",
   "execution_count": 20,
   "id": "11762924",
   "metadata": {},
   "outputs": [
    {
     "name": "stdout",
     "output_type": "stream",
     "text": [
      "hello, python hihihihihihi\thello, python\n",
      "hello, python\r",
      "hello, world\n"
     ]
    }
   ],
   "source": [
    "print('hello, python', 'hihihihihihi', sep=\" \", end=\"\\t\")\n",
    "# end=\"\\t\" > tab 기능 추가, 커서를 다음 탭 위치로 이동시키는 역할\n",
    "print('hello, python')\n",
    "\n",
    "print('hello, python', sep=\" \", end=\"\\r\")\n",
    "# end=\"\\r\" > 캐리지 리턴, 커서를 현재 줄의 맨 앞으로 이동시키는 역할\n",
    "print('hello, world')"
   ]
  },
  {
   "cell_type": "code",
   "execution_count": 22,
   "id": "f12af076",
   "metadata": {},
   "outputs": [
    {
     "name": "stdout",
     "output_type": "stream",
     "text": [
      "99\r"
     ]
    }
   ],
   "source": [
    "import time\n",
    "for i in range(1,100):\n",
    "    time.sleep(1)\n",
    "    print(i,end=\"\\r\")"
   ]
  },
  {
   "cell_type": "markdown",
   "id": "3666bb75",
   "metadata": {},
   "source": [
    "# 변수\n",
    "* 영문 숫자 조합해서 만들 수 있음\n",
    "* 문자부터 시작해야 하며 숫자로 시작 X\n",
    "* 대소문자 구분\n",
    "* _로 시작 O / -는 X\n",
    "* 특수문자 X\n",
    "* 파이썬 키워드(예약어) X\n",
    "* 변수는 스네이크 표기법으로 명명"
   ]
  },
  {
   "cell_type": "code",
   "execution_count": 26,
   "id": "31ba8613",
   "metadata": {},
   "outputs": [
    {
     "data": {
      "text/plain": [
       "1839717286736"
      ]
     },
     "execution_count": 26,
     "metadata": {},
     "output_type": "execute_result"
    }
   ],
   "source": [
    "a =int(\"20\")\n",
    "a\n",
    "# id(a) : a의 메모리 주소(내장 함수여서 변수로는 적절하지 X)"
   ]
  },
  {
   "cell_type": "code",
   "execution_count": 27,
   "id": "e906fa4b",
   "metadata": {},
   "outputs": [],
   "source": [
    "a = 10\n",
    "b = 3.14\n",
    "c = \"문자열\""
   ]
  },
  {
   "cell_type": "code",
   "execution_count": 30,
   "id": "cd2b4d17",
   "metadata": {},
   "outputs": [
    {
     "data": {
      "text/plain": [
       "10"
      ]
     },
     "execution_count": 30,
     "metadata": {},
     "output_type": "execute_result"
    }
   ],
   "source": [
    "a"
   ]
  },
  {
   "cell_type": "code",
   "execution_count": 31,
   "id": "a0bdc411",
   "metadata": {},
   "outputs": [
    {
     "data": {
      "text/plain": [
       "3.14"
      ]
     },
     "execution_count": 31,
     "metadata": {},
     "output_type": "execute_result"
    }
   ],
   "source": [
    "b"
   ]
  },
  {
   "cell_type": "code",
   "execution_count": 34,
   "id": "9686714c",
   "metadata": {},
   "outputs": [
    {
     "data": {
      "text/plain": [
       "'문자열'"
      ]
     },
     "execution_count": 34,
     "metadata": {},
     "output_type": "execute_result"
    }
   ],
   "source": [
    "c\n",
    "# 윗 줄에 b 먼저 기입할 경우 b, c 둘 다 출력이 아니라 맨 마지막에 있는 c만 출력 "
   ]
  },
  {
   "cell_type": "code",
   "execution_count": 36,
   "id": "49ee57d8",
   "metadata": {},
   "outputs": [
    {
     "name": "stdout",
     "output_type": "stream",
     "text": [
      "문자열\n"
     ]
    }
   ],
   "source": [
    "print(c)\n",
    "# \"\" 사라짐"
   ]
  },
  {
   "cell_type": "code",
   "execution_count": 38,
   "id": "16f73249",
   "metadata": {},
   "outputs": [
    {
     "name": "stdout",
     "output_type": "stream",
     "text": [
      "10\n",
      "10\n"
     ]
    }
   ],
   "source": [
    "a = 10\n",
    "b ='10'\n",
    "print(a)\n",
    "print(b)\n",
    "# 홑따옴표가 안 찍힘 --> 이럴 때 print를 안 쓰고 그냥 b로 해서 출력하면 정상적으로 출력 "
   ]
  },
  {
   "cell_type": "markdown",
   "id": "6c09353e",
   "metadata": {},
   "source": [
    "# 키보드 입력받기 : input()\n",
    "* input() 함수로 입력받는 모든 값은 문자열로 저장\n",
    "* 반드시 형변환 필요(문자열로 쓸 거면 상관 X)\n",
    "* "
   ]
  },
  {
   "cell_type": "code",
   "execution_count": 39,
   "id": "f82b86e6",
   "metadata": {},
   "outputs": [
    {
     "name": "stdout",
     "output_type": "stream",
     "text": [
      "10\n",
      "20\n",
      "1020\n"
     ]
    }
   ],
   "source": [
    "num = input()\n",
    "num2 = input()\n",
    "print(num+num2)\n",
    "# 문자열로 인식하기 때문에 숫자 입력하면 그대로 이어지게 출력"
   ]
  },
  {
   "cell_type": "code",
   "execution_count": 41,
   "id": "78cb0b46",
   "metadata": {},
   "outputs": [
    {
     "name": "stdout",
     "output_type": "stream",
     "text": [
      "10\n",
      "20\n",
      "30\n"
     ]
    }
   ],
   "source": [
    "num = input()\n",
    "num2 = input()\n",
    "print(int(num)+int(num2))\n",
    "# 정수로 형변환"
   ]
  },
  {
   "cell_type": "code",
   "execution_count": 46,
   "id": "6ff73a77",
   "metadata": {},
   "outputs": [
    {
     "name": "stdout",
     "output_type": "stream",
     "text": [
      "10 20\n",
      "30\n"
     ]
    }
   ],
   "source": [
    "# 파이썬은 동시 입력 가능 --> split()으로 분리해서 쓰기 \n",
    "num3, num4 = input().split()\n",
    "print(int(num3)+int(num4))"
   ]
  },
  {
   "cell_type": "markdown",
   "id": "d3d9d0ef",
   "metadata": {},
   "source": [
    "# 변수 여러개를 한 번에 만들기 지호야 안녕"
   ]
  },
  {
   "cell_type": "code",
   "execution_count": 51,
   "id": "2ea859cb",
   "metadata": {},
   "outputs": [],
   "source": [
    "x, y, z = 10, 20, 30"
   ]
  },
  {
   "cell_type": "code",
   "execution_count": 52,
   "id": "4278f4d9",
   "metadata": {},
   "outputs": [
    {
     "name": "stdout",
     "output_type": "stream",
     "text": [
      "10 20 30\n"
     ]
    }
   ],
   "source": [
    "print(x, y, z)"
   ]
  },
  {
   "cell_type": "markdown",
   "id": "052d8dee",
   "metadata": {},
   "source": [
    "# 변수 삭제하기 : del 변수명"
   ]
  },
  {
   "cell_type": "code",
   "execution_count": 53,
   "id": "1059bbfc",
   "metadata": {},
   "outputs": [],
   "source": [
    "del x"
   ]
  },
  {
   "cell_type": "code",
   "execution_count": 54,
   "id": "dc159ec2",
   "metadata": {},
   "outputs": [
    {
     "ename": "NameError",
     "evalue": "name 'x' is not defined",
     "output_type": "error",
     "traceback": [
      "\u001b[1;31m---------------------------------------------------------------------------\u001b[0m",
      "\u001b[1;31mNameError\u001b[0m                                 Traceback (most recent call last)",
      "Cell \u001b[1;32mIn[54], line 1\u001b[0m\n\u001b[1;32m----> 1\u001b[0m \u001b[43mx\u001b[49m\n",
      "\u001b[1;31mNameError\u001b[0m: name 'x' is not defined"
     ]
    }
   ],
   "source": [
    "x\n",
    "# 삭제돼서 출력 X"
   ]
  },
  {
   "cell_type": "code",
   "execution_count": null,
   "id": "b361d05f",
   "metadata": {},
   "outputs": [],
   "source": []
  },
  {
   "cell_type": "code",
   "execution_count": null,
   "id": "b51a963a",
   "metadata": {},
   "outputs": [],
   "source": []
  },
  {
   "cell_type": "code",
   "execution_count": null,
   "id": "afdf195a",
   "metadata": {},
   "outputs": [],
   "source": []
  },
  {
   "cell_type": "code",
   "execution_count": null,
   "id": "30a62057",
   "metadata": {},
   "outputs": [],
   "source": []
  },
  {
   "cell_type": "code",
   "execution_count": null,
   "id": "88f222c8",
   "metadata": {},
   "outputs": [],
   "source": []
  }
 ],
 "metadata": {
  "kernelspec": {
   "display_name": "Python 3 (ipykernel)",
   "language": "python",
   "name": "python3"
  },
  "language_info": {
   "codemirror_mode": {
    "name": "ipython",
    "version": 3
   },
   "file_extension": ".py",
   "mimetype": "text/x-python",
   "name": "python",
   "nbconvert_exporter": "python",
   "pygments_lexer": "ipython3",
   "version": "3.10.14"
  }
 },
 "nbformat": 4,
 "nbformat_minor": 5
}
