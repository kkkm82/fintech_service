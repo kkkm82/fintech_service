{
 "cells": [
  {
   "cell_type": "markdown",
   "id": "c2bbcbc7",
   "metadata": {},
   "source": [
    "# 파이썬은 변수에 담는 자료에 따라서 동적으로 자료형 정해짐"
   ]
  },
  {
   "cell_type": "markdown",
   "id": "596f3115",
   "metadata": {},
   "source": [
    "## 정수형 변수 : int, integer"
   ]
  },
  {
   "cell_type": "code",
   "execution_count": 2,
   "id": "adce2988",
   "metadata": {},
   "outputs": [],
   "source": [
    "x = 10"
   ]
  },
  {
   "cell_type": "markdown",
   "id": "07728200",
   "metadata": {},
   "source": [
    "## 문자형 변수 : str"
   ]
  },
  {
   "cell_type": "code",
   "execution_count": 3,
   "id": "c1f55316",
   "metadata": {},
   "outputs": [],
   "source": [
    "s = '야'"
   ]
  },
  {
   "cell_type": "code",
   "execution_count": 4,
   "id": "7a921eac",
   "metadata": {},
   "outputs": [],
   "source": [
    "s2 = \"박지호\""
   ]
  },
  {
   "cell_type": "code",
   "execution_count": 5,
   "id": "fbc5df58",
   "metadata": {},
   "outputs": [
    {
     "data": {
      "text/plain": [
       "'야'"
      ]
     },
     "execution_count": 5,
     "metadata": {},
     "output_type": "execute_result"
    }
   ],
   "source": [
    "s"
   ]
  },
  {
   "cell_type": "code",
   "execution_count": 6,
   "id": "42f6b053",
   "metadata": {},
   "outputs": [
    {
     "data": {
      "text/plain": [
       "'핀테크'"
      ]
     },
     "execution_count": 6,
     "metadata": {},
     "output_type": "execute_result"
    }
   ],
   "source": [
    "s2"
   ]
  },
  {
   "cell_type": "code",
   "execution_count": 7,
   "id": "5a85d81a",
   "metadata": {},
   "outputs": [
    {
     "data": {
      "text/plain": [
       "\"핀테크 '서비스'\""
      ]
     },
     "execution_count": 7,
     "metadata": {},
     "output_type": "execute_result"
    }
   ],
   "source": [
    "s3 = \"핀테크 '서비스'\"\n",
    "s3"
   ]
  },
  {
   "cell_type": "code",
   "execution_count": 8,
   "id": "c18492cb",
   "metadata": {},
   "outputs": [
    {
     "name": "stdout",
     "output_type": "stream",
     "text": [
      "문자열 \"문자\"\n"
     ]
    }
   ],
   "source": [
    "s4 = '문자열 \"문자\"'\n",
    "print(s4)"
   ]
  },
  {
   "cell_type": "markdown",
   "id": "cc9cdc1b",
   "metadata": {},
   "source": [
    "## 문단을 통째로 넣는 법 : \"' \"', \"\"\" \"\"\""
   ]
  },
  {
   "cell_type": "code",
   "execution_count": 16,
   "id": "155b6146",
   "metadata": {},
   "outputs": [
    {
     "name": "stdout",
     "output_type": "stream",
     "text": [
      "핀테크 서비스 \n",
      "기획자 진행 과정 \n",
      "구름exp\n"
     ]
    }
   ],
   "source": [
    "s5 = '''핀테크 서비스 \n",
    "기획자 진행 과정 \n",
    "구름exp'''\n",
    "print(s5)"
   ]
  },
  {
   "cell_type": "code",
   "execution_count": 18,
   "id": "ed76a773",
   "metadata": {},
   "outputs": [
    {
     "name": "stdout",
     "output_type": "stream",
     "text": [
      "핀테크 서비스 \n",
      "'기획자 진행 과정'\n",
      "구름exp\n"
     ]
    }
   ],
   "source": [
    "s6 = \"\"\"핀테크 서비스 \n",
    "'기획자 진행 과정'\n",
    "구름exp\"\"\"\n",
    "print(s6)\n",
    "# 문장도 삽입 가능"
   ]
  },
  {
   "cell_type": "markdown",
   "id": "62b8a3b2",
   "metadata": {},
   "source": [
    "# 변수의 데이터 타입을 출력하는 함수 : type()"
   ]
  },
  {
   "cell_type": "code",
   "execution_count": 22,
   "id": "f6402772",
   "metadata": {},
   "outputs": [
    {
     "name": "stdout",
     "output_type": "stream",
     "text": [
      "야\n",
      "<class 'str'>\n"
     ]
    }
   ],
   "source": [
    "print(s)\n",
    "print(type(s))"
   ]
  },
  {
   "cell_type": "markdown",
   "id": "fa451451",
   "metadata": {},
   "source": [
    "# 리스트 : list, 튜플 : tuple\n",
    "* 순서가 있는 자료형\n",
    "* 여러 개의 자료 넣을 수 있음\n",
    "* 여러 개의 데이터 타입의 자료를 넣을 수 있음\n",
    "* 인덱스로 호출 가능\n",
    "* 슬라이싱으로 부분 출력 가능\n",
    "* 리스트 : [] 안에 자료 넣어서 만듦, 변경 가능\n",
    "* 튜플 : () 안에 자료 넣어서 만듦, 변경 불가능"
   ]
  },
  {
   "cell_type": "code",
   "execution_count": 24,
   "id": "bcd79329",
   "metadata": {},
   "outputs": [],
   "source": [
    "a = 10"
   ]
  },
  {
   "cell_type": "code",
   "execution_count": 25,
   "id": "2df9c278",
   "metadata": {},
   "outputs": [
    {
     "data": {
      "text/plain": [
       "10"
      ]
     },
     "execution_count": 25,
     "metadata": {},
     "output_type": "execute_result"
    }
   ],
   "source": [
    "a"
   ]
  },
  {
   "cell_type": "code",
   "execution_count": 26,
   "id": "2fc97b46",
   "metadata": {},
   "outputs": [],
   "source": [
    "a = 20"
   ]
  },
  {
   "cell_type": "code",
   "execution_count": 28,
   "id": "c97cc7c2",
   "metadata": {},
   "outputs": [
    {
     "data": {
      "text/plain": [
       "20"
      ]
     },
     "execution_count": 28,
     "metadata": {},
     "output_type": "execute_result"
    }
   ],
   "source": [
    "a\n",
    "# 변수에는 자료가 한 개 밖에 안 들어가기 때문에 10을 대입하고 그 후 20을 대입해서 20 출력"
   ]
  },
  {
   "cell_type": "code",
   "execution_count": 31,
   "id": "d870f8ba",
   "metadata": {},
   "outputs": [
    {
     "data": {
      "text/plain": [
       "[1, 3.14, '파이썬', [11, 2, 3, 4], (5, 6, 7, 8)]"
      ]
     },
     "execution_count": 31,
     "metadata": {},
     "output_type": "execute_result"
    }
   ],
   "source": [
    "L = [1, 3.14, \"파이썬\", [11,2,3,4], (5,6,7,8)]\n",
    "L\n",
    "# []로 묶어서 한 개로 표현 --> 여러개 가능/튜플도 똑같음 \n",
    "# 오브젝트화 된 자료형이라고 부름"
   ]
  },
  {
   "cell_type": "code",
   "execution_count": 33,
   "id": "c8c683ee",
   "metadata": {},
   "outputs": [
    {
     "data": {
      "text/plain": [
       "list"
      ]
     },
     "execution_count": 33,
     "metadata": {},
     "output_type": "execute_result"
    }
   ],
   "source": [
    "type(L)"
   ]
  },
  {
   "cell_type": "code",
   "execution_count": 32,
   "id": "e99aafac",
   "metadata": {},
   "outputs": [
    {
     "data": {
      "text/plain": [
       "(1, 3.14, '파이썬', [11, 2, 3, 4], (5, 6, 7, 8))"
      ]
     },
     "execution_count": 32,
     "metadata": {},
     "output_type": "execute_result"
    }
   ],
   "source": [
    "M = (1, 3.14, \"파이썬\", [11,2,3,4], (5,6,7,8))\n",
    "M"
   ]
  },
  {
   "cell_type": "code",
   "execution_count": 34,
   "id": "ffdce6be",
   "metadata": {},
   "outputs": [
    {
     "data": {
      "text/plain": [
       "tuple"
      ]
     },
     "execution_count": 34,
     "metadata": {},
     "output_type": "execute_result"
    }
   ],
   "source": [
    "type(M)"
   ]
  },
  {
   "cell_type": "markdown",
   "id": "975514b8",
   "metadata": {},
   "source": [
    "## 인덱싱 : 리스트, 튜플에서 인덱스 번호를 이용하여 자료 출력\n",
    "* 인덱스는 자료의 순번"
   ]
  },
  {
   "cell_type": "code",
   "execution_count": 45,
   "id": "c82621f8",
   "metadata": {},
   "outputs": [
    {
     "data": {
      "text/plain": [
       "3"
      ]
     },
     "execution_count": 45,
     "metadata": {},
     "output_type": "execute_result"
    }
   ],
   "source": [
    "L[3][2]\n",
    "# 리스트의 3번째(또 다른 list)의 2번째 값 출력"
   ]
  },
  {
   "cell_type": "code",
   "execution_count": 40,
   "id": "262c704b",
   "metadata": {},
   "outputs": [
    {
     "data": {
      "text/plain": [
       "8"
      ]
     },
     "execution_count": 40,
     "metadata": {},
     "output_type": "execute_result"
    }
   ],
   "source": [
    "L[4][3]"
   ]
  },
  {
   "cell_type": "code",
   "execution_count": 43,
   "id": "1673b2ab",
   "metadata": {},
   "outputs": [
    {
     "data": {
      "text/plain": [
       "2"
      ]
     },
     "execution_count": 43,
     "metadata": {},
     "output_type": "execute_result"
    }
   ],
   "source": [
    "L.index(\"파이썬\")"
   ]
  },
  {
   "cell_type": "markdown",
   "id": "729bfe33",
   "metadata": {},
   "source": [
    "## 슬라이싱 : 인덱스의 범위 지정해서 여러 개의 자료를 가져오는 것\n",
    "* 변수명[시작인덱스:끝 인덱스+1:step]"
   ]
  },
  {
   "cell_type": "code",
   "execution_count": 44,
   "id": "0f428fc2",
   "metadata": {},
   "outputs": [
    {
     "data": {
      "text/plain": [
       "[1, 3.14]"
      ]
     },
     "execution_count": 44,
     "metadata": {},
     "output_type": "execute_result"
    }
   ],
   "source": [
    "L[0:2]\n",
    "# 0번째, 1번째"
   ]
  },
  {
   "cell_type": "code",
   "execution_count": 48,
   "id": "d04ded71",
   "metadata": {},
   "outputs": [
    {
     "data": {
      "text/plain": [
       "[(5, 6, 7, 8), [11, 2, 3, 4], '파이썬', 3.14, 1]"
      ]
     },
     "execution_count": 48,
     "metadata": {},
     "output_type": "execute_result"
    }
   ],
   "source": [
    "L[::-1]\n",
    "# 뒤에서부터 전체 출력"
   ]
  },
  {
   "cell_type": "code",
   "execution_count": 50,
   "id": "8259c78c",
   "metadata": {},
   "outputs": [
    {
     "data": {
      "text/plain": [
       "[1, 3.14, '파이썬', [11, 2, 3, 4], (5, 6, 7, 8)]"
      ]
     },
     "execution_count": 50,
     "metadata": {},
     "output_type": "execute_result"
    }
   ],
   "source": [
    "L[0::]\n",
    "# 처음부터 전체 출력"
   ]
  },
  {
   "cell_type": "markdown",
   "id": "e2414ede",
   "metadata": {},
   "source": [
    "## 튜플\n",
    "* 리스트처럼 순서가 있는 자료형\n",
    "* 인덱스가 있어서 인덱스로 자료 출력 가능\n",
    "* 인덱스로 슬라이싱 가능\n",
    "* 자료의 추가 삭제가 안 됨(변경 X)"
   ]
  },
  {
   "cell_type": "code",
   "execution_count": 53,
   "id": "a61e8f09",
   "metadata": {},
   "outputs": [
    {
     "data": {
      "text/plain": [
       "[1, 3.14, '파이썬', [11, 2, 3, 4], (5, 6, 7, 8), 3, 3]"
      ]
     },
     "execution_count": 53,
     "metadata": {},
     "output_type": "execute_result"
    }
   ],
   "source": [
    "L.append(3)\n",
    "L\n",
    "# 맨 뒤에 3 추가"
   ]
  },
  {
   "cell_type": "code",
   "execution_count": 67,
   "id": "988c6d49",
   "metadata": {},
   "outputs": [
    {
     "data": {
      "text/plain": [
       "[1, 3.14, '파이썬', [11, 2, 3, 4]]"
      ]
     },
     "execution_count": 67,
     "metadata": {},
     "output_type": "execute_result"
    }
   ],
   "source": [
    "del L[4]\n",
    "L\n",
    "# del 메소드로 5번째 값 삭제"
   ]
  },
  {
   "cell_type": "code",
   "execution_count": 54,
   "id": "93b093f3",
   "metadata": {},
   "outputs": [
    {
     "data": {
      "text/plain": [
       "(1, 2, '튜플', [3, 4, 5], (5, 6, 7))"
      ]
     },
     "execution_count": 54,
     "metadata": {},
     "output_type": "execute_result"
    }
   ],
   "source": [
    "T = (1,2,'튜플', [3,4,5],(5,6,7))\n",
    "T"
   ]
  },
  {
   "cell_type": "code",
   "execution_count": 55,
   "id": "bf6e6650",
   "metadata": {},
   "outputs": [
    {
     "data": {
      "text/plain": [
       "[3, 4, 5]"
      ]
     },
     "execution_count": 55,
     "metadata": {},
     "output_type": "execute_result"
    }
   ],
   "source": [
    "T[3]"
   ]
  },
  {
   "cell_type": "code",
   "execution_count": 56,
   "id": "86a67df2",
   "metadata": {},
   "outputs": [
    {
     "data": {
      "text/plain": [
       "7"
      ]
     },
     "execution_count": 56,
     "metadata": {},
     "output_type": "execute_result"
    }
   ],
   "source": [
    "T[4][2]"
   ]
  },
  {
   "cell_type": "code",
   "execution_count": 57,
   "id": "d1cb32ee",
   "metadata": {},
   "outputs": [
    {
     "data": {
      "text/plain": [
       "('튜플', [3, 4, 5])"
      ]
     },
     "execution_count": 57,
     "metadata": {},
     "output_type": "execute_result"
    }
   ],
   "source": [
    "T[2:4]"
   ]
  },
  {
   "cell_type": "code",
   "execution_count": 60,
   "id": "481213ef",
   "metadata": {},
   "outputs": [
    {
     "ename": "SyntaxError",
     "evalue": "incomplete input (558121008.py, line 2)",
     "output_type": "error",
     "traceback": [
      "\u001b[1;36m  Cell \u001b[1;32mIn[60], line 2\u001b[1;36m\u001b[0m\n\u001b[1;33m    # 리스트는 변경이 되지만 튜플은 안 됨\u001b[0m\n\u001b[1;37m                          ^\u001b[0m\n\u001b[1;31mSyntaxError\u001b[0m\u001b[1;31m:\u001b[0m incomplete input\n"
     ]
    }
   ],
   "source": [
    "T.append((3)\n",
    "# 리스트는 변경이 되지만 튜플은 안 됨"
   ]
  },
  {
   "cell_type": "markdown",
   "id": "4484a8e1",
   "metadata": {},
   "source": [
    "## 딕셔너리형 : dict\n",
    "* [key:value] 형태의 자료형\n",
    "* 순서가 없는 자료형\n",
    "* 반복 불가\n",
    "* key를 호출하면 value가 출력"
   ]
  },
  {
   "cell_type": "code",
   "execution_count": 71,
   "id": "0ca66fc2",
   "metadata": {},
   "outputs": [
    {
     "data": {
      "text/plain": [
       "{'년월': '202407', '국가': '미국', '방문자수': 1000}"
      ]
     },
     "execution_count": 71,
     "metadata": {},
     "output_type": "execute_result"
    }
   ],
   "source": [
    "D = {'년월' : '202407', '국가' : '미국', '방문자수' : 1000}\n",
    "D"
   ]
  },
  {
   "cell_type": "code",
   "execution_count": 72,
   "id": "44d16584",
   "metadata": {},
   "outputs": [
    {
     "data": {
      "text/plain": [
       "{2: [3, 4, 5], 3.14: '원주율'}"
      ]
     },
     "execution_count": 72,
     "metadata": {},
     "output_type": "execute_result"
    }
   ],
   "source": [
    "D2 = {2 : [3,4,5], 3.14: \"원주율\"}\n",
    "D2"
   ]
  },
  {
   "cell_type": "code",
   "execution_count": 74,
   "id": "bfa3bfcf",
   "metadata": {},
   "outputs": [
    {
     "data": {
      "text/plain": [
       "'202407'"
      ]
     },
     "execution_count": 74,
     "metadata": {},
     "output_type": "execute_result"
    }
   ],
   "source": [
    "D['년월']\n",
    "# '년월' key의 value 값 출력"
   ]
  },
  {
   "cell_type": "code",
   "execution_count": 75,
   "id": "a4701197",
   "metadata": {},
   "outputs": [
    {
     "data": {
      "text/plain": [
       "[3, 4, 5]"
      ]
     },
     "execution_count": 75,
     "metadata": {},
     "output_type": "execute_result"
    }
   ],
   "source": [
    "D2[2]"
   ]
  },
  {
   "cell_type": "code",
   "execution_count": 76,
   "id": "085837e8",
   "metadata": {},
   "outputs": [
    {
     "data": {
      "text/plain": [
       "{(1, 2): '키 값이 튜플'}"
      ]
     },
     "execution_count": 76,
     "metadata": {},
     "output_type": "execute_result"
    }
   ],
   "source": [
    "d3 = {(1,2) : \"키 값이 튜플\"}\n",
    "d3"
   ]
  },
  {
   "cell_type": "code",
   "execution_count": 77,
   "id": "da66d380",
   "metadata": {},
   "outputs": [
    {
     "data": {
      "text/plain": [
       "'키 값이 튜플'"
      ]
     },
     "execution_count": 77,
     "metadata": {},
     "output_type": "execute_result"
    }
   ],
   "source": [
    "d3[(1,2)]"
   ]
  },
  {
   "cell_type": "code",
   "execution_count": null,
   "id": "f6f6bbfc",
   "metadata": {},
   "outputs": [],
   "source": []
  },
  {
   "cell_type": "code",
   "execution_count": null,
   "id": "3a1e5b2a",
   "metadata": {},
   "outputs": [],
   "source": []
  }
 ],
 "metadata": {
  "kernelspec": {
   "display_name": "Python 3 (ipykernel)",
   "language": "python",
   "name": "python3"
  },
  "language_info": {
   "codemirror_mode": {
    "name": "ipython",
    "version": 3
   },
   "file_extension": ".py",
   "mimetype": "text/x-python",
   "name": "python",
   "nbconvert_exporter": "python",
   "pygments_lexer": "ipython3",
   "version": "3.10.14"
  }
 },
 "nbformat": 4,
 "nbformat_minor": 5
}
