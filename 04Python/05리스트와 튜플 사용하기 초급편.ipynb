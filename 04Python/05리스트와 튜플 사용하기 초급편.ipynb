{
 "cells": [
  {
   "cell_type": "markdown",
   "id": "551b616d",
   "metadata": {},
   "source": [
    "# 05리스트와 튜플 사용하기 초급편"
   ]
  },
  {
   "cell_type": "markdown",
   "id": "83bf4084",
   "metadata": {},
   "source": [
    "## list() 형변환 함수"
   ]
  },
  {
   "cell_type": "code",
   "execution_count": 1,
   "id": "238761bd",
   "metadata": {},
   "outputs": [
    {
     "data": {
      "text/plain": [
       "[]"
      ]
     },
     "execution_count": 1,
     "metadata": {},
     "output_type": "execute_result"
    }
   ],
   "source": [
    "# 빈리스트 만들기\n",
    "L3 = []\n",
    "L3"
   ]
  },
  {
   "cell_type": "code",
   "execution_count": 2,
   "id": "7980ddc9",
   "metadata": {},
   "outputs": [
    {
     "data": {
      "text/plain": [
       "list"
      ]
     },
     "execution_count": 2,
     "metadata": {},
     "output_type": "execute_result"
    }
   ],
   "source": [
    "type(L3)"
   ]
  },
  {
   "cell_type": "code",
   "execution_count": 3,
   "id": "e9f9bf23",
   "metadata": {},
   "outputs": [
    {
     "data": {
      "text/plain": [
       "[3]"
      ]
     },
     "execution_count": 3,
     "metadata": {},
     "output_type": "execute_result"
    }
   ],
   "source": [
    "L4 = [3]\n",
    "L4"
   ]
  },
  {
   "cell_type": "code",
   "execution_count": 4,
   "id": "db60a906",
   "metadata": {},
   "outputs": [
    {
     "name": "stdout",
     "output_type": "stream",
     "text": [
      "range(0, 10)\n"
     ]
    }
   ],
   "source": [
    "print(range(10))"
   ]
  },
  {
   "cell_type": "code",
   "execution_count": 5,
   "id": "ce69ce24",
   "metadata": {},
   "outputs": [
    {
     "name": "stdout",
     "output_type": "stream",
     "text": [
      "range(0, 10)\n"
     ]
    },
    {
     "data": {
      "text/plain": [
       "NoneType"
      ]
     },
     "execution_count": 5,
     "metadata": {},
     "output_type": "execute_result"
    }
   ],
   "source": [
    "type(print(range(10)))"
   ]
  },
  {
   "cell_type": "code",
   "execution_count": 6,
   "id": "ada1d28c",
   "metadata": {},
   "outputs": [
    {
     "data": {
      "text/plain": [
       "[0, 1, 2, 3, 4, 5, 6, 7, 8, 9]"
      ]
     },
     "execution_count": 6,
     "metadata": {},
     "output_type": "execute_result"
    }
   ],
   "source": [
    "L5 = list(range(10))\n",
    "L5"
   ]
  },
  {
   "cell_type": "markdown",
   "id": "19f4fe1b",
   "metadata": {},
   "source": [
    "# range() 함수 \n",
    "* range(시작, 끝, 증가값)"
   ]
  },
  {
   "cell_type": "code",
   "execution_count": 11,
   "id": "35683f56",
   "metadata": {},
   "outputs": [
    {
     "data": {
      "text/plain": [
       "[0, 1, 2, 3, 4, 5, 6, 7, 8, 9]"
      ]
     },
     "execution_count": 11,
     "metadata": {},
     "output_type": "execute_result"
    }
   ],
   "source": [
    "list(range(10))"
   ]
  },
  {
   "cell_type": "code",
   "execution_count": 12,
   "id": "47d8b2f6",
   "metadata": {},
   "outputs": [
    {
     "data": {
      "text/plain": [
       "[1, 2, 3, 4, 5, 6, 7, 8, 9, 10]"
      ]
     },
     "execution_count": 12,
     "metadata": {},
     "output_type": "execute_result"
    }
   ],
   "source": [
    "list(range(1, 11))"
   ]
  },
  {
   "cell_type": "code",
   "execution_count": 20,
   "id": "eac3da1e",
   "metadata": {},
   "outputs": [
    {
     "data": {
      "text/plain": [
       "[3, 5, 7, 9, 11, 13, 15, 17, 19]"
      ]
     },
     "execution_count": 20,
     "metadata": {},
     "output_type": "execute_result"
    }
   ],
   "source": [
    "list(range(3, 20, 2))"
   ]
  },
  {
   "cell_type": "code",
   "execution_count": 25,
   "id": "3b469a38",
   "metadata": {},
   "outputs": [
    {
     "data": {
      "text/plain": [
       "[99,\n",
       " 96,\n",
       " 93,\n",
       " 90,\n",
       " 87,\n",
       " 84,\n",
       " 81,\n",
       " 78,\n",
       " 75,\n",
       " 72,\n",
       " 69,\n",
       " 66,\n",
       " 63,\n",
       " 60,\n",
       " 57,\n",
       " 54,\n",
       " 51,\n",
       " 48,\n",
       " 45,\n",
       " 42,\n",
       " 39,\n",
       " 36,\n",
       " 33,\n",
       " 30,\n",
       " 27,\n",
       " 24,\n",
       " 21,\n",
       " 18,\n",
       " 15,\n",
       " 12,\n",
       " 9,\n",
       " 6,\n",
       " 3]"
      ]
     },
     "execution_count": 25,
     "metadata": {},
     "output_type": "execute_result"
    }
   ],
   "source": [
    "# 99 ~ 3, 3씩 감소하여 리스트로 출력\n",
    "list(range(99, 2, -3))"
   ]
  },
  {
   "cell_type": "markdown",
   "id": "9a07d837",
   "metadata": {},
   "source": [
    "#  .append() 함수\n",
    "* 리스트의 끝에 자료 추가\n",
    "* 한 번 실행하면 취소 X"
   ]
  },
  {
   "cell_type": "code",
   "execution_count": 26,
   "id": "70740365",
   "metadata": {},
   "outputs": [],
   "source": [
    "L3.append(3)"
   ]
  },
  {
   "cell_type": "code",
   "execution_count": 28,
   "id": "abf1385c",
   "metadata": {},
   "outputs": [],
   "source": [
    "L3.append(\"파이썬\")"
   ]
  },
  {
   "cell_type": "code",
   "execution_count": 30,
   "id": "fd772411",
   "metadata": {},
   "outputs": [],
   "source": [
    "L3.append([1,2,3])"
   ]
  },
  {
   "cell_type": "markdown",
   "id": "92fbb1e5",
   "metadata": {},
   "source": [
    "* 길이 재는 함수 : len()\n",
    "* 리스트 안에 리스트가 있을 경우 - 박스 안 뜯은 걸로 생각 --> 1개로 취급"
   ]
  },
  {
   "cell_type": "code",
   "execution_count": 38,
   "id": "bef63bb3",
   "metadata": {},
   "outputs": [
    {
     "data": {
      "text/plain": [
       "3"
      ]
     },
     "execution_count": 38,
     "metadata": {},
     "output_type": "execute_result"
    }
   ],
   "source": [
    "len(L3[2])"
   ]
  },
  {
   "cell_type": "markdown",
   "id": "a1ccc9bf",
   "metadata": {},
   "source": [
    "## insert()\n",
    "* .insert(추가할 위치 인덱스, 값)"
   ]
  },
  {
   "cell_type": "code",
   "execution_count": 51,
   "id": "09afcc09",
   "metadata": {},
   "outputs": [],
   "source": [
    "L3.insert(1,\"파이썬 함수\")"
   ]
  },
  {
   "cell_type": "code",
   "execution_count": 52,
   "id": "957da258",
   "metadata": {},
   "outputs": [
    {
     "data": {
      "text/plain": [
       "[3, '파이썬 함수', '리스트 함수', '리스트 함수']"
      ]
     },
     "execution_count": 52,
     "metadata": {},
     "output_type": "execute_result"
    }
   ],
   "source": [
    "# 기존 2번 인덱스는 뒤로 한 칸 밀림\n",
    "L3"
   ]
  },
  {
   "cell_type": "markdown",
   "id": "a7260272",
   "metadata": {},
   "source": [
    "## 리스트의 자료 삭제\n",
    "* del 변수명[인덱스 번호]\n",
    "* .pop() : 리스트의 가장 끝 자료가 출력되고 삭제됨\n",
    "* .remove(값) : 리스트의 앞부터 일치하는 값 1개를 찾아서 삭제"
   ]
  },
  {
   "cell_type": "code",
   "execution_count": 53,
   "id": "8027fe90",
   "metadata": {},
   "outputs": [
    {
     "name": "stdout",
     "output_type": "stream",
     "text": [
      "[3, '리스트 함수', '리스트 함수']\n"
     ]
    }
   ],
   "source": [
    "del L3[1]\n",
    "print(L3)"
   ]
  },
  {
   "cell_type": "code",
   "execution_count": 55,
   "id": "ab8013ea",
   "metadata": {},
   "outputs": [],
   "source": [
    "L3.append([1,2,3,4,5])"
   ]
  },
  {
   "cell_type": "code",
   "execution_count": 56,
   "id": "9ba9165f",
   "metadata": {},
   "outputs": [
    {
     "data": {
      "text/plain": [
       "[3, '리스트 함수', '리스트 함수', [1, 2, 3, 4, 5]]"
      ]
     },
     "execution_count": 56,
     "metadata": {},
     "output_type": "execute_result"
    }
   ],
   "source": [
    "L3"
   ]
  },
  {
   "cell_type": "code",
   "execution_count": 57,
   "id": "0cb7b024",
   "metadata": {},
   "outputs": [
    {
     "data": {
      "text/plain": [
       "[1, 2, 3, 4, 5]"
      ]
     },
     "execution_count": 57,
     "metadata": {},
     "output_type": "execute_result"
    }
   ],
   "source": [
    "L3.pop()"
   ]
  },
  {
   "cell_type": "code",
   "execution_count": 58,
   "id": "3a14717f",
   "metadata": {},
   "outputs": [
    {
     "data": {
      "text/plain": [
       "[3, '리스트 함수', '리스트 함수']"
      ]
     },
     "execution_count": 58,
     "metadata": {},
     "output_type": "execute_result"
    }
   ],
   "source": [
    "L3"
   ]
  },
  {
   "cell_type": "code",
   "execution_count": 62,
   "id": "3bbae258",
   "metadata": {},
   "outputs": [],
   "source": [
    "L3.remove('리스트 함수')"
   ]
  },
  {
   "cell_type": "code",
   "execution_count": 63,
   "id": "0cd099e8",
   "metadata": {},
   "outputs": [
    {
     "data": {
      "text/plain": [
       "[3, '리스트 함수']"
      ]
     },
     "execution_count": 63,
     "metadata": {},
     "output_type": "execute_result"
    }
   ],
   "source": [
    "L3"
   ]
  },
  {
   "cell_type": "code",
   "execution_count": 64,
   "id": "bd9e696a",
   "metadata": {},
   "outputs": [
    {
     "data": {
      "text/plain": [
       "[3, '리스트 함수', [17.2, 3, '파이썬']]"
      ]
     },
     "execution_count": 64,
     "metadata": {},
     "output_type": "execute_result"
    }
   ],
   "source": [
    "L3.insert(2, [17.2, 3, '파이썬'])\n",
    "L3"
   ]
  },
  {
   "cell_type": "code",
   "execution_count": 68,
   "id": "8ea65055",
   "metadata": {},
   "outputs": [
    {
     "data": {
      "text/plain": [
       "[3, '리스트 함수', [17.2, 3, '파이썬'], 17.2]"
      ]
     },
     "execution_count": 68,
     "metadata": {},
     "output_type": "execute_result"
    }
   ],
   "source": [
    "L3.insert(3, 17.2)\n",
    "L3"
   ]
  },
  {
   "cell_type": "code",
   "execution_count": 69,
   "id": "1f1937e9",
   "metadata": {},
   "outputs": [
    {
     "data": {
      "text/plain": [
       "[3, '리스트 함수', [17.2, 3, '파이썬']]"
      ]
     },
     "execution_count": 69,
     "metadata": {},
     "output_type": "execute_result"
    }
   ],
   "source": [
    "# 리스트 안에 있는 리스트의 17.2는 포장 뜯기 전 상태여서 못 나옴 --> 리스트가 아니면서 뒤에 있는 17.2가 삭제됨\n",
    "L3.remove(17.2)\n",
    "L3"
   ]
  },
  {
   "cell_type": "code",
   "execution_count": 71,
   "id": "c5ff777c",
   "metadata": {},
   "outputs": [
    {
     "data": {
      "text/plain": [
       "[3, '리스트 함수', [3, '파이썬']]"
      ]
     },
     "execution_count": 71,
     "metadata": {},
     "output_type": "execute_result"
    }
   ],
   "source": [
    "# 박스 뜯은 형태여서 삭제됨\n",
    "L3[2].remove(17.2)\n",
    "L3"
   ]
  },
  {
   "cell_type": "code",
   "execution_count": null,
   "id": "5fa7f1c8",
   "metadata": {},
   "outputs": [],
   "source": []
  },
  {
   "cell_type": "code",
   "execution_count": null,
   "id": "364040a0",
   "metadata": {},
   "outputs": [],
   "source": []
  },
  {
   "cell_type": "code",
   "execution_count": null,
   "id": "a0583ea2",
   "metadata": {},
   "outputs": [],
   "source": []
  },
  {
   "cell_type": "code",
   "execution_count": null,
   "id": "7c24ea4f",
   "metadata": {},
   "outputs": [],
   "source": []
  },
  {
   "cell_type": "code",
   "execution_count": null,
   "id": "0962ff8c",
   "metadata": {},
   "outputs": [],
   "source": []
  }
 ],
 "metadata": {
  "kernelspec": {
   "display_name": "Python 3 (ipykernel)",
   "language": "python",
   "name": "python3"
  },
  "language_info": {
   "codemirror_mode": {
    "name": "ipython",
    "version": 3
   },
   "file_extension": ".py",
   "mimetype": "text/x-python",
   "name": "python",
   "nbconvert_exporter": "python",
   "pygments_lexer": "ipython3",
   "version": "3.11.9"
  }
 },
 "nbformat": 4,
 "nbformat_minor": 5
}
