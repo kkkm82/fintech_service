{
 "cells": [
  {
   "cell_type": "markdown",
   "id": "42a37462",
   "metadata": {},
   "source": [
    "# if else 조건문"
   ]
  },
  {
   "cell_type": "markdown",
   "id": "3933bfb9",
   "metadata": {},
   "source": [
    "## 1. 조건문 : 특정 조건을 실행하는 문법\n",
    "if 조건식:<br>\n",
    "____조건식이 참일 때 실행할 코드 <br>\n",
    "else:<br>\n",
    "____조건식이 거짓일 때 실행할 코드"
   ]
  },
  {
   "cell_type": "code",
   "execution_count": 9,
   "id": "72804335",
   "metadata": {},
   "outputs": [],
   "source": [
    "x = 10"
   ]
  },
  {
   "cell_type": "code",
   "execution_count": 10,
   "id": "c3ce83f1",
   "metadata": {},
   "outputs": [
    {
     "name": "stdout",
     "output_type": "stream",
     "text": [
      "x는 10 입니다.\n"
     ]
    }
   ],
   "source": [
    "if x == 10:\n",
    "    print('x는', x, '입니다.')\n",
    "else:\n",
    "    print('x는 10이 아닌', x,'입니다.')"
   ]
  },
  {
   "cell_type": "code",
   "execution_count": 11,
   "id": "a5da5410",
   "metadata": {},
   "outputs": [],
   "source": [
    "L1 =['파이썬', '조건문', 10, 15.3, True, [1,2,3], (4,5,6), {'key':'value'}]"
   ]
  },
  {
   "cell_type": "code",
   "execution_count": 13,
   "id": "7160af89",
   "metadata": {},
   "outputs": [
    {
     "name": "stdout",
     "output_type": "stream",
     "text": [
      "L1 안에 파이썬이 있습니다.\n"
     ]
    }
   ],
   "source": [
    "if '파이썬' in L1:\n",
    "    print('L1 안에 파이썬이 있습니다.')"
   ]
  },
  {
   "cell_type": "code",
   "execution_count": 15,
   "id": "4353196b",
   "metadata": {},
   "outputs": [
    {
     "name": "stdout",
     "output_type": "stream",
     "text": [
      "L1 안에 hello가 없습니다.\n"
     ]
    }
   ],
   "source": [
    "if 'hello' in L1:\n",
    "    print('L1 안에 hello가 있습니다.')\n",
    "else:\n",
    "    print('L1 안에 hello가 없습니다.')"
   ]
  },
  {
   "cell_type": "markdown",
   "id": "11f22e36",
   "metadata": {},
   "source": [
    "* 숫자값을 입력받아 홀수인지 짝수인지 판단하는 프로그램을 짜시오."
   ]
  },
  {
   "cell_type": "code",
   "execution_count": 24,
   "id": "c5aa0192",
   "metadata": {},
   "outputs": [
    {
     "name": "stdout",
     "output_type": "stream",
     "text": [
      "숫자를 입력하시오:5\n",
      "입력한 숫자 5 는 홀수입니다.\n"
     ]
    }
   ],
   "source": [
    "x = int(input(\"숫자를 입력하시오:\"))\n",
    "if (x%2 == 0):\n",
    "    print('입력한 숫자', x,'는 짝수입니다.')\n",
    "else:\n",
    "    print('입력한 숫자', x,'는 홀수입니다.')"
   ]
  },
  {
   "cell_type": "markdown",
   "id": "7abbd58d",
   "metadata": {},
   "source": [
    "## 2. 다중 조건문 사용하기 : elif\n",
    "if 조건식:<br>\n",
    "____조건식이 참일 때 실행할 코드<br>\n",
    "elif 조건식2:<br>\n",
    "____조건식2가 참일 때 실행할 코드<br>\n",
    "else:<br>\n",
    "____조건식 1,2가 모두 아닐 경우 실행할 코드"
   ]
  },
  {
   "cell_type": "markdown",
   "id": "81093925",
   "metadata": {},
   "source": [
    "점수 학점이 81-100 A, 61-80 B, 41-60 C, 21-40 D, 0-20 F 이다.<br>\n",
    "점수를 입력받아서 학점을 출력하는 프로그램을 짜시오."
   ]
  },
  {
   "cell_type": "code",
   "execution_count": 26,
   "id": "0468041f",
   "metadata": {},
   "outputs": [
    {
     "name": "stdout",
     "output_type": "stream",
     "text": [
      "점수를 입력하시오: 110\n",
      "다시 입력하시오\n"
     ]
    }
   ],
   "source": [
    " score = int(input(\"점수를 입력하시오: \"))\n",
    "if 81 <= score <= 100:\n",
    "    print(\"A\")\n",
    "elif 61 <= score <= 80:\n",
    "    print(\"B\")\n",
    "elif 41<= score <= 60:\n",
    "    print(\"C\")\n",
    "elif 21 <= score <= 40:\n",
    "    print(\"D\")\n",
    "elif 0 <= score <= 20:\n",
    "    print(\"F\")\n",
    "else:\n",
    "    print(\"다시 입력하시오\")"
   ]
  },
  {
   "cell_type": "markdown",
   "id": "f13bf28d",
   "metadata": {},
   "source": [
    "국어, 영어, 수학, 과학 점수를 입력해서 평균 80점 이상이면 합격, 미만이면 불합격<br>\n",
    "단, 과목당 60점 미만이 있으면 과락으로 불합격<br>\n",
    "입력 범위는 0-100이며 범위를 벗어나면 '입력범위 초과'를 초과"
   ]
  },
  {
   "cell_type": "code",
   "execution_count": 15,
   "id": "c0fd84ee",
   "metadata": {},
   "outputs": [
    {
     "name": "stdout",
     "output_type": "stream",
     "text": [
      "국어, 영어, 수학, 과학 점수를 각각 입력하시오: 59 79 80 100\n",
      "과락으로 불합격\n"
     ]
    }
   ],
   "source": [
    "kor, eng, math, sci = map(int,input(\"국어, 영어, 수학, 과학 점수를 각각 입력하시오: \").split())\n",
    "if (kor < 0 or kor > 100) or (eng < 0 or eng > 100) or (math < 0 or math > 100) or (sci < 0 or sci > 100):\n",
    "    print(\"입력범위 초과\")\n",
    "elif (kor < 60) or (eng < 60) or (math < 60) or (sci < 60):\n",
    "    print(\"과락으로 불합격\")\n",
    "elif (kor+eng+math+sci)/4 >= 80:\n",
    "    print(\"합격\")\n",
    "else:\n",
    "    print(\"불합격\")"
   ]
  },
  {
   "cell_type": "code",
   "execution_count": 14,
   "id": "8039db8b",
   "metadata": {},
   "outputs": [
    {
     "name": "stdout",
     "output_type": "stream",
     "text": [
      "국어, 영어, 수학, 과학 점수를 입력하시오: 100 100 59 59\n",
      "60점 미만인 과목이 있어 과락으로 불합격 입니다.\n"
     ]
    }
   ],
   "source": [
    "# 깅사님 코드(중첩 if문)\n",
    "kor, eng, math, sci = input(\"국어, 영어, 수학, 과학 점수를 입력하시오: \").split()\n",
    "kor = int(kor)\n",
    "eng = int(eng)\n",
    "math = int(math)\n",
    "sci = int(sci)\n",
    "if 0<= kor <=100 and 0<= eng <=100 and 0<= math <=100 and 0<= sci <=100:\n",
    "    if kor >= 60 and eng >= 60 and math >= 60 and sci >= 60:\n",
    "        total = kor + eng + math + sci\n",
    "        mean = total/4\n",
    "        if mean >= 80:\n",
    "            print(\"과락없이 합격입니다.\", \"평균:\", mean)\n",
    "        else:\n",
    "            print(\"과락은 없지만 평균 80점 미만으로 불합격 입니다.\", '평균:', mean)\n",
    "    else:\n",
    "        print(\"60점 미만인 과목이 있어 과락으로 불합격 입니다.\")\n",
    "else:\n",
    "    print(\"0~100 사이의 점수를 입력해 주세요.\")\n"
   ]
  },
  {
   "cell_type": "markdown",
   "id": "97f36abd",
   "metadata": {},
   "source": [
    "1~50 사이의 숫자를 입력받아서 3의 배수면 3의 배수입니다. 그게 아니면 3의 배수가 아닙니다.를 출력하시오."
   ]
  },
  {
   "cell_type": "code",
   "execution_count": 20,
   "id": "736b1ecd",
   "metadata": {},
   "outputs": [
    {
     "name": "stdout",
     "output_type": "stream",
     "text": [
      "30\n",
      "3의 배수입니다.\n"
     ]
    }
   ],
   "source": [
    "t = int(input())\n",
    "if 1<=t<=50:\n",
    "    if t%3==0:\n",
    "        print(\"3의 배수입니다.\")\n",
    "    else:\n",
    "        print(\"3의 배수가 아닙니다.\")\n",
    "else:\n",
    "    print(\"1~50 사이의 숫자를 다시 입력하세요.\")"
   ]
  }
 ],
 "metadata": {
  "kernelspec": {
   "display_name": "Python 3 (ipykernel)",
   "language": "python",
   "name": "python3"
  },
  "language_info": {
   "codemirror_mode": {
    "name": "ipython",
    "version": 3
   },
   "file_extension": ".py",
   "mimetype": "text/x-python",
   "name": "python",
   "nbconvert_exporter": "python",
   "pygments_lexer": "ipython3",
   "version": "3.11.9"
  }
 },
 "nbformat": 4,
 "nbformat_minor": 5
}
