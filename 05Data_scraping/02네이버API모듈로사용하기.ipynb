{
 "cells": [
  {
   "cell_type": "code",
   "execution_count": 5,
   "id": "6e095515",
   "metadata": {},
   "outputs": [],
   "source": [
    "import naversearch as ns"
   ]
  },
  {
   "cell_type": "code",
   "execution_count": 7,
   "id": "70c67ee0",
   "metadata": {},
   "outputs": [
    {
     "name": "stdout",
     "output_type": "stream",
     "text": [
      "검색 서비스 번호를 입력하세요:\n",
      "    1 블로그\n",
      "    2 책\n",
      "    3 뉴스\n",
      "    4 전문자료\n",
      "    1\n",
      "검색어를 입력하세요: 핀테크\n",
      "HTTP Error 400: Bad Request\n",
      "101\n"
     ]
    }
   ],
   "source": [
    "ns.naver_search()"
   ]
  },
  {
   "cell_type": "code",
   "execution_count": 8,
   "id": "cb5b0e5f",
   "metadata": {},
   "outputs": [],
   "source": [
    "from naversearch import naver_search"
   ]
  },
  {
   "cell_type": "code",
   "execution_count": 9,
   "id": "b97c29bd",
   "metadata": {},
   "outputs": [
    {
     "name": "stdout",
     "output_type": "stream",
     "text": [
      "검색 서비스 번호를 입력하세요:\n",
      "    1 블로그\n",
      "    2 책\n",
      "    3 뉴스\n",
      "    4 전문자료\n",
      "    1\n",
      "검색어를 입력하세요: vlsxpz\n",
      "1\n"
     ]
    }
   ],
   "source": [
    "naver_search()"
   ]
  },
  {
   "cell_type": "code",
   "execution_count": null,
   "id": "e1821806",
   "metadata": {},
   "outputs": [],
   "source": []
  },
  {
   "cell_type": "code",
   "execution_count": null,
   "id": "d5010220",
   "metadata": {},
   "outputs": [],
   "source": []
  },
  {
   "cell_type": "code",
   "execution_count": null,
   "id": "71cef229",
   "metadata": {},
   "outputs": [],
   "source": []
  }
 ],
 "metadata": {
  "kernelspec": {
   "display_name": "Python 3 (ipykernel)",
   "language": "python",
   "name": "python3"
  },
  "language_info": {
   "codemirror_mode": {
    "name": "ipython",
    "version": 3
   },
   "file_extension": ".py",
   "mimetype": "text/x-python",
   "name": "python",
   "nbconvert_exporter": "python",
   "pygments_lexer": "ipython3",
   "version": "3.11.9"
  }
 },
 "nbformat": 4,
 "nbformat_minor": 5
}
