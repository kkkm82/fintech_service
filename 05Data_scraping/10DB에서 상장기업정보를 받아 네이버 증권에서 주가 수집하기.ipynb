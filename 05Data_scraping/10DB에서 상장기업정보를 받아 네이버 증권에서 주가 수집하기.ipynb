{
 "cells": [
  {
   "cell_type": "markdown",
   "id": "f4670b66",
   "metadata": {},
   "source": [
    "# 10DB에서 상장기업정보를 받아 네이버 증권에서 주가 수집하기"
   ]
  },
  {
   "cell_type": "code",
   "execution_count": 1,
   "id": "22b962fa",
   "metadata": {},
   "outputs": [],
   "source": [
    "import os\n",
    "import pandas as pd\n",
    "from datetime import date\n",
    "from dotenv import load_dotenv\n",
    "from sqlalchemy import create_engine\n",
    "from bs4 import BeautifulSoup as bs\n",
    "import pymysql\n",
    "import requests\n",
    "import time"
   ]
  },
  {
   "cell_type": "code",
   "execution_count": 2,
   "id": "77725edf",
   "metadata": {},
   "outputs": [
    {
     "data": {
      "text/plain": [
       "True"
      ]
     },
     "execution_count": 2,
     "metadata": {},
     "output_type": "execute_result"
    }
   ],
   "source": [
    "pymysql.install_as_MySQLdb()\n",
    "load_dotenv(dotenv_path=\".env_db\")"
   ]
  },
  {
   "cell_type": "code",
   "execution_count": 3,
   "id": "bdea15d2",
   "metadata": {},
   "outputs": [],
   "source": [
    "# mysql에서 테이블 불러오기\n",
    "engine = create_engine(f\"{os.getenv('db')}+{os.getenv('dbtype')}://{os.getenv('id')}:{os.getenv('pw')}@{os.getenv('host')}/{os.getenv('database')}\")\n",
    "conn = engine.connect()\n",
    "data = pd.read_sql(f'2024_07_29_stock_company_info2', con=conn)\n",
    "conn.close()"
   ]
  },
  {
   "cell_type": "code",
   "execution_count": 153,
   "id": "2c842f88",
   "metadata": {
    "scrolled": true
   },
   "outputs": [
    {
     "name": "stdout",
     "output_type": "stream",
     "text": [
      "['46,900\\n46,900']\n",
      "\n",
      "['전일대비\\n\\n상승\\n11,900\\n11,900\\n\\nl\\n\\n+\\n34.00\\n34.00\\n%']\n",
      "\n",
      "['전일', '35,000', '3', '5', ',', '0', '0', '0', '고가', '49,200', '4', '9', ',', '2', '0', '0', '(상한가', '140,000', '1', '4', '0', ',', '0', '0', '0', ')', '거래량', '14,980,552', '1', '4', ',', '9', '8', '0', ',', '5', '5', '2', '시가', '44,900', '4', '4', ',', '9', '0', '0', '저가', '40,200', '4', '0', ',', '2', '0', '0', '(하한가', '2', '1', ',', '0', '0', '0', ')', '거래대금', '662,819', '6', '6', '2', ',', '8', '1', '9', '백만']\n"
     ]
    }
   ],
   "source": [
    "url =f'https://finance.naver.com/item/main.naver?code={code}'\n",
    "rate = soup.select('div.rate_info div.today p.no_today em')\n",
    "rate_texts = [element.text.strip() for element in rate]\n",
    "rate1 = soup.select('div.rate_info div.today p.no_exday')\n",
    "rate1_texts = [element1.text.strip() for element1 in rate1]\n",
    "summay = soup.select('div.rate_info tr')\n",
    "result = [span.get_text() for span in summary]\n",
    "\n",
    "print(rate_texts)\n",
    "print()\n",
    "print(rate1_texts)\n",
    "print()\n",
    "print(result)\n",
    "\n",
    "# 현재 주가\n",
    "# 전일대비\n",
    "# 전일\n",
    "# 고가\n",
    "# 거래량\n",
    "# 시가\n",
    "# 저가\n",
    "# 거래대금\n"
   ]
  },
  {
   "cell_type": "code",
   "execution_count": 113,
   "id": "00fa02f9",
   "metadata": {},
   "outputs": [
    {
     "data": {
      "text/plain": [
       "['46,900', '46,900']"
      ]
     },
     "execution_count": 113,
     "metadata": {},
     "output_type": "execute_result"
    }
   ],
   "source": [
    "split_texts = [text for text in rate_texts[0].split('\\n')]\n",
    "split_texts"
   ]
  },
  {
   "cell_type": "code",
   "execution_count": 163,
   "id": "4490b2dc",
   "metadata": {},
   "outputs": [
    {
     "name": "stdout",
     "output_type": "stream",
     "text": [
      "46,900\n"
     ]
    }
   ],
   "source": [
    "for first_section in range(len(split_texts)):\n",
    "    rate_texts_up = f'div.rate_info div.today p.no_today em span:nth-child({first_section})'\n",
    "    span_tag = soup.select_one(rate_texts_up)\n",
    "print(span_tag.text)"
   ]
  },
  {
   "cell_type": "code",
   "execution_count": 144,
   "id": "ed4615c7",
   "metadata": {},
   "outputs": [
    {
     "data": {
      "text/plain": [
       "['전일대비', '', '상승', '11,900', '11,900', '', 'l', '', '+', '34.00', '34.00', '%']"
      ]
     },
     "execution_count": 144,
     "metadata": {},
     "output_type": "execute_result"
    }
   ],
   "source": [
    "split_texts1 = [text for text in rate1_texts[0].split('\\n')]\n",
    "split_texts1"
   ]
  },
  {
   "cell_type": "code",
   "execution_count": 154,
   "id": "a50bf040",
   "metadata": {},
   "outputs": [
    {
     "data": {
      "text/plain": [
       "['전일',\n",
       " '35000',\n",
       " '3',\n",
       " '5',\n",
       " '',\n",
       " '0',\n",
       " '0',\n",
       " '0',\n",
       " '고가',\n",
       " '49200',\n",
       " '4',\n",
       " '9',\n",
       " '',\n",
       " '2',\n",
       " '0',\n",
       " '0',\n",
       " '(상한가',\n",
       " '140000',\n",
       " '1',\n",
       " '4',\n",
       " '0',\n",
       " '',\n",
       " '0',\n",
       " '0',\n",
       " '0',\n",
       " ')',\n",
       " '거래량',\n",
       " '14980552',\n",
       " '1',\n",
       " '4',\n",
       " '',\n",
       " '9',\n",
       " '8',\n",
       " '0',\n",
       " '',\n",
       " '5',\n",
       " '5',\n",
       " '2',\n",
       " '시가',\n",
       " '44900',\n",
       " '4',\n",
       " '4',\n",
       " '',\n",
       " '9',\n",
       " '0',\n",
       " '0',\n",
       " '저가',\n",
       " '40200',\n",
       " '4',\n",
       " '0',\n",
       " '',\n",
       " '2',\n",
       " '0',\n",
       " '0',\n",
       " '(하한가',\n",
       " '2',\n",
       " '1',\n",
       " '',\n",
       " '0',\n",
       " '0',\n",
       " '0',\n",
       " ')',\n",
       " '거래대금',\n",
       " '662819',\n",
       " '6',\n",
       " '6',\n",
       " '2',\n",
       " '',\n",
       " '8',\n",
       " '1',\n",
       " '9',\n",
       " '백만']"
      ]
     },
     "execution_count": 154,
     "metadata": {},
     "output_type": "execute_result"
    }
   ],
   "source": [
    "result = [item.replace(\",\", \"\") for item in result]\n",
    "result"
   ]
  },
  {
   "cell_type": "code",
   "execution_count": 166,
   "id": "7e250d57",
   "metadata": {},
   "outputs": [],
   "source": [
    "import time"
   ]
  },
  {
   "cell_type": "code",
   "execution_count": null,
   "id": "649dbf37",
   "metadata": {},
   "outputs": [],
   "source": []
  },
  {
   "cell_type": "code",
   "execution_count": 5,
   "id": "37a186f9",
   "metadata": {},
   "outputs": [
    {
     "data": {
      "text/html": [
       "<div>\n",
       "<style scoped>\n",
       "    .dataframe tbody tr th:only-of-type {\n",
       "        vertical-align: middle;\n",
       "    }\n",
       "\n",
       "    .dataframe tbody tr th {\n",
       "        vertical-align: top;\n",
       "    }\n",
       "\n",
       "    .dataframe thead th {\n",
       "        text-align: right;\n",
       "    }\n",
       "</style>\n",
       "<table border=\"1\" class=\"dataframe\">\n",
       "  <thead>\n",
       "    <tr style=\"text-align: right;\">\n",
       "      <th></th>\n",
       "      <th>증권종류</th>\n",
       "      <th>회사명</th>\n",
       "      <th>종목코드</th>\n",
       "      <th>업종</th>\n",
       "      <th>주요제품</th>\n",
       "      <th>상장일</th>\n",
       "      <th>결산월</th>\n",
       "      <th>대표자명</th>\n",
       "      <th>홈페이지</th>\n",
       "      <th>지역</th>\n",
       "    </tr>\n",
       "  </thead>\n",
       "  <tbody>\n",
       "    <tr>\n",
       "      <th>0</th>\n",
       "      <td>유가증권</td>\n",
       "      <td>산일전기</td>\n",
       "      <td>062040</td>\n",
       "      <td>전동기, 발전기 및 전기 변환 · 공급 · 제어 장치 제조업</td>\n",
       "      <td>유입, 몰드, 주상, 건식 변압기 등</td>\n",
       "      <td>2024-07-29</td>\n",
       "      <td>12월</td>\n",
       "      <td>박동석</td>\n",
       "      <td>http://www.sanil.co.kr</td>\n",
       "      <td>경기도</td>\n",
       "    </tr>\n",
       "    <tr>\n",
       "      <th>1</th>\n",
       "      <td>유가증권</td>\n",
       "      <td>에이치에스효성</td>\n",
       "      <td>487570</td>\n",
       "      <td>기타 금융업</td>\n",
       "      <td>지주사업</td>\n",
       "      <td>2024-07-29</td>\n",
       "      <td>12월</td>\n",
       "      <td>조현상..</td>\n",
       "      <td>http://www.hshyosung.com</td>\n",
       "      <td>서울특별시</td>\n",
       "    </tr>\n",
       "    <tr>\n",
       "      <th>2</th>\n",
       "      <td>코스닥, 투자주의종목</td>\n",
       "      <td>엔에이치스팩31호</td>\n",
       "      <td>481890</td>\n",
       "      <td>금융 지원 서비스업</td>\n",
       "      <td>금융지원서비스업</td>\n",
       "      <td>2024-07-26</td>\n",
       "      <td>12월</td>\n",
       "      <td>이시형</td>\n",
       "      <td></td>\n",
       "      <td>서울특별시</td>\n",
       "    </tr>\n",
       "    <tr>\n",
       "      <th>3</th>\n",
       "      <td>코스닥</td>\n",
       "      <td>SK증권제13호스팩</td>\n",
       "      <td>473950</td>\n",
       "      <td>금융 지원 서비스업</td>\n",
       "      <td>기업인수목적 주식회사</td>\n",
       "      <td>2024-07-25</td>\n",
       "      <td>12월</td>\n",
       "      <td>임율표</td>\n",
       "      <td></td>\n",
       "      <td>서울특별시</td>\n",
       "    </tr>\n",
       "    <tr>\n",
       "      <th>4</th>\n",
       "      <td>코스닥</td>\n",
       "      <td>엑셀세라퓨틱스</td>\n",
       "      <td>373110</td>\n",
       "      <td>기초 의약물질 제조업</td>\n",
       "      <td>CellCor SFD/CD(세포배양배지)</td>\n",
       "      <td>2024-07-15</td>\n",
       "      <td>12월</td>\n",
       "      <td>이의일</td>\n",
       "      <td></td>\n",
       "      <td>서울특별시</td>\n",
       "    </tr>\n",
       "    <tr>\n",
       "      <th>...</th>\n",
       "      <td>...</td>\n",
       "      <td>...</td>\n",
       "      <td>...</td>\n",
       "      <td>...</td>\n",
       "      <td>...</td>\n",
       "      <td>...</td>\n",
       "      <td>...</td>\n",
       "      <td>...</td>\n",
       "      <td>...</td>\n",
       "      <td>...</td>\n",
       "    </tr>\n",
       "    <tr>\n",
       "      <th>2700</th>\n",
       "      <td>유가증권, KTOP30, KOSPI200, KRX300</td>\n",
       "      <td>유한양행</td>\n",
       "      <td>000100</td>\n",
       "      <td>의약품 제조업</td>\n",
       "      <td>의약품(삐콤씨, 안티푸라민, 렉라자, 로수바미브, 코푸시럽 등), 생활용품(유한락스...</td>\n",
       "      <td>1962-11-01</td>\n",
       "      <td>12월</td>\n",
       "      <td>대표이..</td>\n",
       "      <td>http://www.yuhan.co.kr</td>\n",
       "      <td>서울특별시</td>\n",
       "    </tr>\n",
       "    <tr>\n",
       "      <th>2701</th>\n",
       "      <td>유가증권, KOSPI200, KRX300</td>\n",
       "      <td>CJ대한통운</td>\n",
       "      <td>000120</td>\n",
       "      <td>도로 화물 운송업</td>\n",
       "      <td>Contract Logistics, 포워딩, 항만하역, 해운, 택배국제특송, SCM...</td>\n",
       "      <td>1956-07-02</td>\n",
       "      <td>12월</td>\n",
       "      <td>신영수..</td>\n",
       "      <td>http://www.cjlogistics.com</td>\n",
       "      <td>서울특별시</td>\n",
       "    </tr>\n",
       "    <tr>\n",
       "      <th>2702</th>\n",
       "      <td>유가증권</td>\n",
       "      <td>경방</td>\n",
       "      <td>000050</td>\n",
       "      <td>종합 소매업</td>\n",
       "      <td>섬유류(면사,면혼방사,면직물,면혼방직물,화섬사,화섬직물) 제조,도매,수출입</td>\n",
       "      <td>1956-03-03</td>\n",
       "      <td>12월</td>\n",
       "      <td>김준,..</td>\n",
       "      <td>http://www.kyungbang.co.kr</td>\n",
       "      <td>서울특별시</td>\n",
       "    </tr>\n",
       "    <tr>\n",
       "      <th>2703</th>\n",
       "      <td>유가증권</td>\n",
       "      <td>유수홀딩스</td>\n",
       "      <td>000700</td>\n",
       "      <td>회사 본부 및 경영 컨설팅 서비스업</td>\n",
       "      <td>지주사업</td>\n",
       "      <td>1956-03-03</td>\n",
       "      <td>12월</td>\n",
       "      <td>송영규</td>\n",
       "      <td>http://www.eusu-holdings.com</td>\n",
       "      <td>서울특별시</td>\n",
       "    </tr>\n",
       "    <tr>\n",
       "      <th>2704</th>\n",
       "      <td>유가증권</td>\n",
       "      <td>한진중공업홀딩스</td>\n",
       "      <td>003480</td>\n",
       "      <td>연료용 가스 제조 및 배관공급업</td>\n",
       "      <td>지주회사</td>\n",
       "      <td>1956-03-03</td>\n",
       "      <td>12월</td>\n",
       "      <td>조남호..</td>\n",
       "      <td>http://www.hhic-holdings.com</td>\n",
       "      <td>경기도</td>\n",
       "    </tr>\n",
       "  </tbody>\n",
       "</table>\n",
       "<p>2705 rows × 10 columns</p>\n",
       "</div>"
      ],
      "text/plain": [
       "                                증권종류            회사명    종목코드  \\\n",
       "0                               유가증권          산일전기   062040   \n",
       "1                               유가증권       에이치에스효성   487570   \n",
       "2                        코스닥, 투자주의종목    엔에이치스팩31호    481890   \n",
       "3                                코스닥    SK증권제13호스팩   473950   \n",
       "4                                코스닥       엑셀세라퓨틱스   373110   \n",
       "...                              ...            ...     ...   \n",
       "2700  유가증권, KTOP30, KOSPI200, KRX300       유한양행      000100   \n",
       "2701          유가증권, KOSPI200, KRX300      CJ대한통운     000120   \n",
       "2702                            유가증권            경방   000050   \n",
       "2703                            유가증권         유수홀딩스   000700   \n",
       "2704                            유가증권      한진중공업홀딩스   003480   \n",
       "\n",
       "                                     업종  \\\n",
       "0     전동기, 발전기 및 전기 변환 · 공급 · 제어 장치 제조업   \n",
       "1                                기타 금융업   \n",
       "2                            금융 지원 서비스업   \n",
       "3                            금융 지원 서비스업   \n",
       "4                           기초 의약물질 제조업   \n",
       "...                                 ...   \n",
       "2700                            의약품 제조업   \n",
       "2701                          도로 화물 운송업   \n",
       "2702                             종합 소매업   \n",
       "2703                회사 본부 및 경영 컨설팅 서비스업   \n",
       "2704                  연료용 가스 제조 및 배관공급업   \n",
       "\n",
       "                                                   주요제품         상장일  결산월  \\\n",
       "0                                  유입, 몰드, 주상, 건식 변압기 등  2024-07-29  12월   \n",
       "1                                                  지주사업  2024-07-29  12월   \n",
       "2                                              금융지원서비스업  2024-07-26  12월   \n",
       "3                                           기업인수목적 주식회사  2024-07-25  12월   \n",
       "4                                CellCor SFD/CD(세포배양배지)  2024-07-15  12월   \n",
       "...                                                 ...         ...  ...   \n",
       "2700  의약품(삐콤씨, 안티푸라민, 렉라자, 로수바미브, 코푸시럽 등), 생활용품(유한락스...  1962-11-01  12월   \n",
       "2701  Contract Logistics, 포워딩, 항만하역, 해운, 택배국제특송, SCM...  1956-07-02  12월   \n",
       "2702          섬유류(면사,면혼방사,면직물,면혼방직물,화섬사,화섬직물) 제조,도매,수출입  1956-03-03  12월   \n",
       "2703                                               지주사업  1956-03-03  12월   \n",
       "2704                                               지주회사  1956-03-03  12월   \n",
       "\n",
       "       대표자명                          홈페이지     지역  \n",
       "0       박동석        http://www.sanil.co.kr    경기도  \n",
       "1     조현상..      http://www.hshyosung.com  서울특별시  \n",
       "2       이시형                                서울특별시  \n",
       "3       임율표                                서울특별시  \n",
       "4       이의일                                서울특별시  \n",
       "...     ...                           ...    ...  \n",
       "2700  대표이..        http://www.yuhan.co.kr  서울특별시  \n",
       "2701  신영수..    http://www.cjlogistics.com  서울특별시  \n",
       "2702  김준,..    http://www.kyungbang.co.kr  서울특별시  \n",
       "2703    송영규  http://www.eusu-holdings.com  서울특별시  \n",
       "2704  조남호..  http://www.hhic-holdings.com    경기도  \n",
       "\n",
       "[2705 rows x 10 columns]"
      ]
     },
     "execution_count": 5,
     "metadata": {},
     "output_type": "execute_result"
    }
   ],
   "source": [
    "data"
   ]
  },
  {
   "cell_type": "markdown",
   "id": "fc68d38c",
   "metadata": {},
   "source": [
    "# 강사님 코드"
   ]
  },
  {
   "cell_type": "code",
   "execution_count": 238,
   "id": "ff4550d6",
   "metadata": {},
   "outputs": [],
   "source": [
    "def str2int(x):\n",
    "    x = int(x.replace(\",\", \"\"))\n",
    "    return x"
   ]
  },
  {
   "cell_type": "code",
   "execution_count": 246,
   "id": "77f142f7",
   "metadata": {},
   "outputs": [
    {
     "name": "stdout",
     "output_type": "stream",
     "text": [
      "200 38/2705 수집 중\r"
     ]
    },
    {
     "ename": "KeyboardInterrupt",
     "evalue": "",
     "output_type": "error",
     "traceback": [
      "\u001b[1;31m---------------------------------------------------------------------------\u001b[0m",
      "\u001b[1;31mKeyboardInterrupt\u001b[0m                         Traceback (most recent call last)",
      "Cell \u001b[1;32mIn[246], line 21\u001b[0m\n\u001b[0;32m     19\u001b[0m         \u001b[38;5;28;01mfor\u001b[39;00m td \u001b[38;5;129;01min\u001b[39;00m tr\u001b[38;5;241m.\u001b[39mselect(\u001b[38;5;124m'\u001b[39m\u001b[38;5;124mtd\u001b[39m\u001b[38;5;124m'\u001b[39m):\n\u001b[0;32m     20\u001b[0m             stock_price_detail\u001b[38;5;241m.\u001b[39msetdefault(td\u001b[38;5;241m.\u001b[39mselect_one(\u001b[38;5;124m'\u001b[39m\u001b[38;5;124mspan\u001b[39m\u001b[38;5;124m'\u001b[39m)\u001b[38;5;241m.\u001b[39mtext, [])\u001b[38;5;241m.\u001b[39mappend(str2int(td\u001b[38;5;241m.\u001b[39mselect_one(\u001b[38;5;124m'\u001b[39m\u001b[38;5;124mspan.blind\u001b[39m\u001b[38;5;124m'\u001b[39m)\u001b[38;5;241m.\u001b[39mtext))\n\u001b[1;32m---> 21\u001b[0m     time\u001b[38;5;241m.\u001b[39msleep(\u001b[38;5;241m3\u001b[39m)\n\u001b[0;32m     22\u001b[0m stock_price_detail  \n",
      "\u001b[1;31mKeyboardInterrupt\u001b[0m: "
     ]
    }
   ],
   "source": [
    "stock_price_detail = {}\n",
    "for idx, code in enumerate(data['종목코드']):\n",
    "    url =f'https://finance.naver.com/item/main.naver?code={code}'\n",
    "    r = requests.get(url)\n",
    "    print(r.status_code, f\"{idx+1}/{len(data['종목코드'])} 수집 중\", end=\"\\r\")\n",
    "    soup = bs(r.text, 'lxml')\n",
    "    # 가격 = 현재가\n",
    "    price = int((soup.select_one(\".today\").text).strip(\"\\n\").split(\"\\n\")[1].replace(\",\",\"\"))\n",
    "    # 전일대비 상승 가격 = 변동 금액\n",
    "    price_change = int((soup.select_one(\".today\").text).strip(\"\\n\").split(\"\\n\")[9].replace(\",\",\"\"))\n",
    "    # 전일대비 상승 퍼센트 = 변동 비율\n",
    "    range_of_change = float(((soup.select_one(\".today\").text).strip(\"\\n\").split(\"\\n\")[13] + (soup.select_one(\".today\").text).strip(\"\\n\").split(\"\\n\")[15]).replace(\"%\", \"\"))\n",
    "    stock_price_detail.setdefault('현재가', []).append(price)\n",
    "    stock_price_detail.setdefault('변동 금액', []).append(price_change)\n",
    "    stock_price_detail.setdefault('변동 비율', []).append(range_of_change)\n",
    "    \n",
    "    table = soup.select_one('.no_info')\n",
    "    for tr in table.select(\"tr\"):\n",
    "        for td in tr.select('td'):\n",
    "            stock_price_detail.setdefault(td.select_one('span').text, []).append(str2int(td.select_one('span.blind').text))\n",
    "    time.sleep(3)\n",
    "stock_price_detail  "
   ]
  },
  {
   "cell_type": "markdown",
   "id": "d6e0873c",
   "metadata": {},
   "source": [
    "# 수집과 동시에 DB에 저장하기 + 예외처리하기"
   ]
  },
  {
   "cell_type": "code",
   "execution_count": 6,
   "id": "762e500d",
   "metadata": {},
   "outputs": [
    {
     "name": "stdout",
     "output_type": "stream",
     "text": [
      "2024_07_30\n"
     ]
    }
   ],
   "source": [
    "from datetime import date\n",
    "today = str(date.today())\n",
    "print(today.replace(\"-\",\"_\"))"
   ]
  },
  {
   "cell_type": "code",
   "execution_count": 26,
   "id": "c645b11e",
   "metadata": {},
   "outputs": [],
   "source": [
    "# DB에 접속해서 저장하는 함수\n",
    "def stock_info_to_db(idx, code, df):\n",
    "    from sqlalchemy import create_engine\n",
    "    import pymysql\n",
    "    from dotenv import load_dotenv\n",
    "    from datetime import date\n",
    "    pymysql.install_as_MySQLdb()\n",
    "    load_dotenv(dotenv_path=\".env_db\")\n",
    "    today = str(date.today()).replace(\"-\",\"_\")\n",
    "    \n",
    "    \n",
    "    \n",
    "    engine = create_engine(f\"{os.getenv('db')}+{os.getenv('dbtype')}://{os.getenv('id')}:{os.getenv('pw')}@{os.getenv('host')}/{os.getenv('database')}\")\n",
    "    conn = engine.connect()\n",
    "    df.to_sql(f\"{today[:7]}_stock_price_info\", con=conn, if_exists='append', index=False)\n",
    "    conn.close()\n",
    "    \n",
    "    return print(f\"{today}. {idx}, {code}, {'저장완료':<30s}\", end=\"\\r\")\n",
    "    "
   ]
  },
  {
   "cell_type": "code",
   "execution_count": 32,
   "id": "76abe1b6",
   "metadata": {},
   "outputs": [
    {
     "name": "stdout",
     "output_type": "stream",
     "text": [
      "2024_07_30. 3, 473950, 저장완료                          \r"
     ]
    },
    {
     "ename": "KeyboardInterrupt",
     "evalue": "",
     "output_type": "error",
     "traceback": [
      "\u001b[1;31m---------------------------------------------------------------------------\u001b[0m",
      "\u001b[1;31mKeyboardInterrupt\u001b[0m                         Traceback (most recent call last)",
      "Cell \u001b[1;32mIn[32], line 27\u001b[0m\n\u001b[0;32m     25\u001b[0m     df \u001b[38;5;241m=\u001b[39m pd\u001b[38;5;241m.\u001b[39mDataFrame(stock_price_detail)\n\u001b[0;32m     26\u001b[0m     stock_info_to_db(idx, code, df)\n\u001b[1;32m---> 27\u001b[0m     time\u001b[38;5;241m.\u001b[39msleep(\u001b[38;5;241m0.5\u001b[39m)\n\u001b[0;32m     28\u001b[0m \u001b[38;5;28;01mexcept\u001b[39;00m \u001b[38;5;167;01mException\u001b[39;00m \u001b[38;5;28;01mas\u001b[39;00m e:\n\u001b[0;32m     29\u001b[0m     \u001b[38;5;28mprint\u001b[39m(e)\n",
      "\u001b[1;31mKeyboardInterrupt\u001b[0m: "
     ]
    }
   ],
   "source": [
    "errors = {}\n",
    "for idx, (company, code) in enumerate(zip(data['회사명'], data['종목코드'])):\n",
    "    stock_price_detail = {}\n",
    "    url = f\"https://finance.naver.com/item/main.naver?code={code}\" \n",
    "    try:\n",
    "        r = requests.get(url)\n",
    "        print(r.status_code, f\"{idx+1}/{len(data['종목코드'])} 수집중                    \", end=\"\\r\")\n",
    "        soup = bs(r.text, 'lxml')\n",
    "        # 가격 = 현재가\n",
    "        price = int((soup.select_one(\".today\").text).strip(\"\\n\").split(\"\\n\")[1].replace(\",\", \"\"))\n",
    "        # 전일대비 상승 가격 = 변동 금액\n",
    "        price_chage = int((soup.select_one(\".today\").text).strip(\"\\n\").split(\"\\n\")[9].replace(\",\", \"\"))\n",
    "        # 전일대비 상승 퍼센트 = 변동 비율 = 변화율\n",
    "        rate_of_chage = float(((soup.select_one(\".today\").text).strip(\"\\n\").split(\"\\n\")[13]+(soup.select_one(\".today\").text).strip(\"\\n\").split(\"\\n\")[15]).replace(\"%\",\"\"))\n",
    "        stock_price_detail.setdefault('수집일', []).append(str(date.today()))\n",
    "        stock_price_detail.setdefault('회사명', []).append(company)\n",
    "        stock_price_detail.setdefault('종목코드', []).append(code)\n",
    "        stock_price_detail.setdefault('현재가', []).append(price)\n",
    "        stock_price_detail.setdefault('변동금액', []).append(price_chage)\n",
    "        stock_price_detail.setdefault('변화율', []).append(rate_of_chage)\n",
    "        table = soup.select_one(\".no_info\")\n",
    "        for tr in table.select(\"tr\"):\n",
    "            for td in tr.select('td'):\n",
    "                stock_price_detail.setdefault(td.select_one('span').text, []).append(str2int(td.select_one(\"span.blind\").text))\n",
    "        df = pd.DataFrame(stock_price_detail)\n",
    "        stock_info_to_db(idx, code, df)\n",
    "        time.sleep(0.5)\n",
    "    except Exception as e:\n",
    "        print(e)\n",
    "        print(r.status_code, f\"{idx+1}/{len(data['종목코드'])} 수집중 에러\", end=\"\\r\")\n",
    "        errors.setdefault(\"에러\", []).append(code)  # 에러난 코드들 모음\n",
    "        \n",
    "stock_price_detail"
   ]
  },
  {
   "cell_type": "code",
   "execution_count": null,
   "id": "c22eec04",
   "metadata": {},
   "outputs": [],
   "source": []
  },
  {
   "cell_type": "code",
   "execution_count": null,
   "id": "80dfe1ac",
   "metadata": {},
   "outputs": [],
   "source": [
    "# 1개의 코드만 실행하는 코드들"
   ]
  },
  {
   "cell_type": "code",
   "execution_count": 10,
   "id": "56842209",
   "metadata": {},
   "outputs": [
    {
     "data": {
      "text/plain": [
       "<div class=\"rate_info\">\n",
       "<dl class=\"blind\">\n",
       "<dt><strong>씨어스테크놀로지</strong></dt>\n",
       "<dd>오늘의시세 10,980 포인트</dd>\n",
       "<dd>30 포인트 상승</dd>\n",
       "<dd>0.27% 플러스</dd>\n",
       "</dl>\n",
       "<div class=\"today\">\n",
       "<p class=\"no_today\">\n",
       "<em class=\"no_up\">\n",
       "<span class=\"blind\">10,980</span>\n",
       "<span class=\"no1\">1</span><span class=\"no0\">0</span><span class=\"shim\">,</span><span class=\"no9\">9</span><span class=\"no8\">8</span><span class=\"no0\">0</span>\n",
       "</em>\n",
       "</p>\n",
       "<p class=\"no_exday\">\n",
       "<span class=\"sptxt sp_txt1\">전일대비</span>\n",
       "<em class=\"no_up\">\n",
       "<span class=\"ico up\">상승</span>\n",
       "<span class=\"blind\">30</span>\n",
       "<span class=\"no3\">3</span><span class=\"no0\">0</span>\n",
       "</em>\n",
       "<span class=\"bar\">l</span>\n",
       "<em class=\"no_up\">\n",
       "<span class=\"ico plus\">+</span>\n",
       "<span class=\"blind\">0.27</span>\n",
       "<span class=\"no0\">0</span><span class=\"jum\">.</span><span class=\"no2\">2</span><span class=\"no7\">7</span>\n",
       "<span class=\"per\">%</span>\n",
       "</em>\n",
       "</p>\n",
       "</div>\n",
       "<table class=\"no_info\" summary=\"주요 시세(전일종가, 시고저가, 거래량, 거래대금)을 제공합니다.\">\n",
       "<caption>주요 시세</caption>\n",
       "<colgroup><col/><col width=\"214\"/><col width=\"157\"/></colgroup>\n",
       "<tr>\n",
       "<td class=\"first\">\n",
       "<span class=\"sptxt sp_txt2\">전일</span>\n",
       "<em>\n",
       "<span class=\"blind\">10,950</span>\n",
       "<span class=\"no1\">1</span><span class=\"no0\">0</span><span class=\"shim\">,</span><span class=\"no9\">9</span><span class=\"no5\">5</span><span class=\"no0\">0</span>\n",
       "</em>\n",
       "</td>\n",
       "<td>\n",
       "<span class=\"sptxt sp_txt4\">고가</span>\n",
       "<em class=\"no_up\">\n",
       "<span class=\"blind\">11,100</span><span class=\"no1\">1</span><span class=\"no1\">1</span><span class=\"shim\">,</span><span class=\"no1\">1</span><span class=\"no0\">0</span><span class=\"no0\">0</span>\n",
       "</em>\n",
       "<span class=\"sptxt sp_txt6\">(상한가</span>\n",
       "<em class=\"no_cha\">\n",
       "<span class=\"blind\">14,230</span><span class=\"no1\">1</span><span class=\"no4\">4</span><span class=\"shim\">,</span><span class=\"no2\">2</span><span class=\"no3\">3</span><span class=\"no0\">0</span>\n",
       "</em>\n",
       "<span class=\"sptxt sp_txt8\">)</span>\n",
       "</td>\n",
       "<td>\n",
       "<span class=\"sptxt sp_txt9\">거래량</span>\n",
       "<em>\n",
       "<span class=\"blind\">5,434</span>\n",
       "<span class=\"no5\">5</span><span class=\"shim\">,</span><span class=\"no4\">4</span><span class=\"no3\">3</span><span class=\"no4\">4</span>\n",
       "</em>\n",
       "</td>\n",
       "</tr>\n",
       "<tr>\n",
       "<td class=\"first\">\n",
       "<span class=\"sptxt sp_txt3\">시가</span>\n",
       "<em class=\"no_up\">\n",
       "<span class=\"blind\">11,100</span><span class=\"no1\">1</span><span class=\"no1\">1</span><span class=\"shim\">,</span><span class=\"no1\">1</span><span class=\"no0\">0</span><span class=\"no0\">0</span>\n",
       "</em>\n",
       "</td>\n",
       "<td>\n",
       "<span class=\"sptxt sp_txt5\">저가</span>\n",
       "<em class=\"no_down\">\n",
       "<span class=\"blind\">10,900</span><span class=\"no1\">1</span><span class=\"no0\">0</span><span class=\"shim\">,</span><span class=\"no9\">9</span><span class=\"no0\">0</span><span class=\"no0\">0</span>\n",
       "</em>\n",
       "<span class=\"sptxt sp_txt7\">(하한가</span>\n",
       "<em class=\"no_cha\">\n",
       "<span class=\"no7\">7</span><span class=\"shim\">,</span><span class=\"no6\">6</span><span class=\"no7\">7</span><span class=\"no0\">0</span>\n",
       "</em>\n",
       "<span class=\"sptxt sp_txt8\">)</span>\n",
       "</td>\n",
       "<td>\n",
       "<span class=\"sptxt sp_txt10\">거래대금</span>\n",
       "<em>\n",
       "<span class=\"blind\">60</span>\n",
       "<span class=\"no6\">6</span><span class=\"no0\">0</span>\n",
       "</em>\n",
       "<span class=\"sptxt sp_txt11\">백만</span>\n",
       "</td>\n",
       "</tr>\n",
       "</table>\n",
       "</div>"
      ]
     },
     "execution_count": 10,
     "metadata": {},
     "output_type": "execute_result"
    }
   ],
   "source": [
    "soup.select_one(\".rate_info\")"
   ]
  },
  {
   "cell_type": "code",
   "execution_count": 11,
   "id": "819fa267",
   "metadata": {},
   "outputs": [
    {
     "data": {
      "text/plain": [
       "['10,980',\n",
       " '10,980',\n",
       " '',\n",
       " '',\n",
       " '',\n",
       " '전일대비',\n",
       " '',\n",
       " '상승',\n",
       " '30',\n",
       " '30',\n",
       " '',\n",
       " 'l',\n",
       " '',\n",
       " '+',\n",
       " '0.27',\n",
       " '0.27',\n",
       " '%']"
      ]
     },
     "execution_count": 11,
     "metadata": {},
     "output_type": "execute_result"
    }
   ],
   "source": [
    "(soup.select_one(\".today\").text).strip(\"\\n\").split(\"\\n\")"
   ]
  },
  {
   "cell_type": "code",
   "execution_count": 12,
   "id": "4394ebfa",
   "metadata": {},
   "outputs": [
    {
     "data": {
      "text/plain": [
       "10980"
      ]
     },
     "execution_count": 12,
     "metadata": {},
     "output_type": "execute_result"
    }
   ],
   "source": [
    "# 가격\n",
    "price = int((soup.select_one(\".today\").text).strip(\"\\n\").split(\"\\n\")[1].replace(\",\",\"\"))\n",
    "price"
   ]
  },
  {
   "cell_type": "code",
   "execution_count": 13,
   "id": "e8c13cc2",
   "metadata": {},
   "outputs": [
    {
     "data": {
      "text/plain": [
       "30"
      ]
     },
     "execution_count": 13,
     "metadata": {},
     "output_type": "execute_result"
    }
   ],
   "source": [
    "# 전일대비 상승 가격 = 변동 금액\n",
    "price_change = int((soup.select_one(\".today\").text).strip(\"\\n\").split(\"\\n\")[9].replace(\",\",\"\"))\n",
    "price_change"
   ]
  },
  {
   "cell_type": "code",
   "execution_count": 14,
   "id": "c8881319",
   "metadata": {},
   "outputs": [
    {
     "data": {
      "text/plain": [
       "0.27"
      ]
     },
     "execution_count": 14,
     "metadata": {},
     "output_type": "execute_result"
    }
   ],
   "source": [
    "# 전일대비 상승 퍼센트 = 변동 비율\n",
    "range_of_change = float((soup.select_one(\".today\").text).strip(\"\\n\").split(\"\\n\")[13] + (soup.select_one(\".today\").text).strip(\"\\n\").split(\"\\n\")[15])\n",
    "range_of_change"
   ]
  },
  {
   "cell_type": "code",
   "execution_count": 15,
   "id": "b5698a3e",
   "metadata": {},
   "outputs": [
    {
     "data": {
      "text/plain": [
       "<table class=\"no_info\" summary=\"주요 시세(전일종가, 시고저가, 거래량, 거래대금)을 제공합니다.\">\n",
       "<caption>주요 시세</caption>\n",
       "<colgroup><col/><col width=\"214\"/><col width=\"157\"/></colgroup>\n",
       "<tr>\n",
       "<td class=\"first\">\n",
       "<span class=\"sptxt sp_txt2\">전일</span>\n",
       "<em>\n",
       "<span class=\"blind\">10,950</span>\n",
       "<span class=\"no1\">1</span><span class=\"no0\">0</span><span class=\"shim\">,</span><span class=\"no9\">9</span><span class=\"no5\">5</span><span class=\"no0\">0</span>\n",
       "</em>\n",
       "</td>\n",
       "<td>\n",
       "<span class=\"sptxt sp_txt4\">고가</span>\n",
       "<em class=\"no_up\">\n",
       "<span class=\"blind\">11,100</span><span class=\"no1\">1</span><span class=\"no1\">1</span><span class=\"shim\">,</span><span class=\"no1\">1</span><span class=\"no0\">0</span><span class=\"no0\">0</span>\n",
       "</em>\n",
       "<span class=\"sptxt sp_txt6\">(상한가</span>\n",
       "<em class=\"no_cha\">\n",
       "<span class=\"blind\">14,230</span><span class=\"no1\">1</span><span class=\"no4\">4</span><span class=\"shim\">,</span><span class=\"no2\">2</span><span class=\"no3\">3</span><span class=\"no0\">0</span>\n",
       "</em>\n",
       "<span class=\"sptxt sp_txt8\">)</span>\n",
       "</td>\n",
       "<td>\n",
       "<span class=\"sptxt sp_txt9\">거래량</span>\n",
       "<em>\n",
       "<span class=\"blind\">5,434</span>\n",
       "<span class=\"no5\">5</span><span class=\"shim\">,</span><span class=\"no4\">4</span><span class=\"no3\">3</span><span class=\"no4\">4</span>\n",
       "</em>\n",
       "</td>\n",
       "</tr>\n",
       "<tr>\n",
       "<td class=\"first\">\n",
       "<span class=\"sptxt sp_txt3\">시가</span>\n",
       "<em class=\"no_up\">\n",
       "<span class=\"blind\">11,100</span><span class=\"no1\">1</span><span class=\"no1\">1</span><span class=\"shim\">,</span><span class=\"no1\">1</span><span class=\"no0\">0</span><span class=\"no0\">0</span>\n",
       "</em>\n",
       "</td>\n",
       "<td>\n",
       "<span class=\"sptxt sp_txt5\">저가</span>\n",
       "<em class=\"no_down\">\n",
       "<span class=\"blind\">10,900</span><span class=\"no1\">1</span><span class=\"no0\">0</span><span class=\"shim\">,</span><span class=\"no9\">9</span><span class=\"no0\">0</span><span class=\"no0\">0</span>\n",
       "</em>\n",
       "<span class=\"sptxt sp_txt7\">(하한가</span>\n",
       "<em class=\"no_cha\">\n",
       "<span class=\"no7\">7</span><span class=\"shim\">,</span><span class=\"no6\">6</span><span class=\"no7\">7</span><span class=\"no0\">0</span>\n",
       "</em>\n",
       "<span class=\"sptxt sp_txt8\">)</span>\n",
       "</td>\n",
       "<td>\n",
       "<span class=\"sptxt sp_txt10\">거래대금</span>\n",
       "<em>\n",
       "<span class=\"blind\">60</span>\n",
       "<span class=\"no6\">6</span><span class=\"no0\">0</span>\n",
       "</em>\n",
       "<span class=\"sptxt sp_txt11\">백만</span>\n",
       "</td>\n",
       "</tr>\n",
       "</table>"
      ]
     },
     "execution_count": 15,
     "metadata": {},
     "output_type": "execute_result"
    }
   ],
   "source": [
    "table = soup.select_one('.no_info')\n",
    "table"
   ]
  },
  {
   "cell_type": "code",
   "execution_count": 16,
   "id": "00f761cc",
   "metadata": {},
   "outputs": [
    {
     "data": {
      "text/plain": [
       "'10,950'"
      ]
     },
     "execution_count": 16,
     "metadata": {},
     "output_type": "execute_result"
    }
   ],
   "source": [
    "table.select(\"tr\")[0].select_one(\"td span.blind\").text"
   ]
  },
  {
   "cell_type": "code",
   "execution_count": 17,
   "id": "cd73a757",
   "metadata": {},
   "outputs": [
    {
     "data": {
      "text/plain": [
       "'\\n\\n전일\\n\\n10,950\\n10,950\\n\\n\\n\\n고가\\n\\n11,10011,100\\n\\n(상한가\\n\\n14,23014,230\\n\\n)\\n\\n\\n거래량\\n\\n5,434\\n5,434\\n\\n\\n'"
      ]
     },
     "execution_count": 17,
     "metadata": {},
     "output_type": "execute_result"
    }
   ],
   "source": [
    "table.select(\"tr\")[0].text"
   ]
  },
  {
   "cell_type": "code",
   "execution_count": 18,
   "id": "0a06f0be",
   "metadata": {},
   "outputs": [],
   "source": [
    "def str2int(x):\n",
    "    x = int(x.replace(\",\", \"\"))\n",
    "    return x"
   ]
  },
  {
   "cell_type": "code",
   "execution_count": 19,
   "id": "bd1711ea",
   "metadata": {},
   "outputs": [
    {
     "data": {
      "text/plain": [
       "{'전일': [10950],\n",
       " '고가': [11100],\n",
       " '거래량': [5434],\n",
       " '시가': [11100],\n",
       " '저가': [10900],\n",
       " '거래대금': [60]}"
      ]
     },
     "execution_count": 19,
     "metadata": {},
     "output_type": "execute_result"
    }
   ],
   "source": [
    "stock_price_detail = {}\n",
    "for tr in table.select(\"tr\"):\n",
    "    for td in tr.select('td'):\n",
    "        stock_price_detail.setdefault(td.select_one('span').text, []).append(str2int(td.select_one('span.blind').text))\n",
    "stock_price_detail       "
   ]
  },
  {
   "cell_type": "code",
   "execution_count": null,
   "id": "2bfb00eb",
   "metadata": {},
   "outputs": [],
   "source": [
    "# 여기까지"
   ]
  },
  {
   "cell_type": "code",
   "execution_count": null,
   "id": "23cab46d",
   "metadata": {},
   "outputs": [],
   "source": []
  },
  {
   "cell_type": "code",
   "execution_count": null,
   "id": "09ede6bb",
   "metadata": {},
   "outputs": [],
   "source": []
  },
  {
   "cell_type": "code",
   "execution_count": null,
   "id": "6e75e385",
   "metadata": {},
   "outputs": [],
   "source": []
  },
  {
   "cell_type": "code",
   "execution_count": null,
   "id": "32721a7b",
   "metadata": {},
   "outputs": [],
   "source": []
  },
  {
   "cell_type": "code",
   "execution_count": null,
   "id": "3608776f",
   "metadata": {},
   "outputs": [],
   "source": []
  },
  {
   "cell_type": "code",
   "execution_count": null,
   "id": "8f4bd09f",
   "metadata": {},
   "outputs": [],
   "source": []
  },
  {
   "cell_type": "code",
   "execution_count": null,
   "id": "fad0db5b",
   "metadata": {},
   "outputs": [],
   "source": []
  },
  {
   "cell_type": "code",
   "execution_count": null,
   "id": "239057c0",
   "metadata": {},
   "outputs": [],
   "source": []
  },
  {
   "cell_type": "code",
   "execution_count": null,
   "id": "c644d8d0",
   "metadata": {},
   "outputs": [],
   "source": []
  },
  {
   "cell_type": "code",
   "execution_count": null,
   "id": "7bb34186",
   "metadata": {},
   "outputs": [],
   "source": []
  },
  {
   "cell_type": "code",
   "execution_count": null,
   "id": "b0e27fcc",
   "metadata": {},
   "outputs": [],
   "source": []
  },
  {
   "cell_type": "code",
   "execution_count": null,
   "id": "c46d2774",
   "metadata": {},
   "outputs": [],
   "source": []
  },
  {
   "cell_type": "code",
   "execution_count": null,
   "id": "8545d9e7",
   "metadata": {},
   "outputs": [],
   "source": []
  },
  {
   "cell_type": "code",
   "execution_count": null,
   "id": "cee9b8c8",
   "metadata": {},
   "outputs": [],
   "source": []
  },
  {
   "cell_type": "code",
   "execution_count": null,
   "id": "302a87d0",
   "metadata": {},
   "outputs": [],
   "source": []
  },
  {
   "cell_type": "code",
   "execution_count": null,
   "id": "7a65a9bd",
   "metadata": {},
   "outputs": [],
   "source": []
  },
  {
   "cell_type": "code",
   "execution_count": null,
   "id": "ab34b984",
   "metadata": {},
   "outputs": [],
   "source": []
  },
  {
   "cell_type": "code",
   "execution_count": null,
   "id": "ee50177d",
   "metadata": {},
   "outputs": [],
   "source": []
  },
  {
   "cell_type": "code",
   "execution_count": null,
   "id": "6edd1108",
   "metadata": {},
   "outputs": [],
   "source": []
  },
  {
   "cell_type": "code",
   "execution_count": null,
   "id": "e465f0fd",
   "metadata": {},
   "outputs": [],
   "source": []
  },
  {
   "cell_type": "code",
   "execution_count": null,
   "id": "d1524c0f",
   "metadata": {},
   "outputs": [],
   "source": []
  },
  {
   "cell_type": "code",
   "execution_count": null,
   "id": "7ca0b137",
   "metadata": {},
   "outputs": [],
   "source": []
  },
  {
   "cell_type": "code",
   "execution_count": null,
   "id": "a5d54df0",
   "metadata": {},
   "outputs": [],
   "source": []
  },
  {
   "cell_type": "code",
   "execution_count": null,
   "id": "83b19eb8",
   "metadata": {},
   "outputs": [],
   "source": []
  },
  {
   "cell_type": "code",
   "execution_count": null,
   "id": "52a095f9",
   "metadata": {},
   "outputs": [],
   "source": []
  },
  {
   "cell_type": "code",
   "execution_count": null,
   "id": "713dab5f",
   "metadata": {},
   "outputs": [],
   "source": []
  },
  {
   "cell_type": "code",
   "execution_count": null,
   "id": "1bc04825",
   "metadata": {},
   "outputs": [],
   "source": []
  },
  {
   "cell_type": "code",
   "execution_count": null,
   "id": "5dcf7aa1",
   "metadata": {},
   "outputs": [],
   "source": []
  },
  {
   "cell_type": "code",
   "execution_count": null,
   "id": "db3fb0e6",
   "metadata": {},
   "outputs": [],
   "source": []
  },
  {
   "cell_type": "code",
   "execution_count": null,
   "id": "9d402e63",
   "metadata": {},
   "outputs": [],
   "source": []
  }
 ],
 "metadata": {
  "kernelspec": {
   "display_name": "Python 3 (ipykernel)",
   "language": "python",
   "name": "python3"
  },
  "language_info": {
   "codemirror_mode": {
    "name": "ipython",
    "version": 3
   },
   "file_extension": ".py",
   "mimetype": "text/x-python",
   "name": "python",
   "nbconvert_exporter": "python",
   "pygments_lexer": "ipython3",
   "version": "3.11.9"
  }
 },
 "nbformat": 4,
 "nbformat_minor": 5
}
